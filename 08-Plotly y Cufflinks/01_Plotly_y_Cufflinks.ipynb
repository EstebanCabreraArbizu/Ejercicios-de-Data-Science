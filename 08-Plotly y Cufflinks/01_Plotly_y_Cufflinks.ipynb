{
  "cells": [
    {
      "cell_type": "markdown",
      "metadata": {
        "id": "view-in-github",
        "colab_type": "text"
      },
      "source": [
        "<a href=\"https://colab.research.google.com/github/EstebanCabreraArbizu/Ejercicios-de-Data-Science/blob/main/08-Plotly%20y%20Cufflinks/01_Plotly_y_Cufflinks.ipynb\" target=\"_parent\"><img src=\"https://colab.research.google.com/assets/colab-badge.svg\" alt=\"Open In Colab\"/></a>"
      ]
    },
    {
      "cell_type": "markdown",
      "metadata": {
        "id": "vkmGCcuCx6kv"
      },
      "source": [
        "___\n",
        "\n",
        "<a href='https://plotly.com/python/'> <img src='https://plotly.com/all_static/images/plotly_graphing_libraries_1.png' /></a>\n",
        "___\n",
        "# Plotly y Cufflinks"
      ]
    },
    {
      "cell_type": "markdown",
      "metadata": {
        "id": "GeyWwIJ6x6kx"
      },
      "source": [
        "**Plotly** es una libreria que permite crear gráficos interactivos para poder usarse en cuadros de mando o sitios web (se pueden guardar como archivos html o imágenes estáticas).\n",
        "\n",
        "**Cufflinks** es una libreria que conecta un dataframe de Pandas con Plotly, lo que permite a los usuarios crear visualizaciones directamente desde Pandas. Esta libreria une el poder de Plotly con la flexibilidad de Pandas para facilitar la visualización de los datos.\n",
        "\n",
        "## Instalación\n",
        "\n",
        "Para que todo esto funcione, se deberá instalar plotly y cufflinks para llamar a los gráficos directamente desde un dataframe de Pandas. Estas librerias no están disponibles actualmente a través de Conda, pero están disponibles a través de pip . Instalar las librerias en su línea de comando/terminal usando:\n",
        "\n",
        "    pip install plotly\n",
        "    pip install cufflinks\n",
        "\n",
        "## Importaciones y configuración "
      ]
    },
    {
      "cell_type": "code",
      "execution_count": null,
      "metadata": {
        "id": "diBCORXMx6kx"
      },
      "outputs": [],
      "source": [
        "import pandas as pd\n",
        "import numpy as np\n",
        "%matplotlib inline"
      ]
    },
    {
      "cell_type": "code",
      "execution_count": null,
      "metadata": {
        "colab": {
          "base_uri": "https://localhost:8080/"
        },
        "id": "d7ORgcJhx6ky",
        "outputId": "e166cf7e-58a9-41fb-c6c2-6d4a00f3ea4d"
      },
      "outputs": [
        {
          "output_type": "stream",
          "name": "stdout",
          "text": [
            "5.13.1\n"
          ]
        }
      ],
      "source": [
        "from plotly import __version__\n",
        "from plotly.offline import download_plotlyjs, init_notebook_mode, plot, iplot\n",
        "\n",
        "print(__version__) # requires version >= 1.9.0"
      ]
    },
    {
      "cell_type": "code",
      "execution_count": null,
      "metadata": {
        "id": "ZkRr55zFx6ky"
      },
      "outputs": [],
      "source": [
        "import cufflinks as cf"
      ]
    },
    {
      "cell_type": "code",
      "execution_count": null,
      "metadata": {
        "colab": {
          "base_uri": "https://localhost:8080/",
          "height": 17
        },
        "id": "gR3Y4L77x6ky",
        "outputId": "eccaff56-0f13-4e43-d86f-6d3556c1ffe7"
      },
      "outputs": [
        {
          "output_type": "display_data",
          "data": {
            "text/html": [
              "        <script type=\"text/javascript\">\n",
              "        window.PlotlyConfig = {MathJaxConfig: 'local'};\n",
              "        if (window.MathJax && window.MathJax.Hub && window.MathJax.Hub.Config) {window.MathJax.Hub.Config({SVG: {font: \"STIX-Web\"}});}\n",
              "        if (typeof require !== 'undefined') {\n",
              "        require.undef(\"plotly\");\n",
              "        requirejs.config({\n",
              "            paths: {\n",
              "                'plotly': ['https://cdn.plot.ly/plotly-2.18.2.min']\n",
              "            }\n",
              "        });\n",
              "        require(['plotly'], function(Plotly) {\n",
              "            window._Plotly = Plotly;\n",
              "        });\n",
              "        }\n",
              "        </script>\n",
              "        "
            ]
          },
          "metadata": {}
        }
      ],
      "source": [
        "# Para Notebooks\n",
        "init_notebook_mode(connected=True)"
      ]
    },
    {
      "cell_type": "code",
      "execution_count": null,
      "metadata": {
        "colab": {
          "base_uri": "https://localhost:8080/",
          "height": 17
        },
        "id": "yGLIOJc6x6kz",
        "outputId": "a383db9e-6956-4f12-d67d-a1ddc5f45a06"
      },
      "outputs": [
        {
          "output_type": "display_data",
          "data": {
            "text/html": [
              "        <script type=\"text/javascript\">\n",
              "        window.PlotlyConfig = {MathJaxConfig: 'local'};\n",
              "        if (window.MathJax && window.MathJax.Hub && window.MathJax.Hub.Config) {window.MathJax.Hub.Config({SVG: {font: \"STIX-Web\"}});}\n",
              "        if (typeof require !== 'undefined') {\n",
              "        require.undef(\"plotly\");\n",
              "        requirejs.config({\n",
              "            paths: {\n",
              "                'plotly': ['https://cdn.plot.ly/plotly-2.18.2.min']\n",
              "            }\n",
              "        });\n",
              "        require(['plotly'], function(Plotly) {\n",
              "            window._Plotly = Plotly;\n",
              "        });\n",
              "        }\n",
              "        </script>\n",
              "        "
            ]
          },
          "metadata": {}
        }
      ],
      "source": [
        "# Para uso offline colocar\n",
        "cf.go_offline()"
      ]
    },
    {
      "cell_type": "code",
      "source": [
        "#Para que se ejecute correctamente en colab\n",
        "import plotly.io as pi\n",
        "pi.renderers.default = \"colab\""
      ],
      "metadata": {
        "id": "89IDKdQv0sz8"
      },
      "execution_count": null,
      "outputs": []
    },
    {
      "cell_type": "markdown",
      "metadata": {
        "id": "KpmYBfCbx6kz"
      },
      "source": [
        "### Datos de prueba"
      ]
    },
    {
      "cell_type": "code",
      "execution_count": null,
      "metadata": {
        "id": "NNmPLXvEx6kz"
      },
      "outputs": [],
      "source": [
        "df = pd.DataFrame(np.random.randn(100,4),columns='A B C D'.split())"
      ]
    },
    {
      "cell_type": "code",
      "execution_count": null,
      "metadata": {
        "colab": {
          "base_uri": "https://localhost:8080/",
          "height": 206
        },
        "id": "HTBub5Xex6kz",
        "outputId": "cc8234fb-b261-48ff-ff68-a173f059dee2"
      },
      "outputs": [
        {
          "output_type": "execute_result",
          "data": {
            "text/plain": [
              "          A         B         C         D\n",
              "0  0.769178 -1.642319  0.334697  1.266261\n",
              "1  0.593098  0.419632 -1.233632  1.076068\n",
              "2 -0.826818 -1.349648  0.623081 -0.465024\n",
              "3 -1.479894 -0.799036  1.050885 -0.216470\n",
              "4  0.754675  1.049804  0.453022  0.286013"
            ],
            "text/html": [
              "\n",
              "  <div id=\"df-c0758aaa-fa45-4c41-9734-c70af00e3f18\">\n",
              "    <div class=\"colab-df-container\">\n",
              "      <div>\n",
              "<style scoped>\n",
              "    .dataframe tbody tr th:only-of-type {\n",
              "        vertical-align: middle;\n",
              "    }\n",
              "\n",
              "    .dataframe tbody tr th {\n",
              "        vertical-align: top;\n",
              "    }\n",
              "\n",
              "    .dataframe thead th {\n",
              "        text-align: right;\n",
              "    }\n",
              "</style>\n",
              "<table border=\"1\" class=\"dataframe\">\n",
              "  <thead>\n",
              "    <tr style=\"text-align: right;\">\n",
              "      <th></th>\n",
              "      <th>A</th>\n",
              "      <th>B</th>\n",
              "      <th>C</th>\n",
              "      <th>D</th>\n",
              "    </tr>\n",
              "  </thead>\n",
              "  <tbody>\n",
              "    <tr>\n",
              "      <th>0</th>\n",
              "      <td>0.769178</td>\n",
              "      <td>-1.642319</td>\n",
              "      <td>0.334697</td>\n",
              "      <td>1.266261</td>\n",
              "    </tr>\n",
              "    <tr>\n",
              "      <th>1</th>\n",
              "      <td>0.593098</td>\n",
              "      <td>0.419632</td>\n",
              "      <td>-1.233632</td>\n",
              "      <td>1.076068</td>\n",
              "    </tr>\n",
              "    <tr>\n",
              "      <th>2</th>\n",
              "      <td>-0.826818</td>\n",
              "      <td>-1.349648</td>\n",
              "      <td>0.623081</td>\n",
              "      <td>-0.465024</td>\n",
              "    </tr>\n",
              "    <tr>\n",
              "      <th>3</th>\n",
              "      <td>-1.479894</td>\n",
              "      <td>-0.799036</td>\n",
              "      <td>1.050885</td>\n",
              "      <td>-0.216470</td>\n",
              "    </tr>\n",
              "    <tr>\n",
              "      <th>4</th>\n",
              "      <td>0.754675</td>\n",
              "      <td>1.049804</td>\n",
              "      <td>0.453022</td>\n",
              "      <td>0.286013</td>\n",
              "    </tr>\n",
              "  </tbody>\n",
              "</table>\n",
              "</div>\n",
              "      <button class=\"colab-df-convert\" onclick=\"convertToInteractive('df-c0758aaa-fa45-4c41-9734-c70af00e3f18')\"\n",
              "              title=\"Convert this dataframe to an interactive table.\"\n",
              "              style=\"display:none;\">\n",
              "        \n",
              "  <svg xmlns=\"http://www.w3.org/2000/svg\" height=\"24px\"viewBox=\"0 0 24 24\"\n",
              "       width=\"24px\">\n",
              "    <path d=\"M0 0h24v24H0V0z\" fill=\"none\"/>\n",
              "    <path d=\"M18.56 5.44l.94 2.06.94-2.06 2.06-.94-2.06-.94-.94-2.06-.94 2.06-2.06.94zm-11 1L8.5 8.5l.94-2.06 2.06-.94-2.06-.94L8.5 2.5l-.94 2.06-2.06.94zm10 10l.94 2.06.94-2.06 2.06-.94-2.06-.94-.94-2.06-.94 2.06-2.06.94z\"/><path d=\"M17.41 7.96l-1.37-1.37c-.4-.4-.92-.59-1.43-.59-.52 0-1.04.2-1.43.59L10.3 9.45l-7.72 7.72c-.78.78-.78 2.05 0 2.83L4 21.41c.39.39.9.59 1.41.59.51 0 1.02-.2 1.41-.59l7.78-7.78 2.81-2.81c.8-.78.8-2.07 0-2.86zM5.41 20L4 18.59l7.72-7.72 1.47 1.35L5.41 20z\"/>\n",
              "  </svg>\n",
              "      </button>\n",
              "      \n",
              "  <style>\n",
              "    .colab-df-container {\n",
              "      display:flex;\n",
              "      flex-wrap:wrap;\n",
              "      gap: 12px;\n",
              "    }\n",
              "\n",
              "    .colab-df-convert {\n",
              "      background-color: #E8F0FE;\n",
              "      border: none;\n",
              "      border-radius: 50%;\n",
              "      cursor: pointer;\n",
              "      display: none;\n",
              "      fill: #1967D2;\n",
              "      height: 32px;\n",
              "      padding: 0 0 0 0;\n",
              "      width: 32px;\n",
              "    }\n",
              "\n",
              "    .colab-df-convert:hover {\n",
              "      background-color: #E2EBFA;\n",
              "      box-shadow: 0px 1px 2px rgba(60, 64, 67, 0.3), 0px 1px 3px 1px rgba(60, 64, 67, 0.15);\n",
              "      fill: #174EA6;\n",
              "    }\n",
              "\n",
              "    [theme=dark] .colab-df-convert {\n",
              "      background-color: #3B4455;\n",
              "      fill: #D2E3FC;\n",
              "    }\n",
              "\n",
              "    [theme=dark] .colab-df-convert:hover {\n",
              "      background-color: #434B5C;\n",
              "      box-shadow: 0px 1px 3px 1px rgba(0, 0, 0, 0.15);\n",
              "      filter: drop-shadow(0px 1px 2px rgba(0, 0, 0, 0.3));\n",
              "      fill: #FFFFFF;\n",
              "    }\n",
              "  </style>\n",
              "\n",
              "      <script>\n",
              "        const buttonEl =\n",
              "          document.querySelector('#df-c0758aaa-fa45-4c41-9734-c70af00e3f18 button.colab-df-convert');\n",
              "        buttonEl.style.display =\n",
              "          google.colab.kernel.accessAllowed ? 'block' : 'none';\n",
              "\n",
              "        async function convertToInteractive(key) {\n",
              "          const element = document.querySelector('#df-c0758aaa-fa45-4c41-9734-c70af00e3f18');\n",
              "          const dataTable =\n",
              "            await google.colab.kernel.invokeFunction('convertToInteractive',\n",
              "                                                     [key], {});\n",
              "          if (!dataTable) return;\n",
              "\n",
              "          const docLinkHtml = 'Like what you see? Visit the ' +\n",
              "            '<a target=\"_blank\" href=https://colab.research.google.com/notebooks/data_table.ipynb>data table notebook</a>'\n",
              "            + ' to learn more about interactive tables.';\n",
              "          element.innerHTML = '';\n",
              "          dataTable['output_type'] = 'display_data';\n",
              "          await google.colab.output.renderOutput(dataTable, element);\n",
              "          const docLink = document.createElement('div');\n",
              "          docLink.innerHTML = docLinkHtml;\n",
              "          element.appendChild(docLink);\n",
              "        }\n",
              "      </script>\n",
              "    </div>\n",
              "  </div>\n",
              "  "
            ]
          },
          "metadata": {},
          "execution_count": 7
        }
      ],
      "source": [
        "df.head()"
      ]
    },
    {
      "cell_type": "code",
      "execution_count": null,
      "metadata": {
        "id": "wfYOfGbhx6kz"
      },
      "outputs": [],
      "source": [
        "df2 = pd.DataFrame({'Category':['A','B','C'],'Values':[32,43,50]})"
      ]
    },
    {
      "cell_type": "code",
      "execution_count": null,
      "metadata": {
        "colab": {
          "base_uri": "https://localhost:8080/",
          "height": 143
        },
        "id": "T16WU1xcx6kz",
        "outputId": "f8facc06-9a87-45b0-efb2-7a190c5ea299"
      },
      "outputs": [
        {
          "output_type": "execute_result",
          "data": {
            "text/plain": [
              "  Category  Values\n",
              "0        A      32\n",
              "1        B      43\n",
              "2        C      50"
            ],
            "text/html": [
              "\n",
              "  <div id=\"df-bee304e3-ea4d-4b70-ab83-343bbe28045f\">\n",
              "    <div class=\"colab-df-container\">\n",
              "      <div>\n",
              "<style scoped>\n",
              "    .dataframe tbody tr th:only-of-type {\n",
              "        vertical-align: middle;\n",
              "    }\n",
              "\n",
              "    .dataframe tbody tr th {\n",
              "        vertical-align: top;\n",
              "    }\n",
              "\n",
              "    .dataframe thead th {\n",
              "        text-align: right;\n",
              "    }\n",
              "</style>\n",
              "<table border=\"1\" class=\"dataframe\">\n",
              "  <thead>\n",
              "    <tr style=\"text-align: right;\">\n",
              "      <th></th>\n",
              "      <th>Category</th>\n",
              "      <th>Values</th>\n",
              "    </tr>\n",
              "  </thead>\n",
              "  <tbody>\n",
              "    <tr>\n",
              "      <th>0</th>\n",
              "      <td>A</td>\n",
              "      <td>32</td>\n",
              "    </tr>\n",
              "    <tr>\n",
              "      <th>1</th>\n",
              "      <td>B</td>\n",
              "      <td>43</td>\n",
              "    </tr>\n",
              "    <tr>\n",
              "      <th>2</th>\n",
              "      <td>C</td>\n",
              "      <td>50</td>\n",
              "    </tr>\n",
              "  </tbody>\n",
              "</table>\n",
              "</div>\n",
              "      <button class=\"colab-df-convert\" onclick=\"convertToInteractive('df-bee304e3-ea4d-4b70-ab83-343bbe28045f')\"\n",
              "              title=\"Convert this dataframe to an interactive table.\"\n",
              "              style=\"display:none;\">\n",
              "        \n",
              "  <svg xmlns=\"http://www.w3.org/2000/svg\" height=\"24px\"viewBox=\"0 0 24 24\"\n",
              "       width=\"24px\">\n",
              "    <path d=\"M0 0h24v24H0V0z\" fill=\"none\"/>\n",
              "    <path d=\"M18.56 5.44l.94 2.06.94-2.06 2.06-.94-2.06-.94-.94-2.06-.94 2.06-2.06.94zm-11 1L8.5 8.5l.94-2.06 2.06-.94-2.06-.94L8.5 2.5l-.94 2.06-2.06.94zm10 10l.94 2.06.94-2.06 2.06-.94-2.06-.94-.94-2.06-.94 2.06-2.06.94z\"/><path d=\"M17.41 7.96l-1.37-1.37c-.4-.4-.92-.59-1.43-.59-.52 0-1.04.2-1.43.59L10.3 9.45l-7.72 7.72c-.78.78-.78 2.05 0 2.83L4 21.41c.39.39.9.59 1.41.59.51 0 1.02-.2 1.41-.59l7.78-7.78 2.81-2.81c.8-.78.8-2.07 0-2.86zM5.41 20L4 18.59l7.72-7.72 1.47 1.35L5.41 20z\"/>\n",
              "  </svg>\n",
              "      </button>\n",
              "      \n",
              "  <style>\n",
              "    .colab-df-container {\n",
              "      display:flex;\n",
              "      flex-wrap:wrap;\n",
              "      gap: 12px;\n",
              "    }\n",
              "\n",
              "    .colab-df-convert {\n",
              "      background-color: #E8F0FE;\n",
              "      border: none;\n",
              "      border-radius: 50%;\n",
              "      cursor: pointer;\n",
              "      display: none;\n",
              "      fill: #1967D2;\n",
              "      height: 32px;\n",
              "      padding: 0 0 0 0;\n",
              "      width: 32px;\n",
              "    }\n",
              "\n",
              "    .colab-df-convert:hover {\n",
              "      background-color: #E2EBFA;\n",
              "      box-shadow: 0px 1px 2px rgba(60, 64, 67, 0.3), 0px 1px 3px 1px rgba(60, 64, 67, 0.15);\n",
              "      fill: #174EA6;\n",
              "    }\n",
              "\n",
              "    [theme=dark] .colab-df-convert {\n",
              "      background-color: #3B4455;\n",
              "      fill: #D2E3FC;\n",
              "    }\n",
              "\n",
              "    [theme=dark] .colab-df-convert:hover {\n",
              "      background-color: #434B5C;\n",
              "      box-shadow: 0px 1px 3px 1px rgba(0, 0, 0, 0.15);\n",
              "      filter: drop-shadow(0px 1px 2px rgba(0, 0, 0, 0.3));\n",
              "      fill: #FFFFFF;\n",
              "    }\n",
              "  </style>\n",
              "\n",
              "      <script>\n",
              "        const buttonEl =\n",
              "          document.querySelector('#df-bee304e3-ea4d-4b70-ab83-343bbe28045f button.colab-df-convert');\n",
              "        buttonEl.style.display =\n",
              "          google.colab.kernel.accessAllowed ? 'block' : 'none';\n",
              "\n",
              "        async function convertToInteractive(key) {\n",
              "          const element = document.querySelector('#df-bee304e3-ea4d-4b70-ab83-343bbe28045f');\n",
              "          const dataTable =\n",
              "            await google.colab.kernel.invokeFunction('convertToInteractive',\n",
              "                                                     [key], {});\n",
              "          if (!dataTable) return;\n",
              "\n",
              "          const docLinkHtml = 'Like what you see? Visit the ' +\n",
              "            '<a target=\"_blank\" href=https://colab.research.google.com/notebooks/data_table.ipynb>data table notebook</a>'\n",
              "            + ' to learn more about interactive tables.';\n",
              "          element.innerHTML = '';\n",
              "          dataTable['output_type'] = 'display_data';\n",
              "          await google.colab.output.renderOutput(dataTable, element);\n",
              "          const docLink = document.createElement('div');\n",
              "          docLink.innerHTML = docLinkHtml;\n",
              "          element.appendChild(docLink);\n",
              "        }\n",
              "      </script>\n",
              "    </div>\n",
              "  </div>\n",
              "  "
            ]
          },
          "metadata": {},
          "execution_count": 9
        }
      ],
      "source": [
        "df2.head()"
      ]
    },
    {
      "cell_type": "markdown",
      "metadata": {
        "id": "QWB88kWZx6kz"
      },
      "source": [
        "## Usando Cufflinks e iplot()\n",
        "\n",
        "* Scatter\n",
        "* Bar\n",
        "* Boxplot\n",
        "* 3D surface\n",
        "* Histograma\n",
        "* Burbujas"
      ]
    },
    {
      "cell_type": "markdown",
      "metadata": {
        "id": "M-OD297Lx6k0"
      },
      "source": [
        "## Scatter"
      ]
    },
    {
      "cell_type": "code",
      "execution_count": null,
      "metadata": {
        "colab": {
          "base_uri": "https://localhost:8080/",
          "height": 542
        },
        "id": "O-S-jdU7x6k0",
        "outputId": "1e38fe3e-8520-4cb6-983b-db20cad8cd5d"
      },
      "outputs": [
        {
          "output_type": "display_data",
          "data": {
            "text/html": [
              "<html>\n",
              "<head><meta charset=\"utf-8\" /></head>\n",
              "<body>\n",
              "    <div>            <script src=\"https://cdnjs.cloudflare.com/ajax/libs/mathjax/2.7.5/MathJax.js?config=TeX-AMS-MML_SVG\"></script><script type=\"text/javascript\">if (window.MathJax && window.MathJax.Hub && window.MathJax.Hub.Config) {window.MathJax.Hub.Config({SVG: {font: \"STIX-Web\"}});}</script>                <script type=\"text/javascript\">window.PlotlyConfig = {MathJaxConfig: 'local'};</script>\n",
              "        <script src=\"https://cdn.plot.ly/plotly-2.18.2.min.js\"></script>                <div id=\"6581fbbe-8a1f-40a4-b678-df2be8751f42\" class=\"plotly-graph-div\" style=\"height:525px; width:100%;\"></div>            <script type=\"text/javascript\">                                    window.PLOTLYENV=window.PLOTLYENV || {};\n",
              "                    window.PLOTLYENV.BASE_URL='https://plot.ly';                                    if (document.getElementById(\"6581fbbe-8a1f-40a4-b678-df2be8751f42\")) {                    Plotly.newPlot(                        \"6581fbbe-8a1f-40a4-b678-df2be8751f42\",                        [{\"line\":{\"color\":\"rgba(255, 153, 51, 1.0)\",\"dash\":\"solid\",\"shape\":\"linear\",\"width\":1.3},\"marker\":{\"size\":10,\"symbol\":\"circle\"},\"mode\":\"markers\",\"name\":\"B\",\"text\":\"\",\"x\":[0.7691784995835123,0.5930975967058625,-0.8268180066062986,-1.4798937866546928,0.7546745829779332,0.6854352617460164,-0.9980087611564901,2.082481774975682,1.0360799714321085,-0.5596362244966987,-0.4869325693186466,-1.1467822517709811,0.4897042733196294,0.11255858318338514,-1.1429485654044176,-0.9852914367655755,1.1480072970446293,-0.38597731027090054,0.561381109685678,-1.4788691449109457,-2.5183766293620664,1.3494893180333873,0.808904714221283,-0.7252819239872144,0.739264054916365,-0.20560381238890352,0.11150178330403865,-0.21161588835368772,-1.6798392261307484,-0.6557693322864646,0.8026980565550529,1.30935491670183,-0.5827564322818811,-1.1468198545339872,-0.6873515814990135,-0.7307769401939949,0.1266589675223329,-0.5658110859011868,-0.9436357486116467,-0.4178120060319037,1.419424789660255,-0.2651943745852867,-2.459041283650597,0.5478598433502244,0.4836680796627568,0.9059419699109957,-1.3899236392935883,0.5578669304961553,-1.9002122940451187,-1.9699139583988612,0.836250917555081,1.3456989828293007,0.8239295568867382,0.7480630363394505,-0.5328117074983701,-0.5123635408948722,-0.7632442896479691,0.5475055637793234,0.6678416048116295,0.6553732559593416,-0.364076208655999,1.1801295122649056,0.4538652326765641,-0.6896136898454142,0.2294735712125904,-0.3331820156127166,0.9496126012595382,-0.17413536594199125,0.09518152978652615,0.85478433862581,1.202127798049566,-0.18773084155997413,-0.541326316467827,-0.07027920343429209,1.0648549407021457,-1.1829387646048528,1.1227355338247973,0.41221007873289445,-1.2712097170864594,-0.19393312163221857,-0.5975178679184429,-0.4237759477495272,0.6889886810013593,0.06733322248016295,-1.4036666135457831,1.0982141227922406,-0.1356842299784047,1.7081511706167924,-0.6779923099372411,-0.9169636700006659,1.4290890597982628,-1.6806884500548356,0.16088601862836888,0.4224880669513213,0.2541082332237526,1.012220061824921,0.1270682525630813,-1.5139400438464683,0.4208509888726101,0.10954115488873355],\"y\":[-1.6423187482682884,0.41963168348187535,-1.3496479565759631,-0.7990361289514452,1.0498037657974644,-1.4684911257784452,0.26529632352818244,1.1210444123093954,-0.8543052531017374,0.4936004792092293,0.3352964969986158,-0.8335670998872349,-0.873768927822603,0.838989083278963,0.6596806063582598,-0.4360417505026612,-0.7947653405354053,0.14152119373257438,-1.338146052069779,-0.20681637187432067,0.6862975890764074,0.6238965610420034,1.563221795575264,1.8777758510451736,-0.12962890082266365,0.814717176296732,0.6670823309262822,-2.6319140690241842,-0.7398901828927356,3.017548881587734,2.80896151749723,-0.35186053953479296,-0.519248020044265,2.183418909317853,0.33325356856113764,-0.1427680004214156,-1.4033215382841377,-0.031785386858465804,-1.0360737038457462,1.9383566722100194,0.922923719865304,1.052425126856661,1.6151167858507176,-0.29592404346606044,0.4672427362889414,-0.43962349980608306,-0.38749559180114634,-0.28544887827195764,0.01609848741884537,0.9923828452377574,0.7796568179793499,-1.422854421793395,0.0781336598529172,-0.3914933114847213,1.3804867486194805,0.364589500748893,0.45909539135096716,-0.4487222628383241,-0.3214478676486004,-0.25362373577023023,0.4648967220447523,0.4064034894197302,0.7339872364955721,1.1417595721284521,0.26409993389812947,0.11004780674212165,-0.23889226516326656,1.2848556430335665,0.7337083145318132,-1.8304406299363378,-0.9793388399961094,0.7868901247164648,-0.44638313155782816,1.2436611543011358,-0.976749209415963,-0.10104324891718097,1.2227944696341,1.9563728706496435,-0.28317982626843696,-0.44523366114945645,2.156202305757598,2.8820734332729945,-0.04376901548548563,1.0932176647358811,0.8042309346264729,0.2835630911992262,-0.2949796439396551,-1.026712578823772,1.0941919997337546,1.8651982790997288,-0.7485174567526562,-1.2735582311735507,-0.44204571582667407,0.19317135054614334,-2.17928112947225,0.25154244109528123,-0.026738306050912642,0.23149058077638784,1.901854709334183,1.2416852092635293],\"type\":\"scatter\"}],                        {\"legend\":{\"bgcolor\":\"#F5F6F9\",\"font\":{\"color\":\"#4D5663\"}},\"paper_bgcolor\":\"#F5F6F9\",\"plot_bgcolor\":\"#F5F6F9\",\"template\":{\"data\":{\"barpolar\":[{\"marker\":{\"line\":{\"color\":\"#E5ECF6\",\"width\":0.5},\"pattern\":{\"fillmode\":\"overlay\",\"size\":10,\"solidity\":0.2}},\"type\":\"barpolar\"}],\"bar\":[{\"error_x\":{\"color\":\"#2a3f5f\"},\"error_y\":{\"color\":\"#2a3f5f\"},\"marker\":{\"line\":{\"color\":\"#E5ECF6\",\"width\":0.5},\"pattern\":{\"fillmode\":\"overlay\",\"size\":10,\"solidity\":0.2}},\"type\":\"bar\"}],\"carpet\":[{\"aaxis\":{\"endlinecolor\":\"#2a3f5f\",\"gridcolor\":\"white\",\"linecolor\":\"white\",\"minorgridcolor\":\"white\",\"startlinecolor\":\"#2a3f5f\"},\"baxis\":{\"endlinecolor\":\"#2a3f5f\",\"gridcolor\":\"white\",\"linecolor\":\"white\",\"minorgridcolor\":\"white\",\"startlinecolor\":\"#2a3f5f\"},\"type\":\"carpet\"}],\"choropleth\":[{\"colorbar\":{\"outlinewidth\":0,\"ticks\":\"\"},\"type\":\"choropleth\"}],\"contourcarpet\":[{\"colorbar\":{\"outlinewidth\":0,\"ticks\":\"\"},\"type\":\"contourcarpet\"}],\"contour\":[{\"colorbar\":{\"outlinewidth\":0,\"ticks\":\"\"},\"colorscale\":[[0.0,\"#0d0887\"],[0.1111111111111111,\"#46039f\"],[0.2222222222222222,\"#7201a8\"],[0.3333333333333333,\"#9c179e\"],[0.4444444444444444,\"#bd3786\"],[0.5555555555555556,\"#d8576b\"],[0.6666666666666666,\"#ed7953\"],[0.7777777777777778,\"#fb9f3a\"],[0.8888888888888888,\"#fdca26\"],[1.0,\"#f0f921\"]],\"type\":\"contour\"}],\"heatmapgl\":[{\"colorbar\":{\"outlinewidth\":0,\"ticks\":\"\"},\"colorscale\":[[0.0,\"#0d0887\"],[0.1111111111111111,\"#46039f\"],[0.2222222222222222,\"#7201a8\"],[0.3333333333333333,\"#9c179e\"],[0.4444444444444444,\"#bd3786\"],[0.5555555555555556,\"#d8576b\"],[0.6666666666666666,\"#ed7953\"],[0.7777777777777778,\"#fb9f3a\"],[0.8888888888888888,\"#fdca26\"],[1.0,\"#f0f921\"]],\"type\":\"heatmapgl\"}],\"heatmap\":[{\"colorbar\":{\"outlinewidth\":0,\"ticks\":\"\"},\"colorscale\":[[0.0,\"#0d0887\"],[0.1111111111111111,\"#46039f\"],[0.2222222222222222,\"#7201a8\"],[0.3333333333333333,\"#9c179e\"],[0.4444444444444444,\"#bd3786\"],[0.5555555555555556,\"#d8576b\"],[0.6666666666666666,\"#ed7953\"],[0.7777777777777778,\"#fb9f3a\"],[0.8888888888888888,\"#fdca26\"],[1.0,\"#f0f921\"]],\"type\":\"heatmap\"}],\"histogram2dcontour\":[{\"colorbar\":{\"outlinewidth\":0,\"ticks\":\"\"},\"colorscale\":[[0.0,\"#0d0887\"],[0.1111111111111111,\"#46039f\"],[0.2222222222222222,\"#7201a8\"],[0.3333333333333333,\"#9c179e\"],[0.4444444444444444,\"#bd3786\"],[0.5555555555555556,\"#d8576b\"],[0.6666666666666666,\"#ed7953\"],[0.7777777777777778,\"#fb9f3a\"],[0.8888888888888888,\"#fdca26\"],[1.0,\"#f0f921\"]],\"type\":\"histogram2dcontour\"}],\"histogram2d\":[{\"colorbar\":{\"outlinewidth\":0,\"ticks\":\"\"},\"colorscale\":[[0.0,\"#0d0887\"],[0.1111111111111111,\"#46039f\"],[0.2222222222222222,\"#7201a8\"],[0.3333333333333333,\"#9c179e\"],[0.4444444444444444,\"#bd3786\"],[0.5555555555555556,\"#d8576b\"],[0.6666666666666666,\"#ed7953\"],[0.7777777777777778,\"#fb9f3a\"],[0.8888888888888888,\"#fdca26\"],[1.0,\"#f0f921\"]],\"type\":\"histogram2d\"}],\"histogram\":[{\"marker\":{\"pattern\":{\"fillmode\":\"overlay\",\"size\":10,\"solidity\":0.2}},\"type\":\"histogram\"}],\"mesh3d\":[{\"colorbar\":{\"outlinewidth\":0,\"ticks\":\"\"},\"type\":\"mesh3d\"}],\"parcoords\":[{\"line\":{\"colorbar\":{\"outlinewidth\":0,\"ticks\":\"\"}},\"type\":\"parcoords\"}],\"pie\":[{\"automargin\":true,\"type\":\"pie\"}],\"scatter3d\":[{\"line\":{\"colorbar\":{\"outlinewidth\":0,\"ticks\":\"\"}},\"marker\":{\"colorbar\":{\"outlinewidth\":0,\"ticks\":\"\"}},\"type\":\"scatter3d\"}],\"scattercarpet\":[{\"marker\":{\"colorbar\":{\"outlinewidth\":0,\"ticks\":\"\"}},\"type\":\"scattercarpet\"}],\"scattergeo\":[{\"marker\":{\"colorbar\":{\"outlinewidth\":0,\"ticks\":\"\"}},\"type\":\"scattergeo\"}],\"scattergl\":[{\"marker\":{\"colorbar\":{\"outlinewidth\":0,\"ticks\":\"\"}},\"type\":\"scattergl\"}],\"scattermapbox\":[{\"marker\":{\"colorbar\":{\"outlinewidth\":0,\"ticks\":\"\"}},\"type\":\"scattermapbox\"}],\"scatterpolargl\":[{\"marker\":{\"colorbar\":{\"outlinewidth\":0,\"ticks\":\"\"}},\"type\":\"scatterpolargl\"}],\"scatterpolar\":[{\"marker\":{\"colorbar\":{\"outlinewidth\":0,\"ticks\":\"\"}},\"type\":\"scatterpolar\"}],\"scatter\":[{\"fillpattern\":{\"fillmode\":\"overlay\",\"size\":10,\"solidity\":0.2},\"type\":\"scatter\"}],\"scatterternary\":[{\"marker\":{\"colorbar\":{\"outlinewidth\":0,\"ticks\":\"\"}},\"type\":\"scatterternary\"}],\"surface\":[{\"colorbar\":{\"outlinewidth\":0,\"ticks\":\"\"},\"colorscale\":[[0.0,\"#0d0887\"],[0.1111111111111111,\"#46039f\"],[0.2222222222222222,\"#7201a8\"],[0.3333333333333333,\"#9c179e\"],[0.4444444444444444,\"#bd3786\"],[0.5555555555555556,\"#d8576b\"],[0.6666666666666666,\"#ed7953\"],[0.7777777777777778,\"#fb9f3a\"],[0.8888888888888888,\"#fdca26\"],[1.0,\"#f0f921\"]],\"type\":\"surface\"}],\"table\":[{\"cells\":{\"fill\":{\"color\":\"#EBF0F8\"},\"line\":{\"color\":\"white\"}},\"header\":{\"fill\":{\"color\":\"#C8D4E3\"},\"line\":{\"color\":\"white\"}},\"type\":\"table\"}]},\"layout\":{\"annotationdefaults\":{\"arrowcolor\":\"#2a3f5f\",\"arrowhead\":0,\"arrowwidth\":1},\"autotypenumbers\":\"strict\",\"coloraxis\":{\"colorbar\":{\"outlinewidth\":0,\"ticks\":\"\"}},\"colorscale\":{\"diverging\":[[0,\"#8e0152\"],[0.1,\"#c51b7d\"],[0.2,\"#de77ae\"],[0.3,\"#f1b6da\"],[0.4,\"#fde0ef\"],[0.5,\"#f7f7f7\"],[0.6,\"#e6f5d0\"],[0.7,\"#b8e186\"],[0.8,\"#7fbc41\"],[0.9,\"#4d9221\"],[1,\"#276419\"]],\"sequential\":[[0.0,\"#0d0887\"],[0.1111111111111111,\"#46039f\"],[0.2222222222222222,\"#7201a8\"],[0.3333333333333333,\"#9c179e\"],[0.4444444444444444,\"#bd3786\"],[0.5555555555555556,\"#d8576b\"],[0.6666666666666666,\"#ed7953\"],[0.7777777777777778,\"#fb9f3a\"],[0.8888888888888888,\"#fdca26\"],[1.0,\"#f0f921\"]],\"sequentialminus\":[[0.0,\"#0d0887\"],[0.1111111111111111,\"#46039f\"],[0.2222222222222222,\"#7201a8\"],[0.3333333333333333,\"#9c179e\"],[0.4444444444444444,\"#bd3786\"],[0.5555555555555556,\"#d8576b\"],[0.6666666666666666,\"#ed7953\"],[0.7777777777777778,\"#fb9f3a\"],[0.8888888888888888,\"#fdca26\"],[1.0,\"#f0f921\"]]},\"colorway\":[\"#636efa\",\"#EF553B\",\"#00cc96\",\"#ab63fa\",\"#FFA15A\",\"#19d3f3\",\"#FF6692\",\"#B6E880\",\"#FF97FF\",\"#FECB52\"],\"font\":{\"color\":\"#2a3f5f\"},\"geo\":{\"bgcolor\":\"white\",\"lakecolor\":\"white\",\"landcolor\":\"#E5ECF6\",\"showlakes\":true,\"showland\":true,\"subunitcolor\":\"white\"},\"hoverlabel\":{\"align\":\"left\"},\"hovermode\":\"closest\",\"mapbox\":{\"style\":\"light\"},\"paper_bgcolor\":\"white\",\"plot_bgcolor\":\"#E5ECF6\",\"polar\":{\"angularaxis\":{\"gridcolor\":\"white\",\"linecolor\":\"white\",\"ticks\":\"\"},\"bgcolor\":\"#E5ECF6\",\"radialaxis\":{\"gridcolor\":\"white\",\"linecolor\":\"white\",\"ticks\":\"\"}},\"scene\":{\"xaxis\":{\"backgroundcolor\":\"#E5ECF6\",\"gridcolor\":\"white\",\"gridwidth\":2,\"linecolor\":\"white\",\"showbackground\":true,\"ticks\":\"\",\"zerolinecolor\":\"white\"},\"yaxis\":{\"backgroundcolor\":\"#E5ECF6\",\"gridcolor\":\"white\",\"gridwidth\":2,\"linecolor\":\"white\",\"showbackground\":true,\"ticks\":\"\",\"zerolinecolor\":\"white\"},\"zaxis\":{\"backgroundcolor\":\"#E5ECF6\",\"gridcolor\":\"white\",\"gridwidth\":2,\"linecolor\":\"white\",\"showbackground\":true,\"ticks\":\"\",\"zerolinecolor\":\"white\"}},\"shapedefaults\":{\"line\":{\"color\":\"#2a3f5f\"}},\"ternary\":{\"aaxis\":{\"gridcolor\":\"white\",\"linecolor\":\"white\",\"ticks\":\"\"},\"baxis\":{\"gridcolor\":\"white\",\"linecolor\":\"white\",\"ticks\":\"\"},\"bgcolor\":\"#E5ECF6\",\"caxis\":{\"gridcolor\":\"white\",\"linecolor\":\"white\",\"ticks\":\"\"}},\"title\":{\"x\":0.05},\"xaxis\":{\"automargin\":true,\"gridcolor\":\"white\",\"linecolor\":\"white\",\"ticks\":\"\",\"title\":{\"standoff\":15},\"zerolinecolor\":\"white\",\"zerolinewidth\":2},\"yaxis\":{\"automargin\":true,\"gridcolor\":\"white\",\"linecolor\":\"white\",\"ticks\":\"\",\"title\":{\"standoff\":15},\"zerolinecolor\":\"white\",\"zerolinewidth\":2}}},\"title\":{\"font\":{\"color\":\"#4D5663\"}},\"xaxis\":{\"gridcolor\":\"#E1E5ED\",\"showgrid\":true,\"tickfont\":{\"color\":\"#4D5663\"},\"title\":{\"font\":{\"color\":\"#4D5663\"},\"text\":\"\"},\"zerolinecolor\":\"#E1E5ED\"},\"yaxis\":{\"gridcolor\":\"#E1E5ED\",\"showgrid\":true,\"tickfont\":{\"color\":\"#4D5663\"},\"title\":{\"font\":{\"color\":\"#4D5663\"},\"text\":\"\"},\"zerolinecolor\":\"#E1E5ED\"}},                        {\"showLink\": true, \"linkText\": \"Export to plot.ly\", \"plotlyServerURL\": \"https://plot.ly\", \"responsive\": true}                    ).then(function(){\n",
              "                            \n",
              "var gd = document.getElementById('6581fbbe-8a1f-40a4-b678-df2be8751f42');\n",
              "var x = new MutationObserver(function (mutations, observer) {{\n",
              "        var display = window.getComputedStyle(gd).display;\n",
              "        if (!display || display === 'none') {{\n",
              "            console.log([gd, 'removed!']);\n",
              "            Plotly.purge(gd);\n",
              "            observer.disconnect();\n",
              "        }}\n",
              "}});\n",
              "\n",
              "// Listen for the removal of the full notebook cells\n",
              "var notebookContainer = gd.closest('#notebook-container');\n",
              "if (notebookContainer) {{\n",
              "    x.observe(notebookContainer, {childList: true});\n",
              "}}\n",
              "\n",
              "// Listen for the clearing of the current output cell\n",
              "var outputEl = gd.closest('.output');\n",
              "if (outputEl) {{\n",
              "    x.observe(outputEl, {childList: true});\n",
              "}}\n",
              "\n",
              "                        })                };                            </script>        </div>\n",
              "</body>\n",
              "</html>"
            ]
          },
          "metadata": {}
        }
      ],
      "source": [
        "df.iplot(kind='scatter',x='A',y='B',mode='markers',size=10)"
      ]
    },
    {
      "cell_type": "markdown",
      "metadata": {
        "id": "OeI_WsnAx6k0"
      },
      "source": [
        "## Bar Plots"
      ]
    },
    {
      "cell_type": "code",
      "execution_count": null,
      "metadata": {
        "colab": {
          "base_uri": "https://localhost:8080/",
          "height": 542
        },
        "id": "Llnng9eJx6k1",
        "outputId": "a58ee433-39e1-4d60-ee72-9ba9a2597ad9"
      },
      "outputs": [
        {
          "output_type": "display_data",
          "data": {
            "text/html": [
              "<html>\n",
              "<head><meta charset=\"utf-8\" /></head>\n",
              "<body>\n",
              "    <div>            <script src=\"https://cdnjs.cloudflare.com/ajax/libs/mathjax/2.7.5/MathJax.js?config=TeX-AMS-MML_SVG\"></script><script type=\"text/javascript\">if (window.MathJax && window.MathJax.Hub && window.MathJax.Hub.Config) {window.MathJax.Hub.Config({SVG: {font: \"STIX-Web\"}});}</script>                <script type=\"text/javascript\">window.PlotlyConfig = {MathJaxConfig: 'local'};</script>\n",
              "        <script src=\"https://cdn.plot.ly/plotly-2.18.2.min.js\"></script>                <div id=\"2bea0ef9-7568-45af-949a-6e9aa2f791ec\" class=\"plotly-graph-div\" style=\"height:525px; width:100%;\"></div>            <script type=\"text/javascript\">                                    window.PLOTLYENV=window.PLOTLYENV || {};\n",
              "                    window.PLOTLYENV.BASE_URL='https://plot.ly';                                    if (document.getElementById(\"2bea0ef9-7568-45af-949a-6e9aa2f791ec\")) {                    Plotly.newPlot(                        \"2bea0ef9-7568-45af-949a-6e9aa2f791ec\",                        [{\"marker\":{\"color\":\"rgba(255, 153, 51, 0.6)\",\"line\":{\"color\":\"rgba(255, 153, 51, 1.0)\",\"width\":1}},\"name\":\"Values\",\"orientation\":\"v\",\"text\":\"\",\"x\":[\"A\",\"B\",\"C\"],\"y\":[32,43,50],\"type\":\"bar\"}],                        {\"legend\":{\"bgcolor\":\"#F5F6F9\",\"font\":{\"color\":\"#4D5663\"}},\"paper_bgcolor\":\"#F5F6F9\",\"plot_bgcolor\":\"#F5F6F9\",\"template\":{\"data\":{\"barpolar\":[{\"marker\":{\"line\":{\"color\":\"#E5ECF6\",\"width\":0.5},\"pattern\":{\"fillmode\":\"overlay\",\"size\":10,\"solidity\":0.2}},\"type\":\"barpolar\"}],\"bar\":[{\"error_x\":{\"color\":\"#2a3f5f\"},\"error_y\":{\"color\":\"#2a3f5f\"},\"marker\":{\"line\":{\"color\":\"#E5ECF6\",\"width\":0.5},\"pattern\":{\"fillmode\":\"overlay\",\"size\":10,\"solidity\":0.2}},\"type\":\"bar\"}],\"carpet\":[{\"aaxis\":{\"endlinecolor\":\"#2a3f5f\",\"gridcolor\":\"white\",\"linecolor\":\"white\",\"minorgridcolor\":\"white\",\"startlinecolor\":\"#2a3f5f\"},\"baxis\":{\"endlinecolor\":\"#2a3f5f\",\"gridcolor\":\"white\",\"linecolor\":\"white\",\"minorgridcolor\":\"white\",\"startlinecolor\":\"#2a3f5f\"},\"type\":\"carpet\"}],\"choropleth\":[{\"colorbar\":{\"outlinewidth\":0,\"ticks\":\"\"},\"type\":\"choropleth\"}],\"contourcarpet\":[{\"colorbar\":{\"outlinewidth\":0,\"ticks\":\"\"},\"type\":\"contourcarpet\"}],\"contour\":[{\"colorbar\":{\"outlinewidth\":0,\"ticks\":\"\"},\"colorscale\":[[0.0,\"#0d0887\"],[0.1111111111111111,\"#46039f\"],[0.2222222222222222,\"#7201a8\"],[0.3333333333333333,\"#9c179e\"],[0.4444444444444444,\"#bd3786\"],[0.5555555555555556,\"#d8576b\"],[0.6666666666666666,\"#ed7953\"],[0.7777777777777778,\"#fb9f3a\"],[0.8888888888888888,\"#fdca26\"],[1.0,\"#f0f921\"]],\"type\":\"contour\"}],\"heatmapgl\":[{\"colorbar\":{\"outlinewidth\":0,\"ticks\":\"\"},\"colorscale\":[[0.0,\"#0d0887\"],[0.1111111111111111,\"#46039f\"],[0.2222222222222222,\"#7201a8\"],[0.3333333333333333,\"#9c179e\"],[0.4444444444444444,\"#bd3786\"],[0.5555555555555556,\"#d8576b\"],[0.6666666666666666,\"#ed7953\"],[0.7777777777777778,\"#fb9f3a\"],[0.8888888888888888,\"#fdca26\"],[1.0,\"#f0f921\"]],\"type\":\"heatmapgl\"}],\"heatmap\":[{\"colorbar\":{\"outlinewidth\":0,\"ticks\":\"\"},\"colorscale\":[[0.0,\"#0d0887\"],[0.1111111111111111,\"#46039f\"],[0.2222222222222222,\"#7201a8\"],[0.3333333333333333,\"#9c179e\"],[0.4444444444444444,\"#bd3786\"],[0.5555555555555556,\"#d8576b\"],[0.6666666666666666,\"#ed7953\"],[0.7777777777777778,\"#fb9f3a\"],[0.8888888888888888,\"#fdca26\"],[1.0,\"#f0f921\"]],\"type\":\"heatmap\"}],\"histogram2dcontour\":[{\"colorbar\":{\"outlinewidth\":0,\"ticks\":\"\"},\"colorscale\":[[0.0,\"#0d0887\"],[0.1111111111111111,\"#46039f\"],[0.2222222222222222,\"#7201a8\"],[0.3333333333333333,\"#9c179e\"],[0.4444444444444444,\"#bd3786\"],[0.5555555555555556,\"#d8576b\"],[0.6666666666666666,\"#ed7953\"],[0.7777777777777778,\"#fb9f3a\"],[0.8888888888888888,\"#fdca26\"],[1.0,\"#f0f921\"]],\"type\":\"histogram2dcontour\"}],\"histogram2d\":[{\"colorbar\":{\"outlinewidth\":0,\"ticks\":\"\"},\"colorscale\":[[0.0,\"#0d0887\"],[0.1111111111111111,\"#46039f\"],[0.2222222222222222,\"#7201a8\"],[0.3333333333333333,\"#9c179e\"],[0.4444444444444444,\"#bd3786\"],[0.5555555555555556,\"#d8576b\"],[0.6666666666666666,\"#ed7953\"],[0.7777777777777778,\"#fb9f3a\"],[0.8888888888888888,\"#fdca26\"],[1.0,\"#f0f921\"]],\"type\":\"histogram2d\"}],\"histogram\":[{\"marker\":{\"pattern\":{\"fillmode\":\"overlay\",\"size\":10,\"solidity\":0.2}},\"type\":\"histogram\"}],\"mesh3d\":[{\"colorbar\":{\"outlinewidth\":0,\"ticks\":\"\"},\"type\":\"mesh3d\"}],\"parcoords\":[{\"line\":{\"colorbar\":{\"outlinewidth\":0,\"ticks\":\"\"}},\"type\":\"parcoords\"}],\"pie\":[{\"automargin\":true,\"type\":\"pie\"}],\"scatter3d\":[{\"line\":{\"colorbar\":{\"outlinewidth\":0,\"ticks\":\"\"}},\"marker\":{\"colorbar\":{\"outlinewidth\":0,\"ticks\":\"\"}},\"type\":\"scatter3d\"}],\"scattercarpet\":[{\"marker\":{\"colorbar\":{\"outlinewidth\":0,\"ticks\":\"\"}},\"type\":\"scattercarpet\"}],\"scattergeo\":[{\"marker\":{\"colorbar\":{\"outlinewidth\":0,\"ticks\":\"\"}},\"type\":\"scattergeo\"}],\"scattergl\":[{\"marker\":{\"colorbar\":{\"outlinewidth\":0,\"ticks\":\"\"}},\"type\":\"scattergl\"}],\"scattermapbox\":[{\"marker\":{\"colorbar\":{\"outlinewidth\":0,\"ticks\":\"\"}},\"type\":\"scattermapbox\"}],\"scatterpolargl\":[{\"marker\":{\"colorbar\":{\"outlinewidth\":0,\"ticks\":\"\"}},\"type\":\"scatterpolargl\"}],\"scatterpolar\":[{\"marker\":{\"colorbar\":{\"outlinewidth\":0,\"ticks\":\"\"}},\"type\":\"scatterpolar\"}],\"scatter\":[{\"fillpattern\":{\"fillmode\":\"overlay\",\"size\":10,\"solidity\":0.2},\"type\":\"scatter\"}],\"scatterternary\":[{\"marker\":{\"colorbar\":{\"outlinewidth\":0,\"ticks\":\"\"}},\"type\":\"scatterternary\"}],\"surface\":[{\"colorbar\":{\"outlinewidth\":0,\"ticks\":\"\"},\"colorscale\":[[0.0,\"#0d0887\"],[0.1111111111111111,\"#46039f\"],[0.2222222222222222,\"#7201a8\"],[0.3333333333333333,\"#9c179e\"],[0.4444444444444444,\"#bd3786\"],[0.5555555555555556,\"#d8576b\"],[0.6666666666666666,\"#ed7953\"],[0.7777777777777778,\"#fb9f3a\"],[0.8888888888888888,\"#fdca26\"],[1.0,\"#f0f921\"]],\"type\":\"surface\"}],\"table\":[{\"cells\":{\"fill\":{\"color\":\"#EBF0F8\"},\"line\":{\"color\":\"white\"}},\"header\":{\"fill\":{\"color\":\"#C8D4E3\"},\"line\":{\"color\":\"white\"}},\"type\":\"table\"}]},\"layout\":{\"annotationdefaults\":{\"arrowcolor\":\"#2a3f5f\",\"arrowhead\":0,\"arrowwidth\":1},\"autotypenumbers\":\"strict\",\"coloraxis\":{\"colorbar\":{\"outlinewidth\":0,\"ticks\":\"\"}},\"colorscale\":{\"diverging\":[[0,\"#8e0152\"],[0.1,\"#c51b7d\"],[0.2,\"#de77ae\"],[0.3,\"#f1b6da\"],[0.4,\"#fde0ef\"],[0.5,\"#f7f7f7\"],[0.6,\"#e6f5d0\"],[0.7,\"#b8e186\"],[0.8,\"#7fbc41\"],[0.9,\"#4d9221\"],[1,\"#276419\"]],\"sequential\":[[0.0,\"#0d0887\"],[0.1111111111111111,\"#46039f\"],[0.2222222222222222,\"#7201a8\"],[0.3333333333333333,\"#9c179e\"],[0.4444444444444444,\"#bd3786\"],[0.5555555555555556,\"#d8576b\"],[0.6666666666666666,\"#ed7953\"],[0.7777777777777778,\"#fb9f3a\"],[0.8888888888888888,\"#fdca26\"],[1.0,\"#f0f921\"]],\"sequentialminus\":[[0.0,\"#0d0887\"],[0.1111111111111111,\"#46039f\"],[0.2222222222222222,\"#7201a8\"],[0.3333333333333333,\"#9c179e\"],[0.4444444444444444,\"#bd3786\"],[0.5555555555555556,\"#d8576b\"],[0.6666666666666666,\"#ed7953\"],[0.7777777777777778,\"#fb9f3a\"],[0.8888888888888888,\"#fdca26\"],[1.0,\"#f0f921\"]]},\"colorway\":[\"#636efa\",\"#EF553B\",\"#00cc96\",\"#ab63fa\",\"#FFA15A\",\"#19d3f3\",\"#FF6692\",\"#B6E880\",\"#FF97FF\",\"#FECB52\"],\"font\":{\"color\":\"#2a3f5f\"},\"geo\":{\"bgcolor\":\"white\",\"lakecolor\":\"white\",\"landcolor\":\"#E5ECF6\",\"showlakes\":true,\"showland\":true,\"subunitcolor\":\"white\"},\"hoverlabel\":{\"align\":\"left\"},\"hovermode\":\"closest\",\"mapbox\":{\"style\":\"light\"},\"paper_bgcolor\":\"white\",\"plot_bgcolor\":\"#E5ECF6\",\"polar\":{\"angularaxis\":{\"gridcolor\":\"white\",\"linecolor\":\"white\",\"ticks\":\"\"},\"bgcolor\":\"#E5ECF6\",\"radialaxis\":{\"gridcolor\":\"white\",\"linecolor\":\"white\",\"ticks\":\"\"}},\"scene\":{\"xaxis\":{\"backgroundcolor\":\"#E5ECF6\",\"gridcolor\":\"white\",\"gridwidth\":2,\"linecolor\":\"white\",\"showbackground\":true,\"ticks\":\"\",\"zerolinecolor\":\"white\"},\"yaxis\":{\"backgroundcolor\":\"#E5ECF6\",\"gridcolor\":\"white\",\"gridwidth\":2,\"linecolor\":\"white\",\"showbackground\":true,\"ticks\":\"\",\"zerolinecolor\":\"white\"},\"zaxis\":{\"backgroundcolor\":\"#E5ECF6\",\"gridcolor\":\"white\",\"gridwidth\":2,\"linecolor\":\"white\",\"showbackground\":true,\"ticks\":\"\",\"zerolinecolor\":\"white\"}},\"shapedefaults\":{\"line\":{\"color\":\"#2a3f5f\"}},\"ternary\":{\"aaxis\":{\"gridcolor\":\"white\",\"linecolor\":\"white\",\"ticks\":\"\"},\"baxis\":{\"gridcolor\":\"white\",\"linecolor\":\"white\",\"ticks\":\"\"},\"bgcolor\":\"#E5ECF6\",\"caxis\":{\"gridcolor\":\"white\",\"linecolor\":\"white\",\"ticks\":\"\"}},\"title\":{\"x\":0.05},\"xaxis\":{\"automargin\":true,\"gridcolor\":\"white\",\"linecolor\":\"white\",\"ticks\":\"\",\"title\":{\"standoff\":15},\"zerolinecolor\":\"white\",\"zerolinewidth\":2},\"yaxis\":{\"automargin\":true,\"gridcolor\":\"white\",\"linecolor\":\"white\",\"ticks\":\"\",\"title\":{\"standoff\":15},\"zerolinecolor\":\"white\",\"zerolinewidth\":2}}},\"title\":{\"font\":{\"color\":\"#4D5663\"}},\"xaxis\":{\"gridcolor\":\"#E1E5ED\",\"showgrid\":true,\"tickfont\":{\"color\":\"#4D5663\"},\"title\":{\"font\":{\"color\":\"#4D5663\"},\"text\":\"\"},\"zerolinecolor\":\"#E1E5ED\"},\"yaxis\":{\"gridcolor\":\"#E1E5ED\",\"showgrid\":true,\"tickfont\":{\"color\":\"#4D5663\"},\"title\":{\"font\":{\"color\":\"#4D5663\"},\"text\":\"\"},\"zerolinecolor\":\"#E1E5ED\"}},                        {\"showLink\": true, \"linkText\": \"Export to plot.ly\", \"plotlyServerURL\": \"https://plot.ly\", \"responsive\": true}                    ).then(function(){\n",
              "                            \n",
              "var gd = document.getElementById('2bea0ef9-7568-45af-949a-6e9aa2f791ec');\n",
              "var x = new MutationObserver(function (mutations, observer) {{\n",
              "        var display = window.getComputedStyle(gd).display;\n",
              "        if (!display || display === 'none') {{\n",
              "            console.log([gd, 'removed!']);\n",
              "            Plotly.purge(gd);\n",
              "            observer.disconnect();\n",
              "        }}\n",
              "}});\n",
              "\n",
              "// Listen for the removal of the full notebook cells\n",
              "var notebookContainer = gd.closest('#notebook-container');\n",
              "if (notebookContainer) {{\n",
              "    x.observe(notebookContainer, {childList: true});\n",
              "}}\n",
              "\n",
              "// Listen for the clearing of the current output cell\n",
              "var outputEl = gd.closest('.output');\n",
              "if (outputEl) {{\n",
              "    x.observe(outputEl, {childList: true});\n",
              "}}\n",
              "\n",
              "                        })                };                            </script>        </div>\n",
              "</body>\n",
              "</html>"
            ]
          },
          "metadata": {}
        }
      ],
      "source": [
        "df2.iplot(kind='bar',x='Category',y='Values')"
      ]
    },
    {
      "cell_type": "code",
      "execution_count": null,
      "metadata": {
        "colab": {
          "base_uri": "https://localhost:8080/",
          "height": 542
        },
        "id": "gJSEcy7tx6k1",
        "outputId": "a0753c20-5386-45ef-81bf-2b4695e4d4b9"
      },
      "outputs": [
        {
          "output_type": "display_data",
          "data": {
            "text/html": [
              "<html>\n",
              "<head><meta charset=\"utf-8\" /></head>\n",
              "<body>\n",
              "    <div>            <script src=\"https://cdnjs.cloudflare.com/ajax/libs/mathjax/2.7.5/MathJax.js?config=TeX-AMS-MML_SVG\"></script><script type=\"text/javascript\">if (window.MathJax && window.MathJax.Hub && window.MathJax.Hub.Config) {window.MathJax.Hub.Config({SVG: {font: \"STIX-Web\"}});}</script>                <script type=\"text/javascript\">window.PlotlyConfig = {MathJaxConfig: 'local'};</script>\n",
              "        <script src=\"https://cdn.plot.ly/plotly-2.18.2.min.js\"></script>                <div id=\"19f827dc-9b8a-4e46-8276-65ee68f6a73b\" class=\"plotly-graph-div\" style=\"height:525px; width:100%;\"></div>            <script type=\"text/javascript\">                                    window.PLOTLYENV=window.PLOTLYENV || {};\n",
              "                    window.PLOTLYENV.BASE_URL='https://plot.ly';                                    if (document.getElementById(\"19f827dc-9b8a-4e46-8276-65ee68f6a73b\")) {                    Plotly.newPlot(                        \"19f827dc-9b8a-4e46-8276-65ee68f6a73b\",                        [{\"marker\":{\"color\":\"rgba(255, 153, 51, 0.6)\",\"line\":{\"color\":\"rgba(255, 153, 51, 1.0)\",\"width\":1}},\"name\":\"None\",\"orientation\":\"v\",\"text\":\"\",\"x\":[\"A\",\"B\",\"C\",\"D\"],\"y\":[100,100,100,100],\"type\":\"bar\"}],                        {\"legend\":{\"bgcolor\":\"#F5F6F9\",\"font\":{\"color\":\"#4D5663\"}},\"paper_bgcolor\":\"#F5F6F9\",\"plot_bgcolor\":\"#F5F6F9\",\"template\":{\"data\":{\"barpolar\":[{\"marker\":{\"line\":{\"color\":\"#E5ECF6\",\"width\":0.5},\"pattern\":{\"fillmode\":\"overlay\",\"size\":10,\"solidity\":0.2}},\"type\":\"barpolar\"}],\"bar\":[{\"error_x\":{\"color\":\"#2a3f5f\"},\"error_y\":{\"color\":\"#2a3f5f\"},\"marker\":{\"line\":{\"color\":\"#E5ECF6\",\"width\":0.5},\"pattern\":{\"fillmode\":\"overlay\",\"size\":10,\"solidity\":0.2}},\"type\":\"bar\"}],\"carpet\":[{\"aaxis\":{\"endlinecolor\":\"#2a3f5f\",\"gridcolor\":\"white\",\"linecolor\":\"white\",\"minorgridcolor\":\"white\",\"startlinecolor\":\"#2a3f5f\"},\"baxis\":{\"endlinecolor\":\"#2a3f5f\",\"gridcolor\":\"white\",\"linecolor\":\"white\",\"minorgridcolor\":\"white\",\"startlinecolor\":\"#2a3f5f\"},\"type\":\"carpet\"}],\"choropleth\":[{\"colorbar\":{\"outlinewidth\":0,\"ticks\":\"\"},\"type\":\"choropleth\"}],\"contourcarpet\":[{\"colorbar\":{\"outlinewidth\":0,\"ticks\":\"\"},\"type\":\"contourcarpet\"}],\"contour\":[{\"colorbar\":{\"outlinewidth\":0,\"ticks\":\"\"},\"colorscale\":[[0.0,\"#0d0887\"],[0.1111111111111111,\"#46039f\"],[0.2222222222222222,\"#7201a8\"],[0.3333333333333333,\"#9c179e\"],[0.4444444444444444,\"#bd3786\"],[0.5555555555555556,\"#d8576b\"],[0.6666666666666666,\"#ed7953\"],[0.7777777777777778,\"#fb9f3a\"],[0.8888888888888888,\"#fdca26\"],[1.0,\"#f0f921\"]],\"type\":\"contour\"}],\"heatmapgl\":[{\"colorbar\":{\"outlinewidth\":0,\"ticks\":\"\"},\"colorscale\":[[0.0,\"#0d0887\"],[0.1111111111111111,\"#46039f\"],[0.2222222222222222,\"#7201a8\"],[0.3333333333333333,\"#9c179e\"],[0.4444444444444444,\"#bd3786\"],[0.5555555555555556,\"#d8576b\"],[0.6666666666666666,\"#ed7953\"],[0.7777777777777778,\"#fb9f3a\"],[0.8888888888888888,\"#fdca26\"],[1.0,\"#f0f921\"]],\"type\":\"heatmapgl\"}],\"heatmap\":[{\"colorbar\":{\"outlinewidth\":0,\"ticks\":\"\"},\"colorscale\":[[0.0,\"#0d0887\"],[0.1111111111111111,\"#46039f\"],[0.2222222222222222,\"#7201a8\"],[0.3333333333333333,\"#9c179e\"],[0.4444444444444444,\"#bd3786\"],[0.5555555555555556,\"#d8576b\"],[0.6666666666666666,\"#ed7953\"],[0.7777777777777778,\"#fb9f3a\"],[0.8888888888888888,\"#fdca26\"],[1.0,\"#f0f921\"]],\"type\":\"heatmap\"}],\"histogram2dcontour\":[{\"colorbar\":{\"outlinewidth\":0,\"ticks\":\"\"},\"colorscale\":[[0.0,\"#0d0887\"],[0.1111111111111111,\"#46039f\"],[0.2222222222222222,\"#7201a8\"],[0.3333333333333333,\"#9c179e\"],[0.4444444444444444,\"#bd3786\"],[0.5555555555555556,\"#d8576b\"],[0.6666666666666666,\"#ed7953\"],[0.7777777777777778,\"#fb9f3a\"],[0.8888888888888888,\"#fdca26\"],[1.0,\"#f0f921\"]],\"type\":\"histogram2dcontour\"}],\"histogram2d\":[{\"colorbar\":{\"outlinewidth\":0,\"ticks\":\"\"},\"colorscale\":[[0.0,\"#0d0887\"],[0.1111111111111111,\"#46039f\"],[0.2222222222222222,\"#7201a8\"],[0.3333333333333333,\"#9c179e\"],[0.4444444444444444,\"#bd3786\"],[0.5555555555555556,\"#d8576b\"],[0.6666666666666666,\"#ed7953\"],[0.7777777777777778,\"#fb9f3a\"],[0.8888888888888888,\"#fdca26\"],[1.0,\"#f0f921\"]],\"type\":\"histogram2d\"}],\"histogram\":[{\"marker\":{\"pattern\":{\"fillmode\":\"overlay\",\"size\":10,\"solidity\":0.2}},\"type\":\"histogram\"}],\"mesh3d\":[{\"colorbar\":{\"outlinewidth\":0,\"ticks\":\"\"},\"type\":\"mesh3d\"}],\"parcoords\":[{\"line\":{\"colorbar\":{\"outlinewidth\":0,\"ticks\":\"\"}},\"type\":\"parcoords\"}],\"pie\":[{\"automargin\":true,\"type\":\"pie\"}],\"scatter3d\":[{\"line\":{\"colorbar\":{\"outlinewidth\":0,\"ticks\":\"\"}},\"marker\":{\"colorbar\":{\"outlinewidth\":0,\"ticks\":\"\"}},\"type\":\"scatter3d\"}],\"scattercarpet\":[{\"marker\":{\"colorbar\":{\"outlinewidth\":0,\"ticks\":\"\"}},\"type\":\"scattercarpet\"}],\"scattergeo\":[{\"marker\":{\"colorbar\":{\"outlinewidth\":0,\"ticks\":\"\"}},\"type\":\"scattergeo\"}],\"scattergl\":[{\"marker\":{\"colorbar\":{\"outlinewidth\":0,\"ticks\":\"\"}},\"type\":\"scattergl\"}],\"scattermapbox\":[{\"marker\":{\"colorbar\":{\"outlinewidth\":0,\"ticks\":\"\"}},\"type\":\"scattermapbox\"}],\"scatterpolargl\":[{\"marker\":{\"colorbar\":{\"outlinewidth\":0,\"ticks\":\"\"}},\"type\":\"scatterpolargl\"}],\"scatterpolar\":[{\"marker\":{\"colorbar\":{\"outlinewidth\":0,\"ticks\":\"\"}},\"type\":\"scatterpolar\"}],\"scatter\":[{\"fillpattern\":{\"fillmode\":\"overlay\",\"size\":10,\"solidity\":0.2},\"type\":\"scatter\"}],\"scatterternary\":[{\"marker\":{\"colorbar\":{\"outlinewidth\":0,\"ticks\":\"\"}},\"type\":\"scatterternary\"}],\"surface\":[{\"colorbar\":{\"outlinewidth\":0,\"ticks\":\"\"},\"colorscale\":[[0.0,\"#0d0887\"],[0.1111111111111111,\"#46039f\"],[0.2222222222222222,\"#7201a8\"],[0.3333333333333333,\"#9c179e\"],[0.4444444444444444,\"#bd3786\"],[0.5555555555555556,\"#d8576b\"],[0.6666666666666666,\"#ed7953\"],[0.7777777777777778,\"#fb9f3a\"],[0.8888888888888888,\"#fdca26\"],[1.0,\"#f0f921\"]],\"type\":\"surface\"}],\"table\":[{\"cells\":{\"fill\":{\"color\":\"#EBF0F8\"},\"line\":{\"color\":\"white\"}},\"header\":{\"fill\":{\"color\":\"#C8D4E3\"},\"line\":{\"color\":\"white\"}},\"type\":\"table\"}]},\"layout\":{\"annotationdefaults\":{\"arrowcolor\":\"#2a3f5f\",\"arrowhead\":0,\"arrowwidth\":1},\"autotypenumbers\":\"strict\",\"coloraxis\":{\"colorbar\":{\"outlinewidth\":0,\"ticks\":\"\"}},\"colorscale\":{\"diverging\":[[0,\"#8e0152\"],[0.1,\"#c51b7d\"],[0.2,\"#de77ae\"],[0.3,\"#f1b6da\"],[0.4,\"#fde0ef\"],[0.5,\"#f7f7f7\"],[0.6,\"#e6f5d0\"],[0.7,\"#b8e186\"],[0.8,\"#7fbc41\"],[0.9,\"#4d9221\"],[1,\"#276419\"]],\"sequential\":[[0.0,\"#0d0887\"],[0.1111111111111111,\"#46039f\"],[0.2222222222222222,\"#7201a8\"],[0.3333333333333333,\"#9c179e\"],[0.4444444444444444,\"#bd3786\"],[0.5555555555555556,\"#d8576b\"],[0.6666666666666666,\"#ed7953\"],[0.7777777777777778,\"#fb9f3a\"],[0.8888888888888888,\"#fdca26\"],[1.0,\"#f0f921\"]],\"sequentialminus\":[[0.0,\"#0d0887\"],[0.1111111111111111,\"#46039f\"],[0.2222222222222222,\"#7201a8\"],[0.3333333333333333,\"#9c179e\"],[0.4444444444444444,\"#bd3786\"],[0.5555555555555556,\"#d8576b\"],[0.6666666666666666,\"#ed7953\"],[0.7777777777777778,\"#fb9f3a\"],[0.8888888888888888,\"#fdca26\"],[1.0,\"#f0f921\"]]},\"colorway\":[\"#636efa\",\"#EF553B\",\"#00cc96\",\"#ab63fa\",\"#FFA15A\",\"#19d3f3\",\"#FF6692\",\"#B6E880\",\"#FF97FF\",\"#FECB52\"],\"font\":{\"color\":\"#2a3f5f\"},\"geo\":{\"bgcolor\":\"white\",\"lakecolor\":\"white\",\"landcolor\":\"#E5ECF6\",\"showlakes\":true,\"showland\":true,\"subunitcolor\":\"white\"},\"hoverlabel\":{\"align\":\"left\"},\"hovermode\":\"closest\",\"mapbox\":{\"style\":\"light\"},\"paper_bgcolor\":\"white\",\"plot_bgcolor\":\"#E5ECF6\",\"polar\":{\"angularaxis\":{\"gridcolor\":\"white\",\"linecolor\":\"white\",\"ticks\":\"\"},\"bgcolor\":\"#E5ECF6\",\"radialaxis\":{\"gridcolor\":\"white\",\"linecolor\":\"white\",\"ticks\":\"\"}},\"scene\":{\"xaxis\":{\"backgroundcolor\":\"#E5ECF6\",\"gridcolor\":\"white\",\"gridwidth\":2,\"linecolor\":\"white\",\"showbackground\":true,\"ticks\":\"\",\"zerolinecolor\":\"white\"},\"yaxis\":{\"backgroundcolor\":\"#E5ECF6\",\"gridcolor\":\"white\",\"gridwidth\":2,\"linecolor\":\"white\",\"showbackground\":true,\"ticks\":\"\",\"zerolinecolor\":\"white\"},\"zaxis\":{\"backgroundcolor\":\"#E5ECF6\",\"gridcolor\":\"white\",\"gridwidth\":2,\"linecolor\":\"white\",\"showbackground\":true,\"ticks\":\"\",\"zerolinecolor\":\"white\"}},\"shapedefaults\":{\"line\":{\"color\":\"#2a3f5f\"}},\"ternary\":{\"aaxis\":{\"gridcolor\":\"white\",\"linecolor\":\"white\",\"ticks\":\"\"},\"baxis\":{\"gridcolor\":\"white\",\"linecolor\":\"white\",\"ticks\":\"\"},\"bgcolor\":\"#E5ECF6\",\"caxis\":{\"gridcolor\":\"white\",\"linecolor\":\"white\",\"ticks\":\"\"}},\"title\":{\"x\":0.05},\"xaxis\":{\"automargin\":true,\"gridcolor\":\"white\",\"linecolor\":\"white\",\"ticks\":\"\",\"title\":{\"standoff\":15},\"zerolinecolor\":\"white\",\"zerolinewidth\":2},\"yaxis\":{\"automargin\":true,\"gridcolor\":\"white\",\"linecolor\":\"white\",\"ticks\":\"\",\"title\":{\"standoff\":15},\"zerolinecolor\":\"white\",\"zerolinewidth\":2}}},\"title\":{\"font\":{\"color\":\"#4D5663\"}},\"xaxis\":{\"gridcolor\":\"#E1E5ED\",\"showgrid\":true,\"tickfont\":{\"color\":\"#4D5663\"},\"title\":{\"font\":{\"color\":\"#4D5663\"},\"text\":\"\"},\"zerolinecolor\":\"#E1E5ED\"},\"yaxis\":{\"gridcolor\":\"#E1E5ED\",\"showgrid\":true,\"tickfont\":{\"color\":\"#4D5663\"},\"title\":{\"font\":{\"color\":\"#4D5663\"},\"text\":\"\"},\"zerolinecolor\":\"#E1E5ED\"}},                        {\"showLink\": true, \"linkText\": \"Export to plot.ly\", \"plotlyServerURL\": \"https://plot.ly\", \"responsive\": true}                    ).then(function(){\n",
              "                            \n",
              "var gd = document.getElementById('19f827dc-9b8a-4e46-8276-65ee68f6a73b');\n",
              "var x = new MutationObserver(function (mutations, observer) {{\n",
              "        var display = window.getComputedStyle(gd).display;\n",
              "        if (!display || display === 'none') {{\n",
              "            console.log([gd, 'removed!']);\n",
              "            Plotly.purge(gd);\n",
              "            observer.disconnect();\n",
              "        }}\n",
              "}});\n",
              "\n",
              "// Listen for the removal of the full notebook cells\n",
              "var notebookContainer = gd.closest('#notebook-container');\n",
              "if (notebookContainer) {{\n",
              "    x.observe(notebookContainer, {childList: true});\n",
              "}}\n",
              "\n",
              "// Listen for the clearing of the current output cell\n",
              "var outputEl = gd.closest('.output');\n",
              "if (outputEl) {{\n",
              "    x.observe(outputEl, {childList: true});\n",
              "}}\n",
              "\n",
              "                        })                };                            </script>        </div>\n",
              "</body>\n",
              "</html>"
            ]
          },
          "metadata": {}
        }
      ],
      "source": [
        "df.count().iplot(kind='bar')"
      ]
    },
    {
      "cell_type": "markdown",
      "metadata": {
        "id": "OVih8Cfix6k1"
      },
      "source": [
        "## Boxplots"
      ]
    },
    {
      "cell_type": "code",
      "execution_count": null,
      "metadata": {
        "colab": {
          "base_uri": "https://localhost:8080/",
          "height": 542
        },
        "id": "X0py_ksvx6k1",
        "outputId": "40d06734-7fc6-423b-a5e1-4899e353644d"
      },
      "outputs": [
        {
          "output_type": "display_data",
          "data": {
            "text/html": [
              "<html>\n",
              "<head><meta charset=\"utf-8\" /></head>\n",
              "<body>\n",
              "    <div>            <script src=\"https://cdnjs.cloudflare.com/ajax/libs/mathjax/2.7.5/MathJax.js?config=TeX-AMS-MML_SVG\"></script><script type=\"text/javascript\">if (window.MathJax && window.MathJax.Hub && window.MathJax.Hub.Config) {window.MathJax.Hub.Config({SVG: {font: \"STIX-Web\"}});}</script>                <script type=\"text/javascript\">window.PlotlyConfig = {MathJaxConfig: 'local'};</script>\n",
              "        <script src=\"https://cdn.plot.ly/plotly-2.18.2.min.js\"></script>                <div id=\"fb0a4ae7-f341-476f-950b-da39a2b391ba\" class=\"plotly-graph-div\" style=\"height:525px; width:100%;\"></div>            <script type=\"text/javascript\">                                    window.PLOTLYENV=window.PLOTLYENV || {};\n",
              "                    window.PLOTLYENV.BASE_URL='https://plot.ly';                                    if (document.getElementById(\"fb0a4ae7-f341-476f-950b-da39a2b391ba\")) {                    Plotly.newPlot(                        \"fb0a4ae7-f341-476f-950b-da39a2b391ba\",                        [{\"boxpoints\":false,\"line\":{\"width\":1.3},\"marker\":{\"color\":\"rgba(255, 153, 51, 1.0)\"},\"name\":\"A\",\"orientation\":\"v\",\"y\":[0.7691784995835123,0.5930975967058625,-0.8268180066062986,-1.4798937866546928,0.7546745829779332,0.6854352617460164,-0.9980087611564901,2.082481774975682,1.0360799714321085,-0.5596362244966987,-0.4869325693186466,-1.1467822517709811,0.4897042733196294,0.11255858318338514,-1.1429485654044176,-0.9852914367655755,1.1480072970446293,-0.38597731027090054,0.561381109685678,-1.4788691449109457,-2.5183766293620664,1.3494893180333873,0.808904714221283,-0.7252819239872144,0.739264054916365,-0.20560381238890352,0.11150178330403865,-0.21161588835368772,-1.6798392261307484,-0.6557693322864646,0.8026980565550529,1.30935491670183,-0.5827564322818811,-1.1468198545339872,-0.6873515814990135,-0.7307769401939949,0.1266589675223329,-0.5658110859011868,-0.9436357486116467,-0.4178120060319037,1.419424789660255,-0.2651943745852867,-2.459041283650597,0.5478598433502244,0.4836680796627568,0.9059419699109957,-1.3899236392935883,0.5578669304961553,-1.9002122940451187,-1.9699139583988612,0.836250917555081,1.3456989828293007,0.8239295568867382,0.7480630363394505,-0.5328117074983701,-0.5123635408948722,-0.7632442896479691,0.5475055637793234,0.6678416048116295,0.6553732559593416,-0.364076208655999,1.1801295122649056,0.4538652326765641,-0.6896136898454142,0.2294735712125904,-0.3331820156127166,0.9496126012595382,-0.17413536594199125,0.09518152978652615,0.85478433862581,1.202127798049566,-0.18773084155997413,-0.541326316467827,-0.07027920343429209,1.0648549407021457,-1.1829387646048528,1.1227355338247973,0.41221007873289445,-1.2712097170864594,-0.19393312163221857,-0.5975178679184429,-0.4237759477495272,0.6889886810013593,0.06733322248016295,-1.4036666135457831,1.0982141227922406,-0.1356842299784047,1.7081511706167924,-0.6779923099372411,-0.9169636700006659,1.4290890597982628,-1.6806884500548356,0.16088601862836888,0.4224880669513213,0.2541082332237526,1.012220061824921,0.1270682525630813,-1.5139400438464683,0.4208509888726101,0.10954115488873355],\"type\":\"box\"},{\"boxpoints\":false,\"line\":{\"width\":1.3},\"marker\":{\"color\":\"rgba(55, 128, 191, 1.0)\"},\"name\":\"B\",\"orientation\":\"v\",\"y\":[-1.6423187482682884,0.41963168348187535,-1.3496479565759631,-0.7990361289514452,1.0498037657974644,-1.4684911257784452,0.26529632352818244,1.1210444123093954,-0.8543052531017374,0.4936004792092293,0.3352964969986158,-0.8335670998872349,-0.873768927822603,0.838989083278963,0.6596806063582598,-0.4360417505026612,-0.7947653405354053,0.14152119373257438,-1.338146052069779,-0.20681637187432067,0.6862975890764074,0.6238965610420034,1.563221795575264,1.8777758510451736,-0.12962890082266365,0.814717176296732,0.6670823309262822,-2.6319140690241842,-0.7398901828927356,3.017548881587734,2.80896151749723,-0.35186053953479296,-0.519248020044265,2.183418909317853,0.33325356856113764,-0.1427680004214156,-1.4033215382841377,-0.031785386858465804,-1.0360737038457462,1.9383566722100194,0.922923719865304,1.052425126856661,1.6151167858507176,-0.29592404346606044,0.4672427362889414,-0.43962349980608306,-0.38749559180114634,-0.28544887827195764,0.01609848741884537,0.9923828452377574,0.7796568179793499,-1.422854421793395,0.0781336598529172,-0.3914933114847213,1.3804867486194805,0.364589500748893,0.45909539135096716,-0.4487222628383241,-0.3214478676486004,-0.25362373577023023,0.4648967220447523,0.4064034894197302,0.7339872364955721,1.1417595721284521,0.26409993389812947,0.11004780674212165,-0.23889226516326656,1.2848556430335665,0.7337083145318132,-1.8304406299363378,-0.9793388399961094,0.7868901247164648,-0.44638313155782816,1.2436611543011358,-0.976749209415963,-0.10104324891718097,1.2227944696341,1.9563728706496435,-0.28317982626843696,-0.44523366114945645,2.156202305757598,2.8820734332729945,-0.04376901548548563,1.0932176647358811,0.8042309346264729,0.2835630911992262,-0.2949796439396551,-1.026712578823772,1.0941919997337546,1.8651982790997288,-0.7485174567526562,-1.2735582311735507,-0.44204571582667407,0.19317135054614334,-2.17928112947225,0.25154244109528123,-0.026738306050912642,0.23149058077638784,1.901854709334183,1.2416852092635293],\"type\":\"box\"},{\"boxpoints\":false,\"line\":{\"width\":1.3},\"marker\":{\"color\":\"rgba(50, 171, 96, 1.0)\"},\"name\":\"C\",\"orientation\":\"v\",\"y\":[0.3346969639520708,-1.2336317243393349,0.6230812840141222,1.0508854655154376,0.4530222606278692,2.16455017310658,0.7085731176432195,-0.31079458736183335,0.34697243272396505,2.495050229549977,-0.49622289933869407,-0.5665238902214267,1.116378491241042,-1.4392136318750834,-0.16631951571032816,-0.6765118180152798,1.1648278942613461,0.2635453415324377,0.1366144025411083,1.2405491191282827,-1.5543907252811087,-1.559276416181382,-1.8252999884048469,-0.13612372636118525,1.5646929374691396,-1.3158874744435545,-0.7415816279964159,-0.02005047927330447,1.6202154617352302,-1.2318048734488694,-0.2964136725294143,-1.4231918287565117,-0.7114391583847743,0.3781657115467283,-0.4511097327962044,0.17558307770721882,-0.08251109461551036,-0.30065330297117965,-0.37427064425321915,-0.41749354045256054,-1.467342825825888,-1.5544659977242161,-0.7250548841901909,0.571969068026345,-0.820012425772976,1.0324124674521806,0.6134366376614737,0.008205890826946881,-0.7189657408398175,2.85667446562105,0.7690945991237577,0.07777185862191514,0.3932194541736613,-1.2599174978493304,-0.23555416586727532,1.9584477612337254,0.24525068230898311,0.6562594200839934,-1.0469931367085725,0.6426356847976332,-0.2488515670285282,-0.8671846504029506,1.1510688310062849,0.5477439829627061,0.7423898582393791,-1.9121763857927636,-0.10208024225432279,-1.3560081585920087,0.7966898585164544,0.43562215839844604,-1.838921802165319,0.6132669266941965,1.4244284900296638,-0.02668913107232897,0.3095638679023362,2.436711341747925,-1.0610049756040834,1.244508093550768,-0.32962468096917996,-1.3211407011617657,-1.227957832402727,-0.05387807236747335,0.7271996019729741,0.33246522838981135,-1.1621360832968393,0.5243175624581307,-0.1145364103931661,0.33823564130777906,-0.768172544956866,0.04567572432591013,-0.6351876822094256,0.7789817672634333,-1.331186611693832,1.0428243624994458,0.10073765125932399,-1.7120813441814493,0.32668871889999884,-0.2242408214064022,-0.43067183917431184,0.5746507037405056],\"type\":\"box\"},{\"boxpoints\":false,\"line\":{\"width\":1.3},\"marker\":{\"color\":\"rgba(128, 0, 128, 1.0)\"},\"name\":\"D\",\"orientation\":\"v\",\"y\":[1.266260783512096,1.0760678342652144,-0.4650242740301058,-0.21647021700164917,0.28601333311938815,1.041346587755044,1.131971709867667,-0.5037139976965158,-0.4446965897131244,-0.4062812453982732,1.9698218935257283,1.2400234327014281,0.09218559392171667,0.12130486320546094,1.4483688647282036,-1.6627483465007056,0.42929645852249576,-0.5742498464341546,0.5886417109645046,0.1367021390009385,0.11654989810394253,-1.190242416914513,-0.15678849807221498,-0.030021989263458573,0.4989251361268583,-1.0076214923049656,0.31640917535229374,-0.12037651381974299,0.4152759338046989,-1.1612158031733368,0.22748524851633747,0.5890373539937255,0.34813989121135613,0.973326800718654,0.5773381622148324,0.3220137378478031,1.4936138767913432,1.8421077393332435,-1.9200557735141413,-0.22106275386649604,0.6149429736384715,0.28252553405393666,1.9661837911604012,-0.6376042001094842,0.3970691860753473,-0.5953892020610756,-0.15750985826333797,-0.24476953508191568,2.2733876793116385,-0.4657309413595077,-1.672454296377257,0.29907899502694196,0.04125147616487651,1.9474680691631634,1.5613351391319197,0.25603899131099833,0.672054181060471,-1.2035988643011164,1.2936692365541127,-0.7667030398763873,-0.07415602864939085,0.4922250541304212,0.46356334211688566,-1.355559756269536,0.34743964337864214,0.9146460893053346,-1.5669751437579442,0.24310885228389184,0.05070641361348756,-0.9119974398988641,-0.39816041158440796,0.40896385475364666,-0.4745354476018699,-0.06578493214694237,-1.2969495697154847,0.6768024113040993,-0.8955931160273207,0.3340560691415455,-0.7252430723585578,-1.1796227752297488,-0.8175317713570831,-1.0886306630852263,-0.47103420377994176,-1.090721576816317,1.4469491330064537,1.4977564650559236,-1.3016479877074265,0.7997520054814105,0.5598306576553228,2.5683896885626063,-2.4601660696001253,0.39630858940224933,-0.46580829714413075,-0.19493535222974312,0.239518777196436,0.41745874232209057,-0.12032830911856207,-0.10276619829661858,1.2624844876472245,0.2588212759339863],\"type\":\"box\"}],                        {\"legend\":{\"bgcolor\":\"#F5F6F9\",\"font\":{\"color\":\"#4D5663\"}},\"paper_bgcolor\":\"#F5F6F9\",\"plot_bgcolor\":\"#F5F6F9\",\"template\":{\"data\":{\"barpolar\":[{\"marker\":{\"line\":{\"color\":\"#E5ECF6\",\"width\":0.5},\"pattern\":{\"fillmode\":\"overlay\",\"size\":10,\"solidity\":0.2}},\"type\":\"barpolar\"}],\"bar\":[{\"error_x\":{\"color\":\"#2a3f5f\"},\"error_y\":{\"color\":\"#2a3f5f\"},\"marker\":{\"line\":{\"color\":\"#E5ECF6\",\"width\":0.5},\"pattern\":{\"fillmode\":\"overlay\",\"size\":10,\"solidity\":0.2}},\"type\":\"bar\"}],\"carpet\":[{\"aaxis\":{\"endlinecolor\":\"#2a3f5f\",\"gridcolor\":\"white\",\"linecolor\":\"white\",\"minorgridcolor\":\"white\",\"startlinecolor\":\"#2a3f5f\"},\"baxis\":{\"endlinecolor\":\"#2a3f5f\",\"gridcolor\":\"white\",\"linecolor\":\"white\",\"minorgridcolor\":\"white\",\"startlinecolor\":\"#2a3f5f\"},\"type\":\"carpet\"}],\"choropleth\":[{\"colorbar\":{\"outlinewidth\":0,\"ticks\":\"\"},\"type\":\"choropleth\"}],\"contourcarpet\":[{\"colorbar\":{\"outlinewidth\":0,\"ticks\":\"\"},\"type\":\"contourcarpet\"}],\"contour\":[{\"colorbar\":{\"outlinewidth\":0,\"ticks\":\"\"},\"colorscale\":[[0.0,\"#0d0887\"],[0.1111111111111111,\"#46039f\"],[0.2222222222222222,\"#7201a8\"],[0.3333333333333333,\"#9c179e\"],[0.4444444444444444,\"#bd3786\"],[0.5555555555555556,\"#d8576b\"],[0.6666666666666666,\"#ed7953\"],[0.7777777777777778,\"#fb9f3a\"],[0.8888888888888888,\"#fdca26\"],[1.0,\"#f0f921\"]],\"type\":\"contour\"}],\"heatmapgl\":[{\"colorbar\":{\"outlinewidth\":0,\"ticks\":\"\"},\"colorscale\":[[0.0,\"#0d0887\"],[0.1111111111111111,\"#46039f\"],[0.2222222222222222,\"#7201a8\"],[0.3333333333333333,\"#9c179e\"],[0.4444444444444444,\"#bd3786\"],[0.5555555555555556,\"#d8576b\"],[0.6666666666666666,\"#ed7953\"],[0.7777777777777778,\"#fb9f3a\"],[0.8888888888888888,\"#fdca26\"],[1.0,\"#f0f921\"]],\"type\":\"heatmapgl\"}],\"heatmap\":[{\"colorbar\":{\"outlinewidth\":0,\"ticks\":\"\"},\"colorscale\":[[0.0,\"#0d0887\"],[0.1111111111111111,\"#46039f\"],[0.2222222222222222,\"#7201a8\"],[0.3333333333333333,\"#9c179e\"],[0.4444444444444444,\"#bd3786\"],[0.5555555555555556,\"#d8576b\"],[0.6666666666666666,\"#ed7953\"],[0.7777777777777778,\"#fb9f3a\"],[0.8888888888888888,\"#fdca26\"],[1.0,\"#f0f921\"]],\"type\":\"heatmap\"}],\"histogram2dcontour\":[{\"colorbar\":{\"outlinewidth\":0,\"ticks\":\"\"},\"colorscale\":[[0.0,\"#0d0887\"],[0.1111111111111111,\"#46039f\"],[0.2222222222222222,\"#7201a8\"],[0.3333333333333333,\"#9c179e\"],[0.4444444444444444,\"#bd3786\"],[0.5555555555555556,\"#d8576b\"],[0.6666666666666666,\"#ed7953\"],[0.7777777777777778,\"#fb9f3a\"],[0.8888888888888888,\"#fdca26\"],[1.0,\"#f0f921\"]],\"type\":\"histogram2dcontour\"}],\"histogram2d\":[{\"colorbar\":{\"outlinewidth\":0,\"ticks\":\"\"},\"colorscale\":[[0.0,\"#0d0887\"],[0.1111111111111111,\"#46039f\"],[0.2222222222222222,\"#7201a8\"],[0.3333333333333333,\"#9c179e\"],[0.4444444444444444,\"#bd3786\"],[0.5555555555555556,\"#d8576b\"],[0.6666666666666666,\"#ed7953\"],[0.7777777777777778,\"#fb9f3a\"],[0.8888888888888888,\"#fdca26\"],[1.0,\"#f0f921\"]],\"type\":\"histogram2d\"}],\"histogram\":[{\"marker\":{\"pattern\":{\"fillmode\":\"overlay\",\"size\":10,\"solidity\":0.2}},\"type\":\"histogram\"}],\"mesh3d\":[{\"colorbar\":{\"outlinewidth\":0,\"ticks\":\"\"},\"type\":\"mesh3d\"}],\"parcoords\":[{\"line\":{\"colorbar\":{\"outlinewidth\":0,\"ticks\":\"\"}},\"type\":\"parcoords\"}],\"pie\":[{\"automargin\":true,\"type\":\"pie\"}],\"scatter3d\":[{\"line\":{\"colorbar\":{\"outlinewidth\":0,\"ticks\":\"\"}},\"marker\":{\"colorbar\":{\"outlinewidth\":0,\"ticks\":\"\"}},\"type\":\"scatter3d\"}],\"scattercarpet\":[{\"marker\":{\"colorbar\":{\"outlinewidth\":0,\"ticks\":\"\"}},\"type\":\"scattercarpet\"}],\"scattergeo\":[{\"marker\":{\"colorbar\":{\"outlinewidth\":0,\"ticks\":\"\"}},\"type\":\"scattergeo\"}],\"scattergl\":[{\"marker\":{\"colorbar\":{\"outlinewidth\":0,\"ticks\":\"\"}},\"type\":\"scattergl\"}],\"scattermapbox\":[{\"marker\":{\"colorbar\":{\"outlinewidth\":0,\"ticks\":\"\"}},\"type\":\"scattermapbox\"}],\"scatterpolargl\":[{\"marker\":{\"colorbar\":{\"outlinewidth\":0,\"ticks\":\"\"}},\"type\":\"scatterpolargl\"}],\"scatterpolar\":[{\"marker\":{\"colorbar\":{\"outlinewidth\":0,\"ticks\":\"\"}},\"type\":\"scatterpolar\"}],\"scatter\":[{\"fillpattern\":{\"fillmode\":\"overlay\",\"size\":10,\"solidity\":0.2},\"type\":\"scatter\"}],\"scatterternary\":[{\"marker\":{\"colorbar\":{\"outlinewidth\":0,\"ticks\":\"\"}},\"type\":\"scatterternary\"}],\"surface\":[{\"colorbar\":{\"outlinewidth\":0,\"ticks\":\"\"},\"colorscale\":[[0.0,\"#0d0887\"],[0.1111111111111111,\"#46039f\"],[0.2222222222222222,\"#7201a8\"],[0.3333333333333333,\"#9c179e\"],[0.4444444444444444,\"#bd3786\"],[0.5555555555555556,\"#d8576b\"],[0.6666666666666666,\"#ed7953\"],[0.7777777777777778,\"#fb9f3a\"],[0.8888888888888888,\"#fdca26\"],[1.0,\"#f0f921\"]],\"type\":\"surface\"}],\"table\":[{\"cells\":{\"fill\":{\"color\":\"#EBF0F8\"},\"line\":{\"color\":\"white\"}},\"header\":{\"fill\":{\"color\":\"#C8D4E3\"},\"line\":{\"color\":\"white\"}},\"type\":\"table\"}]},\"layout\":{\"annotationdefaults\":{\"arrowcolor\":\"#2a3f5f\",\"arrowhead\":0,\"arrowwidth\":1},\"autotypenumbers\":\"strict\",\"coloraxis\":{\"colorbar\":{\"outlinewidth\":0,\"ticks\":\"\"}},\"colorscale\":{\"diverging\":[[0,\"#8e0152\"],[0.1,\"#c51b7d\"],[0.2,\"#de77ae\"],[0.3,\"#f1b6da\"],[0.4,\"#fde0ef\"],[0.5,\"#f7f7f7\"],[0.6,\"#e6f5d0\"],[0.7,\"#b8e186\"],[0.8,\"#7fbc41\"],[0.9,\"#4d9221\"],[1,\"#276419\"]],\"sequential\":[[0.0,\"#0d0887\"],[0.1111111111111111,\"#46039f\"],[0.2222222222222222,\"#7201a8\"],[0.3333333333333333,\"#9c179e\"],[0.4444444444444444,\"#bd3786\"],[0.5555555555555556,\"#d8576b\"],[0.6666666666666666,\"#ed7953\"],[0.7777777777777778,\"#fb9f3a\"],[0.8888888888888888,\"#fdca26\"],[1.0,\"#f0f921\"]],\"sequentialminus\":[[0.0,\"#0d0887\"],[0.1111111111111111,\"#46039f\"],[0.2222222222222222,\"#7201a8\"],[0.3333333333333333,\"#9c179e\"],[0.4444444444444444,\"#bd3786\"],[0.5555555555555556,\"#d8576b\"],[0.6666666666666666,\"#ed7953\"],[0.7777777777777778,\"#fb9f3a\"],[0.8888888888888888,\"#fdca26\"],[1.0,\"#f0f921\"]]},\"colorway\":[\"#636efa\",\"#EF553B\",\"#00cc96\",\"#ab63fa\",\"#FFA15A\",\"#19d3f3\",\"#FF6692\",\"#B6E880\",\"#FF97FF\",\"#FECB52\"],\"font\":{\"color\":\"#2a3f5f\"},\"geo\":{\"bgcolor\":\"white\",\"lakecolor\":\"white\",\"landcolor\":\"#E5ECF6\",\"showlakes\":true,\"showland\":true,\"subunitcolor\":\"white\"},\"hoverlabel\":{\"align\":\"left\"},\"hovermode\":\"closest\",\"mapbox\":{\"style\":\"light\"},\"paper_bgcolor\":\"white\",\"plot_bgcolor\":\"#E5ECF6\",\"polar\":{\"angularaxis\":{\"gridcolor\":\"white\",\"linecolor\":\"white\",\"ticks\":\"\"},\"bgcolor\":\"#E5ECF6\",\"radialaxis\":{\"gridcolor\":\"white\",\"linecolor\":\"white\",\"ticks\":\"\"}},\"scene\":{\"xaxis\":{\"backgroundcolor\":\"#E5ECF6\",\"gridcolor\":\"white\",\"gridwidth\":2,\"linecolor\":\"white\",\"showbackground\":true,\"ticks\":\"\",\"zerolinecolor\":\"white\"},\"yaxis\":{\"backgroundcolor\":\"#E5ECF6\",\"gridcolor\":\"white\",\"gridwidth\":2,\"linecolor\":\"white\",\"showbackground\":true,\"ticks\":\"\",\"zerolinecolor\":\"white\"},\"zaxis\":{\"backgroundcolor\":\"#E5ECF6\",\"gridcolor\":\"white\",\"gridwidth\":2,\"linecolor\":\"white\",\"showbackground\":true,\"ticks\":\"\",\"zerolinecolor\":\"white\"}},\"shapedefaults\":{\"line\":{\"color\":\"#2a3f5f\"}},\"ternary\":{\"aaxis\":{\"gridcolor\":\"white\",\"linecolor\":\"white\",\"ticks\":\"\"},\"baxis\":{\"gridcolor\":\"white\",\"linecolor\":\"white\",\"ticks\":\"\"},\"bgcolor\":\"#E5ECF6\",\"caxis\":{\"gridcolor\":\"white\",\"linecolor\":\"white\",\"ticks\":\"\"}},\"title\":{\"x\":0.05},\"xaxis\":{\"automargin\":true,\"gridcolor\":\"white\",\"linecolor\":\"white\",\"ticks\":\"\",\"title\":{\"standoff\":15},\"zerolinecolor\":\"white\",\"zerolinewidth\":2},\"yaxis\":{\"automargin\":true,\"gridcolor\":\"white\",\"linecolor\":\"white\",\"ticks\":\"\",\"title\":{\"standoff\":15},\"zerolinecolor\":\"white\",\"zerolinewidth\":2}}},\"title\":{\"font\":{\"color\":\"#4D5663\"}},\"xaxis\":{\"gridcolor\":\"#E1E5ED\",\"showgrid\":true,\"tickfont\":{\"color\":\"#4D5663\"},\"title\":{\"font\":{\"color\":\"#4D5663\"},\"text\":\"\"},\"zerolinecolor\":\"#E1E5ED\"},\"yaxis\":{\"gridcolor\":\"#E1E5ED\",\"showgrid\":true,\"tickfont\":{\"color\":\"#4D5663\"},\"title\":{\"font\":{\"color\":\"#4D5663\"},\"text\":\"\"},\"zerolinecolor\":\"#E1E5ED\"}},                        {\"showLink\": true, \"linkText\": \"Export to plot.ly\", \"plotlyServerURL\": \"https://plot.ly\", \"responsive\": true}                    ).then(function(){\n",
              "                            \n",
              "var gd = document.getElementById('fb0a4ae7-f341-476f-950b-da39a2b391ba');\n",
              "var x = new MutationObserver(function (mutations, observer) {{\n",
              "        var display = window.getComputedStyle(gd).display;\n",
              "        if (!display || display === 'none') {{\n",
              "            console.log([gd, 'removed!']);\n",
              "            Plotly.purge(gd);\n",
              "            observer.disconnect();\n",
              "        }}\n",
              "}});\n",
              "\n",
              "// Listen for the removal of the full notebook cells\n",
              "var notebookContainer = gd.closest('#notebook-container');\n",
              "if (notebookContainer) {{\n",
              "    x.observe(notebookContainer, {childList: true});\n",
              "}}\n",
              "\n",
              "// Listen for the clearing of the current output cell\n",
              "var outputEl = gd.closest('.output');\n",
              "if (outputEl) {{\n",
              "    x.observe(outputEl, {childList: true});\n",
              "}}\n",
              "\n",
              "                        })                };                            </script>        </div>\n",
              "</body>\n",
              "</html>"
            ]
          },
          "metadata": {}
        }
      ],
      "source": [
        "df.iplot(kind='box')"
      ]
    },
    {
      "cell_type": "markdown",
      "metadata": {
        "id": "lMymN0gQx6k1"
      },
      "source": [
        "## Superficie 3D"
      ]
    },
    {
      "cell_type": "code",
      "execution_count": null,
      "metadata": {
        "colab": {
          "base_uri": "https://localhost:8080/",
          "height": 542
        },
        "id": "ER667mXhx6k1",
        "outputId": "06e95f7d-6a22-43ba-acbf-8ff9b4a26119"
      },
      "outputs": [
        {
          "output_type": "display_data",
          "data": {
            "text/html": [
              "<html>\n",
              "<head><meta charset=\"utf-8\" /></head>\n",
              "<body>\n",
              "    <div>            <script src=\"https://cdnjs.cloudflare.com/ajax/libs/mathjax/2.7.5/MathJax.js?config=TeX-AMS-MML_SVG\"></script><script type=\"text/javascript\">if (window.MathJax && window.MathJax.Hub && window.MathJax.Hub.Config) {window.MathJax.Hub.Config({SVG: {font: \"STIX-Web\"}});}</script>                <script type=\"text/javascript\">window.PlotlyConfig = {MathJaxConfig: 'local'};</script>\n",
              "        <script src=\"https://cdn.plot.ly/plotly-2.18.2.min.js\"></script>                <div id=\"bd780ed4-47ac-418f-9cb7-b43a4fb741ad\" class=\"plotly-graph-div\" style=\"height:525px; width:100%;\"></div>            <script type=\"text/javascript\">                                    window.PLOTLYENV=window.PLOTLYENV || {};\n",
              "                    window.PLOTLYENV.BASE_URL='https://plot.ly';                                    if (document.getElementById(\"bd780ed4-47ac-418f-9cb7-b43a4fb741ad\")) {                    Plotly.newPlot(                        \"bd780ed4-47ac-418f-9cb7-b43a4fb741ad\",                        [{\"colorscale\":[[0.0,\"rgb(165,0,38)\"],[0.1,\"rgb(215,48,39)\"],[0.2,\"rgb(244,109,67)\"],[0.3,\"rgb(253,174,97)\"],[0.4,\"rgb(254,224,144)\"],[0.5,\"rgb(255,255,191)\"],[0.6,\"rgb(224,243,248)\"],[0.7,\"rgb(171,217,233)\"],[0.8,\"rgb(116,173,209)\"],[0.9,\"rgb(69,117,180)\"],[1.0,\"rgb(49,54,149)\"]],\"x\":[0,1,2,3,4],\"y\":[\"x\",\"y\",\"z\"],\"z\":[[1,2,3,4,5],[10,20,30,20,10],[5,4,3,2,1]],\"type\":\"surface\"}],                        {\"legend\":{\"bgcolor\":\"#F5F6F9\",\"font\":{\"color\":\"#4D5663\"}},\"paper_bgcolor\":\"#F5F6F9\",\"plot_bgcolor\":\"#F5F6F9\",\"template\":{\"data\":{\"barpolar\":[{\"marker\":{\"line\":{\"color\":\"#E5ECF6\",\"width\":0.5},\"pattern\":{\"fillmode\":\"overlay\",\"size\":10,\"solidity\":0.2}},\"type\":\"barpolar\"}],\"bar\":[{\"error_x\":{\"color\":\"#2a3f5f\"},\"error_y\":{\"color\":\"#2a3f5f\"},\"marker\":{\"line\":{\"color\":\"#E5ECF6\",\"width\":0.5},\"pattern\":{\"fillmode\":\"overlay\",\"size\":10,\"solidity\":0.2}},\"type\":\"bar\"}],\"carpet\":[{\"aaxis\":{\"endlinecolor\":\"#2a3f5f\",\"gridcolor\":\"white\",\"linecolor\":\"white\",\"minorgridcolor\":\"white\",\"startlinecolor\":\"#2a3f5f\"},\"baxis\":{\"endlinecolor\":\"#2a3f5f\",\"gridcolor\":\"white\",\"linecolor\":\"white\",\"minorgridcolor\":\"white\",\"startlinecolor\":\"#2a3f5f\"},\"type\":\"carpet\"}],\"choropleth\":[{\"colorbar\":{\"outlinewidth\":0,\"ticks\":\"\"},\"type\":\"choropleth\"}],\"contourcarpet\":[{\"colorbar\":{\"outlinewidth\":0,\"ticks\":\"\"},\"type\":\"contourcarpet\"}],\"contour\":[{\"colorbar\":{\"outlinewidth\":0,\"ticks\":\"\"},\"colorscale\":[[0.0,\"#0d0887\"],[0.1111111111111111,\"#46039f\"],[0.2222222222222222,\"#7201a8\"],[0.3333333333333333,\"#9c179e\"],[0.4444444444444444,\"#bd3786\"],[0.5555555555555556,\"#d8576b\"],[0.6666666666666666,\"#ed7953\"],[0.7777777777777778,\"#fb9f3a\"],[0.8888888888888888,\"#fdca26\"],[1.0,\"#f0f921\"]],\"type\":\"contour\"}],\"heatmapgl\":[{\"colorbar\":{\"outlinewidth\":0,\"ticks\":\"\"},\"colorscale\":[[0.0,\"#0d0887\"],[0.1111111111111111,\"#46039f\"],[0.2222222222222222,\"#7201a8\"],[0.3333333333333333,\"#9c179e\"],[0.4444444444444444,\"#bd3786\"],[0.5555555555555556,\"#d8576b\"],[0.6666666666666666,\"#ed7953\"],[0.7777777777777778,\"#fb9f3a\"],[0.8888888888888888,\"#fdca26\"],[1.0,\"#f0f921\"]],\"type\":\"heatmapgl\"}],\"heatmap\":[{\"colorbar\":{\"outlinewidth\":0,\"ticks\":\"\"},\"colorscale\":[[0.0,\"#0d0887\"],[0.1111111111111111,\"#46039f\"],[0.2222222222222222,\"#7201a8\"],[0.3333333333333333,\"#9c179e\"],[0.4444444444444444,\"#bd3786\"],[0.5555555555555556,\"#d8576b\"],[0.6666666666666666,\"#ed7953\"],[0.7777777777777778,\"#fb9f3a\"],[0.8888888888888888,\"#fdca26\"],[1.0,\"#f0f921\"]],\"type\":\"heatmap\"}],\"histogram2dcontour\":[{\"colorbar\":{\"outlinewidth\":0,\"ticks\":\"\"},\"colorscale\":[[0.0,\"#0d0887\"],[0.1111111111111111,\"#46039f\"],[0.2222222222222222,\"#7201a8\"],[0.3333333333333333,\"#9c179e\"],[0.4444444444444444,\"#bd3786\"],[0.5555555555555556,\"#d8576b\"],[0.6666666666666666,\"#ed7953\"],[0.7777777777777778,\"#fb9f3a\"],[0.8888888888888888,\"#fdca26\"],[1.0,\"#f0f921\"]],\"type\":\"histogram2dcontour\"}],\"histogram2d\":[{\"colorbar\":{\"outlinewidth\":0,\"ticks\":\"\"},\"colorscale\":[[0.0,\"#0d0887\"],[0.1111111111111111,\"#46039f\"],[0.2222222222222222,\"#7201a8\"],[0.3333333333333333,\"#9c179e\"],[0.4444444444444444,\"#bd3786\"],[0.5555555555555556,\"#d8576b\"],[0.6666666666666666,\"#ed7953\"],[0.7777777777777778,\"#fb9f3a\"],[0.8888888888888888,\"#fdca26\"],[1.0,\"#f0f921\"]],\"type\":\"histogram2d\"}],\"histogram\":[{\"marker\":{\"pattern\":{\"fillmode\":\"overlay\",\"size\":10,\"solidity\":0.2}},\"type\":\"histogram\"}],\"mesh3d\":[{\"colorbar\":{\"outlinewidth\":0,\"ticks\":\"\"},\"type\":\"mesh3d\"}],\"parcoords\":[{\"line\":{\"colorbar\":{\"outlinewidth\":0,\"ticks\":\"\"}},\"type\":\"parcoords\"}],\"pie\":[{\"automargin\":true,\"type\":\"pie\"}],\"scatter3d\":[{\"line\":{\"colorbar\":{\"outlinewidth\":0,\"ticks\":\"\"}},\"marker\":{\"colorbar\":{\"outlinewidth\":0,\"ticks\":\"\"}},\"type\":\"scatter3d\"}],\"scattercarpet\":[{\"marker\":{\"colorbar\":{\"outlinewidth\":0,\"ticks\":\"\"}},\"type\":\"scattercarpet\"}],\"scattergeo\":[{\"marker\":{\"colorbar\":{\"outlinewidth\":0,\"ticks\":\"\"}},\"type\":\"scattergeo\"}],\"scattergl\":[{\"marker\":{\"colorbar\":{\"outlinewidth\":0,\"ticks\":\"\"}},\"type\":\"scattergl\"}],\"scattermapbox\":[{\"marker\":{\"colorbar\":{\"outlinewidth\":0,\"ticks\":\"\"}},\"type\":\"scattermapbox\"}],\"scatterpolargl\":[{\"marker\":{\"colorbar\":{\"outlinewidth\":0,\"ticks\":\"\"}},\"type\":\"scatterpolargl\"}],\"scatterpolar\":[{\"marker\":{\"colorbar\":{\"outlinewidth\":0,\"ticks\":\"\"}},\"type\":\"scatterpolar\"}],\"scatter\":[{\"fillpattern\":{\"fillmode\":\"overlay\",\"size\":10,\"solidity\":0.2},\"type\":\"scatter\"}],\"scatterternary\":[{\"marker\":{\"colorbar\":{\"outlinewidth\":0,\"ticks\":\"\"}},\"type\":\"scatterternary\"}],\"surface\":[{\"colorbar\":{\"outlinewidth\":0,\"ticks\":\"\"},\"colorscale\":[[0.0,\"#0d0887\"],[0.1111111111111111,\"#46039f\"],[0.2222222222222222,\"#7201a8\"],[0.3333333333333333,\"#9c179e\"],[0.4444444444444444,\"#bd3786\"],[0.5555555555555556,\"#d8576b\"],[0.6666666666666666,\"#ed7953\"],[0.7777777777777778,\"#fb9f3a\"],[0.8888888888888888,\"#fdca26\"],[1.0,\"#f0f921\"]],\"type\":\"surface\"}],\"table\":[{\"cells\":{\"fill\":{\"color\":\"#EBF0F8\"},\"line\":{\"color\":\"white\"}},\"header\":{\"fill\":{\"color\":\"#C8D4E3\"},\"line\":{\"color\":\"white\"}},\"type\":\"table\"}]},\"layout\":{\"annotationdefaults\":{\"arrowcolor\":\"#2a3f5f\",\"arrowhead\":0,\"arrowwidth\":1},\"autotypenumbers\":\"strict\",\"coloraxis\":{\"colorbar\":{\"outlinewidth\":0,\"ticks\":\"\"}},\"colorscale\":{\"diverging\":[[0,\"#8e0152\"],[0.1,\"#c51b7d\"],[0.2,\"#de77ae\"],[0.3,\"#f1b6da\"],[0.4,\"#fde0ef\"],[0.5,\"#f7f7f7\"],[0.6,\"#e6f5d0\"],[0.7,\"#b8e186\"],[0.8,\"#7fbc41\"],[0.9,\"#4d9221\"],[1,\"#276419\"]],\"sequential\":[[0.0,\"#0d0887\"],[0.1111111111111111,\"#46039f\"],[0.2222222222222222,\"#7201a8\"],[0.3333333333333333,\"#9c179e\"],[0.4444444444444444,\"#bd3786\"],[0.5555555555555556,\"#d8576b\"],[0.6666666666666666,\"#ed7953\"],[0.7777777777777778,\"#fb9f3a\"],[0.8888888888888888,\"#fdca26\"],[1.0,\"#f0f921\"]],\"sequentialminus\":[[0.0,\"#0d0887\"],[0.1111111111111111,\"#46039f\"],[0.2222222222222222,\"#7201a8\"],[0.3333333333333333,\"#9c179e\"],[0.4444444444444444,\"#bd3786\"],[0.5555555555555556,\"#d8576b\"],[0.6666666666666666,\"#ed7953\"],[0.7777777777777778,\"#fb9f3a\"],[0.8888888888888888,\"#fdca26\"],[1.0,\"#f0f921\"]]},\"colorway\":[\"#636efa\",\"#EF553B\",\"#00cc96\",\"#ab63fa\",\"#FFA15A\",\"#19d3f3\",\"#FF6692\",\"#B6E880\",\"#FF97FF\",\"#FECB52\"],\"font\":{\"color\":\"#2a3f5f\"},\"geo\":{\"bgcolor\":\"white\",\"lakecolor\":\"white\",\"landcolor\":\"#E5ECF6\",\"showlakes\":true,\"showland\":true,\"subunitcolor\":\"white\"},\"hoverlabel\":{\"align\":\"left\"},\"hovermode\":\"closest\",\"mapbox\":{\"style\":\"light\"},\"paper_bgcolor\":\"white\",\"plot_bgcolor\":\"#E5ECF6\",\"polar\":{\"angularaxis\":{\"gridcolor\":\"white\",\"linecolor\":\"white\",\"ticks\":\"\"},\"bgcolor\":\"#E5ECF6\",\"radialaxis\":{\"gridcolor\":\"white\",\"linecolor\":\"white\",\"ticks\":\"\"}},\"scene\":{\"xaxis\":{\"backgroundcolor\":\"#E5ECF6\",\"gridcolor\":\"white\",\"gridwidth\":2,\"linecolor\":\"white\",\"showbackground\":true,\"ticks\":\"\",\"zerolinecolor\":\"white\"},\"yaxis\":{\"backgroundcolor\":\"#E5ECF6\",\"gridcolor\":\"white\",\"gridwidth\":2,\"linecolor\":\"white\",\"showbackground\":true,\"ticks\":\"\",\"zerolinecolor\":\"white\"},\"zaxis\":{\"backgroundcolor\":\"#E5ECF6\",\"gridcolor\":\"white\",\"gridwidth\":2,\"linecolor\":\"white\",\"showbackground\":true,\"ticks\":\"\",\"zerolinecolor\":\"white\"}},\"shapedefaults\":{\"line\":{\"color\":\"#2a3f5f\"}},\"ternary\":{\"aaxis\":{\"gridcolor\":\"white\",\"linecolor\":\"white\",\"ticks\":\"\"},\"baxis\":{\"gridcolor\":\"white\",\"linecolor\":\"white\",\"ticks\":\"\"},\"bgcolor\":\"#E5ECF6\",\"caxis\":{\"gridcolor\":\"white\",\"linecolor\":\"white\",\"ticks\":\"\"}},\"title\":{\"x\":0.05},\"xaxis\":{\"automargin\":true,\"gridcolor\":\"white\",\"linecolor\":\"white\",\"ticks\":\"\",\"title\":{\"standoff\":15},\"zerolinecolor\":\"white\",\"zerolinewidth\":2},\"yaxis\":{\"automargin\":true,\"gridcolor\":\"white\",\"linecolor\":\"white\",\"ticks\":\"\",\"title\":{\"standoff\":15},\"zerolinecolor\":\"white\",\"zerolinewidth\":2}}},\"title\":{\"font\":{\"color\":\"#4D5663\"}},\"xaxis\":{\"gridcolor\":\"#E1E5ED\",\"showgrid\":true,\"tickfont\":{\"color\":\"#4D5663\"},\"title\":{\"font\":{\"color\":\"#4D5663\"},\"text\":\"\"},\"zerolinecolor\":\"#E1E5ED\"},\"yaxis\":{\"gridcolor\":\"#E1E5ED\",\"showgrid\":true,\"tickfont\":{\"color\":\"#4D5663\"},\"title\":{\"font\":{\"color\":\"#4D5663\"},\"text\":\"\"},\"zerolinecolor\":\"#E1E5ED\"}},                        {\"showLink\": true, \"linkText\": \"Export to plot.ly\", \"plotlyServerURL\": \"https://plot.ly\", \"responsive\": true}                    ).then(function(){\n",
              "                            \n",
              "var gd = document.getElementById('bd780ed4-47ac-418f-9cb7-b43a4fb741ad');\n",
              "var x = new MutationObserver(function (mutations, observer) {{\n",
              "        var display = window.getComputedStyle(gd).display;\n",
              "        if (!display || display === 'none') {{\n",
              "            console.log([gd, 'removed!']);\n",
              "            Plotly.purge(gd);\n",
              "            observer.disconnect();\n",
              "        }}\n",
              "}});\n",
              "\n",
              "// Listen for the removal of the full notebook cells\n",
              "var notebookContainer = gd.closest('#notebook-container');\n",
              "if (notebookContainer) {{\n",
              "    x.observe(notebookContainer, {childList: true});\n",
              "}}\n",
              "\n",
              "// Listen for the clearing of the current output cell\n",
              "var outputEl = gd.closest('.output');\n",
              "if (outputEl) {{\n",
              "    x.observe(outputEl, {childList: true});\n",
              "}}\n",
              "\n",
              "                        })                };                            </script>        </div>\n",
              "</body>\n",
              "</html>"
            ]
          },
          "metadata": {}
        }
      ],
      "source": [
        "df3 = pd.DataFrame({'x':[1,2,3,4,5],'y':[10,20,30,20,10],'z':[5,4,3,2,1]})\n",
        "df3.iplot(kind='surface',colorscale='rdylbu')"
      ]
    },
    {
      "cell_type": "markdown",
      "metadata": {
        "id": "vVa4yqIMx6k1"
      },
      "source": [
        "## histogram"
      ]
    },
    {
      "cell_type": "code",
      "execution_count": null,
      "metadata": {
        "colab": {
          "base_uri": "https://localhost:8080/",
          "height": 542
        },
        "id": "2dOfpJyRx6k2",
        "outputId": "4ff77cc3-40b7-4f89-f966-e25d153aca3b"
      },
      "outputs": [
        {
          "output_type": "display_data",
          "data": {
            "text/html": [
              "<html>\n",
              "<head><meta charset=\"utf-8\" /></head>\n",
              "<body>\n",
              "    <div>            <script src=\"https://cdnjs.cloudflare.com/ajax/libs/mathjax/2.7.5/MathJax.js?config=TeX-AMS-MML_SVG\"></script><script type=\"text/javascript\">if (window.MathJax && window.MathJax.Hub && window.MathJax.Hub.Config) {window.MathJax.Hub.Config({SVG: {font: \"STIX-Web\"}});}</script>                <script type=\"text/javascript\">window.PlotlyConfig = {MathJaxConfig: 'local'};</script>\n",
              "        <script src=\"https://cdn.plot.ly/plotly-2.18.2.min.js\"></script>                <div id=\"98481232-c0b7-4cdf-8d43-d4296ab04c7f\" class=\"plotly-graph-div\" style=\"height:525px; width:100%;\"></div>            <script type=\"text/javascript\">                                    window.PLOTLYENV=window.PLOTLYENV || {};\n",
              "                    window.PLOTLYENV.BASE_URL='https://plot.ly';                                    if (document.getElementById(\"98481232-c0b7-4cdf-8d43-d4296ab04c7f\")) {                    Plotly.newPlot(                        \"98481232-c0b7-4cdf-8d43-d4296ab04c7f\",                        [{\"histfunc\":\"count\",\"histnorm\":\"\",\"marker\":{\"color\":\"rgba(255, 153, 51, 1.0)\",\"line\":{\"color\":\"#4D5663\",\"width\":1.3}},\"name\":\"A\",\"nbinsx\":25,\"opacity\":0.8,\"orientation\":\"v\",\"x\":[0.7691784995835123,0.5930975967058625,-0.8268180066062986,-1.4798937866546928,0.7546745829779332,0.6854352617460164,-0.9980087611564901,2.082481774975682,1.0360799714321085,-0.5596362244966987,-0.4869325693186466,-1.1467822517709811,0.4897042733196294,0.11255858318338514,-1.1429485654044176,-0.9852914367655755,1.1480072970446293,-0.38597731027090054,0.561381109685678,-1.4788691449109457,-2.5183766293620664,1.3494893180333873,0.808904714221283,-0.7252819239872144,0.739264054916365,-0.20560381238890352,0.11150178330403865,-0.21161588835368772,-1.6798392261307484,-0.6557693322864646,0.8026980565550529,1.30935491670183,-0.5827564322818811,-1.1468198545339872,-0.6873515814990135,-0.7307769401939949,0.1266589675223329,-0.5658110859011868,-0.9436357486116467,-0.4178120060319037,1.419424789660255,-0.2651943745852867,-2.459041283650597,0.5478598433502244,0.4836680796627568,0.9059419699109957,-1.3899236392935883,0.5578669304961553,-1.9002122940451187,-1.9699139583988612,0.836250917555081,1.3456989828293007,0.8239295568867382,0.7480630363394505,-0.5328117074983701,-0.5123635408948722,-0.7632442896479691,0.5475055637793234,0.6678416048116295,0.6553732559593416,-0.364076208655999,1.1801295122649056,0.4538652326765641,-0.6896136898454142,0.2294735712125904,-0.3331820156127166,0.9496126012595382,-0.17413536594199125,0.09518152978652615,0.85478433862581,1.202127798049566,-0.18773084155997413,-0.541326316467827,-0.07027920343429209,1.0648549407021457,-1.1829387646048528,1.1227355338247973,0.41221007873289445,-1.2712097170864594,-0.19393312163221857,-0.5975178679184429,-0.4237759477495272,0.6889886810013593,0.06733322248016295,-1.4036666135457831,1.0982141227922406,-0.1356842299784047,1.7081511706167924,-0.6779923099372411,-0.9169636700006659,1.4290890597982628,-1.6806884500548356,0.16088601862836888,0.4224880669513213,0.2541082332237526,1.012220061824921,0.1270682525630813,-1.5139400438464683,0.4208509888726101,0.10954115488873355],\"type\":\"histogram\"}],                        {\"barmode\":\"overlay\",\"legend\":{\"bgcolor\":\"#F5F6F9\",\"font\":{\"color\":\"#4D5663\"}},\"paper_bgcolor\":\"#F5F6F9\",\"plot_bgcolor\":\"#F5F6F9\",\"template\":{\"data\":{\"barpolar\":[{\"marker\":{\"line\":{\"color\":\"#E5ECF6\",\"width\":0.5},\"pattern\":{\"fillmode\":\"overlay\",\"size\":10,\"solidity\":0.2}},\"type\":\"barpolar\"}],\"bar\":[{\"error_x\":{\"color\":\"#2a3f5f\"},\"error_y\":{\"color\":\"#2a3f5f\"},\"marker\":{\"line\":{\"color\":\"#E5ECF6\",\"width\":0.5},\"pattern\":{\"fillmode\":\"overlay\",\"size\":10,\"solidity\":0.2}},\"type\":\"bar\"}],\"carpet\":[{\"aaxis\":{\"endlinecolor\":\"#2a3f5f\",\"gridcolor\":\"white\",\"linecolor\":\"white\",\"minorgridcolor\":\"white\",\"startlinecolor\":\"#2a3f5f\"},\"baxis\":{\"endlinecolor\":\"#2a3f5f\",\"gridcolor\":\"white\",\"linecolor\":\"white\",\"minorgridcolor\":\"white\",\"startlinecolor\":\"#2a3f5f\"},\"type\":\"carpet\"}],\"choropleth\":[{\"colorbar\":{\"outlinewidth\":0,\"ticks\":\"\"},\"type\":\"choropleth\"}],\"contourcarpet\":[{\"colorbar\":{\"outlinewidth\":0,\"ticks\":\"\"},\"type\":\"contourcarpet\"}],\"contour\":[{\"colorbar\":{\"outlinewidth\":0,\"ticks\":\"\"},\"colorscale\":[[0.0,\"#0d0887\"],[0.1111111111111111,\"#46039f\"],[0.2222222222222222,\"#7201a8\"],[0.3333333333333333,\"#9c179e\"],[0.4444444444444444,\"#bd3786\"],[0.5555555555555556,\"#d8576b\"],[0.6666666666666666,\"#ed7953\"],[0.7777777777777778,\"#fb9f3a\"],[0.8888888888888888,\"#fdca26\"],[1.0,\"#f0f921\"]],\"type\":\"contour\"}],\"heatmapgl\":[{\"colorbar\":{\"outlinewidth\":0,\"ticks\":\"\"},\"colorscale\":[[0.0,\"#0d0887\"],[0.1111111111111111,\"#46039f\"],[0.2222222222222222,\"#7201a8\"],[0.3333333333333333,\"#9c179e\"],[0.4444444444444444,\"#bd3786\"],[0.5555555555555556,\"#d8576b\"],[0.6666666666666666,\"#ed7953\"],[0.7777777777777778,\"#fb9f3a\"],[0.8888888888888888,\"#fdca26\"],[1.0,\"#f0f921\"]],\"type\":\"heatmapgl\"}],\"heatmap\":[{\"colorbar\":{\"outlinewidth\":0,\"ticks\":\"\"},\"colorscale\":[[0.0,\"#0d0887\"],[0.1111111111111111,\"#46039f\"],[0.2222222222222222,\"#7201a8\"],[0.3333333333333333,\"#9c179e\"],[0.4444444444444444,\"#bd3786\"],[0.5555555555555556,\"#d8576b\"],[0.6666666666666666,\"#ed7953\"],[0.7777777777777778,\"#fb9f3a\"],[0.8888888888888888,\"#fdca26\"],[1.0,\"#f0f921\"]],\"type\":\"heatmap\"}],\"histogram2dcontour\":[{\"colorbar\":{\"outlinewidth\":0,\"ticks\":\"\"},\"colorscale\":[[0.0,\"#0d0887\"],[0.1111111111111111,\"#46039f\"],[0.2222222222222222,\"#7201a8\"],[0.3333333333333333,\"#9c179e\"],[0.4444444444444444,\"#bd3786\"],[0.5555555555555556,\"#d8576b\"],[0.6666666666666666,\"#ed7953\"],[0.7777777777777778,\"#fb9f3a\"],[0.8888888888888888,\"#fdca26\"],[1.0,\"#f0f921\"]],\"type\":\"histogram2dcontour\"}],\"histogram2d\":[{\"colorbar\":{\"outlinewidth\":0,\"ticks\":\"\"},\"colorscale\":[[0.0,\"#0d0887\"],[0.1111111111111111,\"#46039f\"],[0.2222222222222222,\"#7201a8\"],[0.3333333333333333,\"#9c179e\"],[0.4444444444444444,\"#bd3786\"],[0.5555555555555556,\"#d8576b\"],[0.6666666666666666,\"#ed7953\"],[0.7777777777777778,\"#fb9f3a\"],[0.8888888888888888,\"#fdca26\"],[1.0,\"#f0f921\"]],\"type\":\"histogram2d\"}],\"histogram\":[{\"marker\":{\"pattern\":{\"fillmode\":\"overlay\",\"size\":10,\"solidity\":0.2}},\"type\":\"histogram\"}],\"mesh3d\":[{\"colorbar\":{\"outlinewidth\":0,\"ticks\":\"\"},\"type\":\"mesh3d\"}],\"parcoords\":[{\"line\":{\"colorbar\":{\"outlinewidth\":0,\"ticks\":\"\"}},\"type\":\"parcoords\"}],\"pie\":[{\"automargin\":true,\"type\":\"pie\"}],\"scatter3d\":[{\"line\":{\"colorbar\":{\"outlinewidth\":0,\"ticks\":\"\"}},\"marker\":{\"colorbar\":{\"outlinewidth\":0,\"ticks\":\"\"}},\"type\":\"scatter3d\"}],\"scattercarpet\":[{\"marker\":{\"colorbar\":{\"outlinewidth\":0,\"ticks\":\"\"}},\"type\":\"scattercarpet\"}],\"scattergeo\":[{\"marker\":{\"colorbar\":{\"outlinewidth\":0,\"ticks\":\"\"}},\"type\":\"scattergeo\"}],\"scattergl\":[{\"marker\":{\"colorbar\":{\"outlinewidth\":0,\"ticks\":\"\"}},\"type\":\"scattergl\"}],\"scattermapbox\":[{\"marker\":{\"colorbar\":{\"outlinewidth\":0,\"ticks\":\"\"}},\"type\":\"scattermapbox\"}],\"scatterpolargl\":[{\"marker\":{\"colorbar\":{\"outlinewidth\":0,\"ticks\":\"\"}},\"type\":\"scatterpolargl\"}],\"scatterpolar\":[{\"marker\":{\"colorbar\":{\"outlinewidth\":0,\"ticks\":\"\"}},\"type\":\"scatterpolar\"}],\"scatter\":[{\"fillpattern\":{\"fillmode\":\"overlay\",\"size\":10,\"solidity\":0.2},\"type\":\"scatter\"}],\"scatterternary\":[{\"marker\":{\"colorbar\":{\"outlinewidth\":0,\"ticks\":\"\"}},\"type\":\"scatterternary\"}],\"surface\":[{\"colorbar\":{\"outlinewidth\":0,\"ticks\":\"\"},\"colorscale\":[[0.0,\"#0d0887\"],[0.1111111111111111,\"#46039f\"],[0.2222222222222222,\"#7201a8\"],[0.3333333333333333,\"#9c179e\"],[0.4444444444444444,\"#bd3786\"],[0.5555555555555556,\"#d8576b\"],[0.6666666666666666,\"#ed7953\"],[0.7777777777777778,\"#fb9f3a\"],[0.8888888888888888,\"#fdca26\"],[1.0,\"#f0f921\"]],\"type\":\"surface\"}],\"table\":[{\"cells\":{\"fill\":{\"color\":\"#EBF0F8\"},\"line\":{\"color\":\"white\"}},\"header\":{\"fill\":{\"color\":\"#C8D4E3\"},\"line\":{\"color\":\"white\"}},\"type\":\"table\"}]},\"layout\":{\"annotationdefaults\":{\"arrowcolor\":\"#2a3f5f\",\"arrowhead\":0,\"arrowwidth\":1},\"autotypenumbers\":\"strict\",\"coloraxis\":{\"colorbar\":{\"outlinewidth\":0,\"ticks\":\"\"}},\"colorscale\":{\"diverging\":[[0,\"#8e0152\"],[0.1,\"#c51b7d\"],[0.2,\"#de77ae\"],[0.3,\"#f1b6da\"],[0.4,\"#fde0ef\"],[0.5,\"#f7f7f7\"],[0.6,\"#e6f5d0\"],[0.7,\"#b8e186\"],[0.8,\"#7fbc41\"],[0.9,\"#4d9221\"],[1,\"#276419\"]],\"sequential\":[[0.0,\"#0d0887\"],[0.1111111111111111,\"#46039f\"],[0.2222222222222222,\"#7201a8\"],[0.3333333333333333,\"#9c179e\"],[0.4444444444444444,\"#bd3786\"],[0.5555555555555556,\"#d8576b\"],[0.6666666666666666,\"#ed7953\"],[0.7777777777777778,\"#fb9f3a\"],[0.8888888888888888,\"#fdca26\"],[1.0,\"#f0f921\"]],\"sequentialminus\":[[0.0,\"#0d0887\"],[0.1111111111111111,\"#46039f\"],[0.2222222222222222,\"#7201a8\"],[0.3333333333333333,\"#9c179e\"],[0.4444444444444444,\"#bd3786\"],[0.5555555555555556,\"#d8576b\"],[0.6666666666666666,\"#ed7953\"],[0.7777777777777778,\"#fb9f3a\"],[0.8888888888888888,\"#fdca26\"],[1.0,\"#f0f921\"]]},\"colorway\":[\"#636efa\",\"#EF553B\",\"#00cc96\",\"#ab63fa\",\"#FFA15A\",\"#19d3f3\",\"#FF6692\",\"#B6E880\",\"#FF97FF\",\"#FECB52\"],\"font\":{\"color\":\"#2a3f5f\"},\"geo\":{\"bgcolor\":\"white\",\"lakecolor\":\"white\",\"landcolor\":\"#E5ECF6\",\"showlakes\":true,\"showland\":true,\"subunitcolor\":\"white\"},\"hoverlabel\":{\"align\":\"left\"},\"hovermode\":\"closest\",\"mapbox\":{\"style\":\"light\"},\"paper_bgcolor\":\"white\",\"plot_bgcolor\":\"#E5ECF6\",\"polar\":{\"angularaxis\":{\"gridcolor\":\"white\",\"linecolor\":\"white\",\"ticks\":\"\"},\"bgcolor\":\"#E5ECF6\",\"radialaxis\":{\"gridcolor\":\"white\",\"linecolor\":\"white\",\"ticks\":\"\"}},\"scene\":{\"xaxis\":{\"backgroundcolor\":\"#E5ECF6\",\"gridcolor\":\"white\",\"gridwidth\":2,\"linecolor\":\"white\",\"showbackground\":true,\"ticks\":\"\",\"zerolinecolor\":\"white\"},\"yaxis\":{\"backgroundcolor\":\"#E5ECF6\",\"gridcolor\":\"white\",\"gridwidth\":2,\"linecolor\":\"white\",\"showbackground\":true,\"ticks\":\"\",\"zerolinecolor\":\"white\"},\"zaxis\":{\"backgroundcolor\":\"#E5ECF6\",\"gridcolor\":\"white\",\"gridwidth\":2,\"linecolor\":\"white\",\"showbackground\":true,\"ticks\":\"\",\"zerolinecolor\":\"white\"}},\"shapedefaults\":{\"line\":{\"color\":\"#2a3f5f\"}},\"ternary\":{\"aaxis\":{\"gridcolor\":\"white\",\"linecolor\":\"white\",\"ticks\":\"\"},\"baxis\":{\"gridcolor\":\"white\",\"linecolor\":\"white\",\"ticks\":\"\"},\"bgcolor\":\"#E5ECF6\",\"caxis\":{\"gridcolor\":\"white\",\"linecolor\":\"white\",\"ticks\":\"\"}},\"title\":{\"x\":0.05},\"xaxis\":{\"automargin\":true,\"gridcolor\":\"white\",\"linecolor\":\"white\",\"ticks\":\"\",\"title\":{\"standoff\":15},\"zerolinecolor\":\"white\",\"zerolinewidth\":2},\"yaxis\":{\"automargin\":true,\"gridcolor\":\"white\",\"linecolor\":\"white\",\"ticks\":\"\",\"title\":{\"standoff\":15},\"zerolinecolor\":\"white\",\"zerolinewidth\":2}}},\"title\":{\"font\":{\"color\":\"#4D5663\"}},\"xaxis\":{\"gridcolor\":\"#E1E5ED\",\"showgrid\":true,\"tickfont\":{\"color\":\"#4D5663\"},\"title\":{\"font\":{\"color\":\"#4D5663\"},\"text\":\"\"},\"zerolinecolor\":\"#E1E5ED\"},\"yaxis\":{\"gridcolor\":\"#E1E5ED\",\"showgrid\":true,\"tickfont\":{\"color\":\"#4D5663\"},\"title\":{\"font\":{\"color\":\"#4D5663\"},\"text\":\"\"},\"zerolinecolor\":\"#E1E5ED\"}},                        {\"showLink\": true, \"linkText\": \"Export to plot.ly\", \"plotlyServerURL\": \"https://plot.ly\", \"responsive\": true}                    ).then(function(){\n",
              "                            \n",
              "var gd = document.getElementById('98481232-c0b7-4cdf-8d43-d4296ab04c7f');\n",
              "var x = new MutationObserver(function (mutations, observer) {{\n",
              "        var display = window.getComputedStyle(gd).display;\n",
              "        if (!display || display === 'none') {{\n",
              "            console.log([gd, 'removed!']);\n",
              "            Plotly.purge(gd);\n",
              "            observer.disconnect();\n",
              "        }}\n",
              "}});\n",
              "\n",
              "// Listen for the removal of the full notebook cells\n",
              "var notebookContainer = gd.closest('#notebook-container');\n",
              "if (notebookContainer) {{\n",
              "    x.observe(notebookContainer, {childList: true});\n",
              "}}\n",
              "\n",
              "// Listen for the clearing of the current output cell\n",
              "var outputEl = gd.closest('.output');\n",
              "if (outputEl) {{\n",
              "    x.observe(outputEl, {childList: true});\n",
              "}}\n",
              "\n",
              "                        })                };                            </script>        </div>\n",
              "</body>\n",
              "</html>"
            ]
          },
          "metadata": {}
        }
      ],
      "source": [
        "df['A'].iplot(kind='hist',bins=25)"
      ]
    },
    {
      "cell_type": "code",
      "execution_count": null,
      "metadata": {
        "colab": {
          "base_uri": "https://localhost:8080/",
          "height": 542
        },
        "id": "z-GkxaS-x6k2",
        "outputId": "432ad26c-146a-4e90-9c72-3697727bdb59"
      },
      "outputs": [
        {
          "output_type": "display_data",
          "data": {
            "text/html": [
              "<html>\n",
              "<head><meta charset=\"utf-8\" /></head>\n",
              "<body>\n",
              "    <div>            <script src=\"https://cdnjs.cloudflare.com/ajax/libs/mathjax/2.7.5/MathJax.js?config=TeX-AMS-MML_SVG\"></script><script type=\"text/javascript\">if (window.MathJax && window.MathJax.Hub && window.MathJax.Hub.Config) {window.MathJax.Hub.Config({SVG: {font: \"STIX-Web\"}});}</script>                <script type=\"text/javascript\">window.PlotlyConfig = {MathJaxConfig: 'local'};</script>\n",
              "        <script src=\"https://cdn.plot.ly/plotly-2.18.2.min.js\"></script>                <div id=\"fdeb3761-fdd8-4ccd-a717-5cf73ba94f11\" class=\"plotly-graph-div\" style=\"height:525px; width:100%;\"></div>            <script type=\"text/javascript\">                                    window.PLOTLYENV=window.PLOTLYENV || {};\n",
              "                    window.PLOTLYENV.BASE_URL='https://plot.ly';                                    if (document.getElementById(\"fdeb3761-fdd8-4ccd-a717-5cf73ba94f11\")) {                    Plotly.newPlot(                        \"fdeb3761-fdd8-4ccd-a717-5cf73ba94f11\",                        [{\"marker\":{\"color\":[\"rgb(255, 153, 51)\",\"rgb(55, 128, 191)\",\"rgb(50, 171, 96)\",\"rgb(128, 0, 128)\",\"rgb(219, 64, 82)\",\"rgb(0, 128, 128)\",\"rgb(255, 255, 51)\",\"rgb(128, 128, 0)\",\"rgb(251, 128, 114)\",\"rgb(128, 177, 211)\"],\"line\":{\"width\":1.3},\"size\":[59,26,65,74,61,97,66,45,59,104,41,40,75,21,48,37,76,57,54,78,19,19,13,49,84,24,36,51,86,26,45,22,37,60,42,55,50,45,44,43,21,19,36,64,34,73,64,52,37,112,68,53,60,25,47,93,57,65,30,65,46,33,76,63,67,12,49,23,68,61,13,64,81,51,58,103,29,78,45,24,26,50,67,59,27,63,49,59,35,53,38,68,24,73,54,16,58,47,43,64],\"symbol\":\"circle\"},\"mode\":\"markers\",\"text\":\"\",\"x\":[0.7691784995835123,0.5930975967058625,-0.8268180066062986,-1.4798937866546928,0.7546745829779332,0.6854352617460164,-0.9980087611564901,2.082481774975682,1.0360799714321085,-0.5596362244966987,-0.4869325693186466,-1.1467822517709811,0.4897042733196294,0.11255858318338514,-1.1429485654044176,-0.9852914367655755,1.1480072970446293,-0.38597731027090054,0.561381109685678,-1.4788691449109457,-2.5183766293620664,1.3494893180333873,0.808904714221283,-0.7252819239872144,0.739264054916365,-0.20560381238890352,0.11150178330403865,-0.21161588835368772,-1.6798392261307484,-0.6557693322864646,0.8026980565550529,1.30935491670183,-0.5827564322818811,-1.1468198545339872,-0.6873515814990135,-0.7307769401939949,0.1266589675223329,-0.5658110859011868,-0.9436357486116467,-0.4178120060319037,1.419424789660255,-0.2651943745852867,-2.459041283650597,0.5478598433502244,0.4836680796627568,0.9059419699109957,-1.3899236392935883,0.5578669304961553,-1.9002122940451187,-1.9699139583988612,0.836250917555081,1.3456989828293007,0.8239295568867382,0.7480630363394505,-0.5328117074983701,-0.5123635408948722,-0.7632442896479691,0.5475055637793234,0.6678416048116295,0.6553732559593416,-0.364076208655999,1.1801295122649056,0.4538652326765641,-0.6896136898454142,0.2294735712125904,-0.3331820156127166,0.9496126012595382,-0.17413536594199125,0.09518152978652615,0.85478433862581,1.202127798049566,-0.18773084155997413,-0.541326316467827,-0.07027920343429209,1.0648549407021457,-1.1829387646048528,1.1227355338247973,0.41221007873289445,-1.2712097170864594,-0.19393312163221857,-0.5975178679184429,-0.4237759477495272,0.6889886810013593,0.06733322248016295,-1.4036666135457831,1.0982141227922406,-0.1356842299784047,1.7081511706167924,-0.6779923099372411,-0.9169636700006659,1.4290890597982628,-1.6806884500548356,0.16088601862836888,0.4224880669513213,0.2541082332237526,1.012220061824921,0.1270682525630813,-1.5139400438464683,0.4208509888726101,0.10954115488873355],\"y\":[-1.6423187482682884,0.41963168348187535,-1.3496479565759631,-0.7990361289514452,1.0498037657974644,-1.4684911257784452,0.26529632352818244,1.1210444123093954,-0.8543052531017374,0.4936004792092293,0.3352964969986158,-0.8335670998872349,-0.873768927822603,0.838989083278963,0.6596806063582598,-0.4360417505026612,-0.7947653405354053,0.14152119373257438,-1.338146052069779,-0.20681637187432067,0.6862975890764074,0.6238965610420034,1.563221795575264,1.8777758510451736,-0.12962890082266365,0.814717176296732,0.6670823309262822,-2.6319140690241842,-0.7398901828927356,3.017548881587734,2.80896151749723,-0.35186053953479296,-0.519248020044265,2.183418909317853,0.33325356856113764,-0.1427680004214156,-1.4033215382841377,-0.031785386858465804,-1.0360737038457462,1.9383566722100194,0.922923719865304,1.052425126856661,1.6151167858507176,-0.29592404346606044,0.4672427362889414,-0.43962349980608306,-0.38749559180114634,-0.28544887827195764,0.01609848741884537,0.9923828452377574,0.7796568179793499,-1.422854421793395,0.0781336598529172,-0.3914933114847213,1.3804867486194805,0.364589500748893,0.45909539135096716,-0.4487222628383241,-0.3214478676486004,-0.25362373577023023,0.4648967220447523,0.4064034894197302,0.7339872364955721,1.1417595721284521,0.26409993389812947,0.11004780674212165,-0.23889226516326656,1.2848556430335665,0.7337083145318132,-1.8304406299363378,-0.9793388399961094,0.7868901247164648,-0.44638313155782816,1.2436611543011358,-0.976749209415963,-0.10104324891718097,1.2227944696341,1.9563728706496435,-0.28317982626843696,-0.44523366114945645,2.156202305757598,2.8820734332729945,-0.04376901548548563,1.0932176647358811,0.8042309346264729,0.2835630911992262,-0.2949796439396551,-1.026712578823772,1.0941919997337546,1.8651982790997288,-0.7485174567526562,-1.2735582311735507,-0.44204571582667407,0.19317135054614334,-2.17928112947225,0.25154244109528123,-0.026738306050912642,0.23149058077638784,1.901854709334183,1.2416852092635293],\"type\":\"scatter\"}],                        {\"legend\":{\"bgcolor\":\"#F5F6F9\",\"font\":{\"color\":\"#4D5663\"}},\"paper_bgcolor\":\"#F5F6F9\",\"plot_bgcolor\":\"#F5F6F9\",\"template\":{\"data\":{\"barpolar\":[{\"marker\":{\"line\":{\"color\":\"#E5ECF6\",\"width\":0.5},\"pattern\":{\"fillmode\":\"overlay\",\"size\":10,\"solidity\":0.2}},\"type\":\"barpolar\"}],\"bar\":[{\"error_x\":{\"color\":\"#2a3f5f\"},\"error_y\":{\"color\":\"#2a3f5f\"},\"marker\":{\"line\":{\"color\":\"#E5ECF6\",\"width\":0.5},\"pattern\":{\"fillmode\":\"overlay\",\"size\":10,\"solidity\":0.2}},\"type\":\"bar\"}],\"carpet\":[{\"aaxis\":{\"endlinecolor\":\"#2a3f5f\",\"gridcolor\":\"white\",\"linecolor\":\"white\",\"minorgridcolor\":\"white\",\"startlinecolor\":\"#2a3f5f\"},\"baxis\":{\"endlinecolor\":\"#2a3f5f\",\"gridcolor\":\"white\",\"linecolor\":\"white\",\"minorgridcolor\":\"white\",\"startlinecolor\":\"#2a3f5f\"},\"type\":\"carpet\"}],\"choropleth\":[{\"colorbar\":{\"outlinewidth\":0,\"ticks\":\"\"},\"type\":\"choropleth\"}],\"contourcarpet\":[{\"colorbar\":{\"outlinewidth\":0,\"ticks\":\"\"},\"type\":\"contourcarpet\"}],\"contour\":[{\"colorbar\":{\"outlinewidth\":0,\"ticks\":\"\"},\"colorscale\":[[0.0,\"#0d0887\"],[0.1111111111111111,\"#46039f\"],[0.2222222222222222,\"#7201a8\"],[0.3333333333333333,\"#9c179e\"],[0.4444444444444444,\"#bd3786\"],[0.5555555555555556,\"#d8576b\"],[0.6666666666666666,\"#ed7953\"],[0.7777777777777778,\"#fb9f3a\"],[0.8888888888888888,\"#fdca26\"],[1.0,\"#f0f921\"]],\"type\":\"contour\"}],\"heatmapgl\":[{\"colorbar\":{\"outlinewidth\":0,\"ticks\":\"\"},\"colorscale\":[[0.0,\"#0d0887\"],[0.1111111111111111,\"#46039f\"],[0.2222222222222222,\"#7201a8\"],[0.3333333333333333,\"#9c179e\"],[0.4444444444444444,\"#bd3786\"],[0.5555555555555556,\"#d8576b\"],[0.6666666666666666,\"#ed7953\"],[0.7777777777777778,\"#fb9f3a\"],[0.8888888888888888,\"#fdca26\"],[1.0,\"#f0f921\"]],\"type\":\"heatmapgl\"}],\"heatmap\":[{\"colorbar\":{\"outlinewidth\":0,\"ticks\":\"\"},\"colorscale\":[[0.0,\"#0d0887\"],[0.1111111111111111,\"#46039f\"],[0.2222222222222222,\"#7201a8\"],[0.3333333333333333,\"#9c179e\"],[0.4444444444444444,\"#bd3786\"],[0.5555555555555556,\"#d8576b\"],[0.6666666666666666,\"#ed7953\"],[0.7777777777777778,\"#fb9f3a\"],[0.8888888888888888,\"#fdca26\"],[1.0,\"#f0f921\"]],\"type\":\"heatmap\"}],\"histogram2dcontour\":[{\"colorbar\":{\"outlinewidth\":0,\"ticks\":\"\"},\"colorscale\":[[0.0,\"#0d0887\"],[0.1111111111111111,\"#46039f\"],[0.2222222222222222,\"#7201a8\"],[0.3333333333333333,\"#9c179e\"],[0.4444444444444444,\"#bd3786\"],[0.5555555555555556,\"#d8576b\"],[0.6666666666666666,\"#ed7953\"],[0.7777777777777778,\"#fb9f3a\"],[0.8888888888888888,\"#fdca26\"],[1.0,\"#f0f921\"]],\"type\":\"histogram2dcontour\"}],\"histogram2d\":[{\"colorbar\":{\"outlinewidth\":0,\"ticks\":\"\"},\"colorscale\":[[0.0,\"#0d0887\"],[0.1111111111111111,\"#46039f\"],[0.2222222222222222,\"#7201a8\"],[0.3333333333333333,\"#9c179e\"],[0.4444444444444444,\"#bd3786\"],[0.5555555555555556,\"#d8576b\"],[0.6666666666666666,\"#ed7953\"],[0.7777777777777778,\"#fb9f3a\"],[0.8888888888888888,\"#fdca26\"],[1.0,\"#f0f921\"]],\"type\":\"histogram2d\"}],\"histogram\":[{\"marker\":{\"pattern\":{\"fillmode\":\"overlay\",\"size\":10,\"solidity\":0.2}},\"type\":\"histogram\"}],\"mesh3d\":[{\"colorbar\":{\"outlinewidth\":0,\"ticks\":\"\"},\"type\":\"mesh3d\"}],\"parcoords\":[{\"line\":{\"colorbar\":{\"outlinewidth\":0,\"ticks\":\"\"}},\"type\":\"parcoords\"}],\"pie\":[{\"automargin\":true,\"type\":\"pie\"}],\"scatter3d\":[{\"line\":{\"colorbar\":{\"outlinewidth\":0,\"ticks\":\"\"}},\"marker\":{\"colorbar\":{\"outlinewidth\":0,\"ticks\":\"\"}},\"type\":\"scatter3d\"}],\"scattercarpet\":[{\"marker\":{\"colorbar\":{\"outlinewidth\":0,\"ticks\":\"\"}},\"type\":\"scattercarpet\"}],\"scattergeo\":[{\"marker\":{\"colorbar\":{\"outlinewidth\":0,\"ticks\":\"\"}},\"type\":\"scattergeo\"}],\"scattergl\":[{\"marker\":{\"colorbar\":{\"outlinewidth\":0,\"ticks\":\"\"}},\"type\":\"scattergl\"}],\"scattermapbox\":[{\"marker\":{\"colorbar\":{\"outlinewidth\":0,\"ticks\":\"\"}},\"type\":\"scattermapbox\"}],\"scatterpolargl\":[{\"marker\":{\"colorbar\":{\"outlinewidth\":0,\"ticks\":\"\"}},\"type\":\"scatterpolargl\"}],\"scatterpolar\":[{\"marker\":{\"colorbar\":{\"outlinewidth\":0,\"ticks\":\"\"}},\"type\":\"scatterpolar\"}],\"scatter\":[{\"fillpattern\":{\"fillmode\":\"overlay\",\"size\":10,\"solidity\":0.2},\"type\":\"scatter\"}],\"scatterternary\":[{\"marker\":{\"colorbar\":{\"outlinewidth\":0,\"ticks\":\"\"}},\"type\":\"scatterternary\"}],\"surface\":[{\"colorbar\":{\"outlinewidth\":0,\"ticks\":\"\"},\"colorscale\":[[0.0,\"#0d0887\"],[0.1111111111111111,\"#46039f\"],[0.2222222222222222,\"#7201a8\"],[0.3333333333333333,\"#9c179e\"],[0.4444444444444444,\"#bd3786\"],[0.5555555555555556,\"#d8576b\"],[0.6666666666666666,\"#ed7953\"],[0.7777777777777778,\"#fb9f3a\"],[0.8888888888888888,\"#fdca26\"],[1.0,\"#f0f921\"]],\"type\":\"surface\"}],\"table\":[{\"cells\":{\"fill\":{\"color\":\"#EBF0F8\"},\"line\":{\"color\":\"white\"}},\"header\":{\"fill\":{\"color\":\"#C8D4E3\"},\"line\":{\"color\":\"white\"}},\"type\":\"table\"}]},\"layout\":{\"annotationdefaults\":{\"arrowcolor\":\"#2a3f5f\",\"arrowhead\":0,\"arrowwidth\":1},\"autotypenumbers\":\"strict\",\"coloraxis\":{\"colorbar\":{\"outlinewidth\":0,\"ticks\":\"\"}},\"colorscale\":{\"diverging\":[[0,\"#8e0152\"],[0.1,\"#c51b7d\"],[0.2,\"#de77ae\"],[0.3,\"#f1b6da\"],[0.4,\"#fde0ef\"],[0.5,\"#f7f7f7\"],[0.6,\"#e6f5d0\"],[0.7,\"#b8e186\"],[0.8,\"#7fbc41\"],[0.9,\"#4d9221\"],[1,\"#276419\"]],\"sequential\":[[0.0,\"#0d0887\"],[0.1111111111111111,\"#46039f\"],[0.2222222222222222,\"#7201a8\"],[0.3333333333333333,\"#9c179e\"],[0.4444444444444444,\"#bd3786\"],[0.5555555555555556,\"#d8576b\"],[0.6666666666666666,\"#ed7953\"],[0.7777777777777778,\"#fb9f3a\"],[0.8888888888888888,\"#fdca26\"],[1.0,\"#f0f921\"]],\"sequentialminus\":[[0.0,\"#0d0887\"],[0.1111111111111111,\"#46039f\"],[0.2222222222222222,\"#7201a8\"],[0.3333333333333333,\"#9c179e\"],[0.4444444444444444,\"#bd3786\"],[0.5555555555555556,\"#d8576b\"],[0.6666666666666666,\"#ed7953\"],[0.7777777777777778,\"#fb9f3a\"],[0.8888888888888888,\"#fdca26\"],[1.0,\"#f0f921\"]]},\"colorway\":[\"#636efa\",\"#EF553B\",\"#00cc96\",\"#ab63fa\",\"#FFA15A\",\"#19d3f3\",\"#FF6692\",\"#B6E880\",\"#FF97FF\",\"#FECB52\"],\"font\":{\"color\":\"#2a3f5f\"},\"geo\":{\"bgcolor\":\"white\",\"lakecolor\":\"white\",\"landcolor\":\"#E5ECF6\",\"showlakes\":true,\"showland\":true,\"subunitcolor\":\"white\"},\"hoverlabel\":{\"align\":\"left\"},\"hovermode\":\"closest\",\"mapbox\":{\"style\":\"light\"},\"paper_bgcolor\":\"white\",\"plot_bgcolor\":\"#E5ECF6\",\"polar\":{\"angularaxis\":{\"gridcolor\":\"white\",\"linecolor\":\"white\",\"ticks\":\"\"},\"bgcolor\":\"#E5ECF6\",\"radialaxis\":{\"gridcolor\":\"white\",\"linecolor\":\"white\",\"ticks\":\"\"}},\"scene\":{\"xaxis\":{\"backgroundcolor\":\"#E5ECF6\",\"gridcolor\":\"white\",\"gridwidth\":2,\"linecolor\":\"white\",\"showbackground\":true,\"ticks\":\"\",\"zerolinecolor\":\"white\"},\"yaxis\":{\"backgroundcolor\":\"#E5ECF6\",\"gridcolor\":\"white\",\"gridwidth\":2,\"linecolor\":\"white\",\"showbackground\":true,\"ticks\":\"\",\"zerolinecolor\":\"white\"},\"zaxis\":{\"backgroundcolor\":\"#E5ECF6\",\"gridcolor\":\"white\",\"gridwidth\":2,\"linecolor\":\"white\",\"showbackground\":true,\"ticks\":\"\",\"zerolinecolor\":\"white\"}},\"shapedefaults\":{\"line\":{\"color\":\"#2a3f5f\"}},\"ternary\":{\"aaxis\":{\"gridcolor\":\"white\",\"linecolor\":\"white\",\"ticks\":\"\"},\"baxis\":{\"gridcolor\":\"white\",\"linecolor\":\"white\",\"ticks\":\"\"},\"bgcolor\":\"#E5ECF6\",\"caxis\":{\"gridcolor\":\"white\",\"linecolor\":\"white\",\"ticks\":\"\"}},\"title\":{\"x\":0.05},\"xaxis\":{\"automargin\":true,\"gridcolor\":\"white\",\"linecolor\":\"white\",\"ticks\":\"\",\"title\":{\"standoff\":15},\"zerolinecolor\":\"white\",\"zerolinewidth\":2},\"yaxis\":{\"automargin\":true,\"gridcolor\":\"white\",\"linecolor\":\"white\",\"ticks\":\"\",\"title\":{\"standoff\":15},\"zerolinecolor\":\"white\",\"zerolinewidth\":2}}},\"title\":{\"font\":{\"color\":\"#4D5663\"}},\"xaxis\":{\"gridcolor\":\"#E1E5ED\",\"showgrid\":true,\"tickfont\":{\"color\":\"#4D5663\"},\"title\":{\"font\":{\"color\":\"#4D5663\"},\"text\":\"\"},\"zerolinecolor\":\"#E1E5ED\"},\"yaxis\":{\"gridcolor\":\"#E1E5ED\",\"showgrid\":true,\"tickfont\":{\"color\":\"#4D5663\"},\"title\":{\"font\":{\"color\":\"#4D5663\"},\"text\":\"\"},\"zerolinecolor\":\"#E1E5ED\"}},                        {\"showLink\": true, \"linkText\": \"Export to plot.ly\", \"plotlyServerURL\": \"https://plot.ly\", \"responsive\": true}                    ).then(function(){\n",
              "                            \n",
              "var gd = document.getElementById('fdeb3761-fdd8-4ccd-a717-5cf73ba94f11');\n",
              "var x = new MutationObserver(function (mutations, observer) {{\n",
              "        var display = window.getComputedStyle(gd).display;\n",
              "        if (!display || display === 'none') {{\n",
              "            console.log([gd, 'removed!']);\n",
              "            Plotly.purge(gd);\n",
              "            observer.disconnect();\n",
              "        }}\n",
              "}});\n",
              "\n",
              "// Listen for the removal of the full notebook cells\n",
              "var notebookContainer = gd.closest('#notebook-container');\n",
              "if (notebookContainer) {{\n",
              "    x.observe(notebookContainer, {childList: true});\n",
              "}}\n",
              "\n",
              "// Listen for the clearing of the current output cell\n",
              "var outputEl = gd.closest('.output');\n",
              "if (outputEl) {{\n",
              "    x.observe(outputEl, {childList: true});\n",
              "}}\n",
              "\n",
              "                        })                };                            </script>        </div>\n",
              "</body>\n",
              "</html>"
            ]
          },
          "metadata": {}
        }
      ],
      "source": [
        "df.iplot(kind='bubble',x='A',y='B',size='C') # size = C? tamaño mínimo y máximo de A y B?"
      ]
    },
    {
      "cell_type": "markdown",
      "metadata": {
        "id": "YVsi9RoXx6k2"
      },
      "source": [
        "## scatter_matrix()\n",
        "\n",
        "Similar a sns.pairplot()"
      ]
    },
    {
      "cell_type": "code",
      "execution_count": null,
      "metadata": {
        "colab": {
          "base_uri": "https://localhost:8080/",
          "height": 542
        },
        "id": "5KlbJ8xLx6k2",
        "outputId": "b899bd01-32c6-4b63-b864-8c687989474f"
      },
      "outputs": [
        {
          "output_type": "display_data",
          "data": {
            "text/html": [
              "<html>\n",
              "<head><meta charset=\"utf-8\" /></head>\n",
              "<body>\n",
              "    <div>            <script src=\"https://cdnjs.cloudflare.com/ajax/libs/mathjax/2.7.5/MathJax.js?config=TeX-AMS-MML_SVG\"></script><script type=\"text/javascript\">if (window.MathJax && window.MathJax.Hub && window.MathJax.Hub.Config) {window.MathJax.Hub.Config({SVG: {font: \"STIX-Web\"}});}</script>                <script type=\"text/javascript\">window.PlotlyConfig = {MathJaxConfig: 'local'};</script>\n",
              "        <script src=\"https://cdn.plot.ly/plotly-2.18.2.min.js\"></script>                <div id=\"7c626423-3355-458b-a351-7b8fd2f66d03\" class=\"plotly-graph-div\" style=\"height:525px; width:100%;\"></div>            <script type=\"text/javascript\">                                    window.PLOTLYENV=window.PLOTLYENV || {};\n",
              "                    window.PLOTLYENV.BASE_URL='https://plot.ly';                                    if (document.getElementById(\"7c626423-3355-458b-a351-7b8fd2f66d03\")) {                    Plotly.newPlot(                        \"7c626423-3355-458b-a351-7b8fd2f66d03\",                        [{\"histfunc\":\"count\",\"histnorm\":\"\",\"marker\":{\"color\":\"rgba(255, 153, 51, 1.0)\",\"line\":{\"color\":\"#4D5663\",\"width\":1.3}},\"name\":\"A\",\"nbinsx\":10,\"opacity\":0.8,\"orientation\":\"v\",\"x\":[0.7691784995835123,0.5930975967058625,-0.8268180066062986,-1.4798937866546928,0.7546745829779332,0.6854352617460164,-0.9980087611564901,2.082481774975682,1.0360799714321085,-0.5596362244966987,-0.4869325693186466,-1.1467822517709811,0.4897042733196294,0.11255858318338514,-1.1429485654044176,-0.9852914367655755,1.1480072970446293,-0.38597731027090054,0.561381109685678,-1.4788691449109457,-2.5183766293620664,1.3494893180333873,0.808904714221283,-0.7252819239872144,0.739264054916365,-0.20560381238890352,0.11150178330403865,-0.21161588835368772,-1.6798392261307484,-0.6557693322864646,0.8026980565550529,1.30935491670183,-0.5827564322818811,-1.1468198545339872,-0.6873515814990135,-0.7307769401939949,0.1266589675223329,-0.5658110859011868,-0.9436357486116467,-0.4178120060319037,1.419424789660255,-0.2651943745852867,-2.459041283650597,0.5478598433502244,0.4836680796627568,0.9059419699109957,-1.3899236392935883,0.5578669304961553,-1.9002122940451187,-1.9699139583988612,0.836250917555081,1.3456989828293007,0.8239295568867382,0.7480630363394505,-0.5328117074983701,-0.5123635408948722,-0.7632442896479691,0.5475055637793234,0.6678416048116295,0.6553732559593416,-0.364076208655999,1.1801295122649056,0.4538652326765641,-0.6896136898454142,0.2294735712125904,-0.3331820156127166,0.9496126012595382,-0.17413536594199125,0.09518152978652615,0.85478433862581,1.202127798049566,-0.18773084155997413,-0.541326316467827,-0.07027920343429209,1.0648549407021457,-1.1829387646048528,1.1227355338247973,0.41221007873289445,-1.2712097170864594,-0.19393312163221857,-0.5975178679184429,-0.4237759477495272,0.6889886810013593,0.06733322248016295,-1.4036666135457831,1.0982141227922406,-0.1356842299784047,1.7081511706167924,-0.6779923099372411,-0.9169636700006659,1.4290890597982628,-1.6806884500548356,0.16088601862836888,0.4224880669513213,0.2541082332237526,1.012220061824921,0.1270682525630813,-1.5139400438464683,0.4208509888726101,0.10954115488873355],\"xaxis\":\"x\",\"yaxis\":\"y\",\"type\":\"histogram\"},{\"line\":{\"color\":\"rgba(128, 128, 128, 1.0)\",\"dash\":\"solid\",\"shape\":\"linear\",\"width\":1.3},\"marker\":{\"size\":2,\"symbol\":\"circle\"},\"mode\":\"markers\",\"name\":\"A\",\"text\":\"\",\"x\":[-1.6423187482682884,0.41963168348187535,-1.3496479565759631,-0.7990361289514452,1.0498037657974644,-1.4684911257784452,0.26529632352818244,1.1210444123093954,-0.8543052531017374,0.4936004792092293,0.3352964969986158,-0.8335670998872349,-0.873768927822603,0.838989083278963,0.6596806063582598,-0.4360417505026612,-0.7947653405354053,0.14152119373257438,-1.338146052069779,-0.20681637187432067,0.6862975890764074,0.6238965610420034,1.563221795575264,1.8777758510451736,-0.12962890082266365,0.814717176296732,0.6670823309262822,-2.6319140690241842,-0.7398901828927356,3.017548881587734,2.80896151749723,-0.35186053953479296,-0.519248020044265,2.183418909317853,0.33325356856113764,-0.1427680004214156,-1.4033215382841377,-0.031785386858465804,-1.0360737038457462,1.9383566722100194,0.922923719865304,1.052425126856661,1.6151167858507176,-0.29592404346606044,0.4672427362889414,-0.43962349980608306,-0.38749559180114634,-0.28544887827195764,0.01609848741884537,0.9923828452377574,0.7796568179793499,-1.422854421793395,0.0781336598529172,-0.3914933114847213,1.3804867486194805,0.364589500748893,0.45909539135096716,-0.4487222628383241,-0.3214478676486004,-0.25362373577023023,0.4648967220447523,0.4064034894197302,0.7339872364955721,1.1417595721284521,0.26409993389812947,0.11004780674212165,-0.23889226516326656,1.2848556430335665,0.7337083145318132,-1.8304406299363378,-0.9793388399961094,0.7868901247164648,-0.44638313155782816,1.2436611543011358,-0.976749209415963,-0.10104324891718097,1.2227944696341,1.9563728706496435,-0.28317982626843696,-0.44523366114945645,2.156202305757598,2.8820734332729945,-0.04376901548548563,1.0932176647358811,0.8042309346264729,0.2835630911992262,-0.2949796439396551,-1.026712578823772,1.0941919997337546,1.8651982790997288,-0.7485174567526562,-1.2735582311735507,-0.44204571582667407,0.19317135054614334,-2.17928112947225,0.25154244109528123,-0.026738306050912642,0.23149058077638784,1.901854709334183,1.2416852092635293],\"xaxis\":\"x2\",\"y\":[0.7691784995835123,0.5930975967058625,-0.8268180066062986,-1.4798937866546928,0.7546745829779332,0.6854352617460164,-0.9980087611564901,2.082481774975682,1.0360799714321085,-0.5596362244966987,-0.4869325693186466,-1.1467822517709811,0.4897042733196294,0.11255858318338514,-1.1429485654044176,-0.9852914367655755,1.1480072970446293,-0.38597731027090054,0.561381109685678,-1.4788691449109457,-2.5183766293620664,1.3494893180333873,0.808904714221283,-0.7252819239872144,0.739264054916365,-0.20560381238890352,0.11150178330403865,-0.21161588835368772,-1.6798392261307484,-0.6557693322864646,0.8026980565550529,1.30935491670183,-0.5827564322818811,-1.1468198545339872,-0.6873515814990135,-0.7307769401939949,0.1266589675223329,-0.5658110859011868,-0.9436357486116467,-0.4178120060319037,1.419424789660255,-0.2651943745852867,-2.459041283650597,0.5478598433502244,0.4836680796627568,0.9059419699109957,-1.3899236392935883,0.5578669304961553,-1.9002122940451187,-1.9699139583988612,0.836250917555081,1.3456989828293007,0.8239295568867382,0.7480630363394505,-0.5328117074983701,-0.5123635408948722,-0.7632442896479691,0.5475055637793234,0.6678416048116295,0.6553732559593416,-0.364076208655999,1.1801295122649056,0.4538652326765641,-0.6896136898454142,0.2294735712125904,-0.3331820156127166,0.9496126012595382,-0.17413536594199125,0.09518152978652615,0.85478433862581,1.202127798049566,-0.18773084155997413,-0.541326316467827,-0.07027920343429209,1.0648549407021457,-1.1829387646048528,1.1227355338247973,0.41221007873289445,-1.2712097170864594,-0.19393312163221857,-0.5975178679184429,-0.4237759477495272,0.6889886810013593,0.06733322248016295,-1.4036666135457831,1.0982141227922406,-0.1356842299784047,1.7081511706167924,-0.6779923099372411,-0.9169636700006659,1.4290890597982628,-1.6806884500548356,0.16088601862836888,0.4224880669513213,0.2541082332237526,1.012220061824921,0.1270682525630813,-1.5139400438464683,0.4208509888726101,0.10954115488873355],\"yaxis\":\"y2\",\"type\":\"scatter\"},{\"line\":{\"color\":\"rgba(128, 128, 128, 1.0)\",\"dash\":\"solid\",\"shape\":\"linear\",\"width\":1.3},\"marker\":{\"size\":2,\"symbol\":\"circle\"},\"mode\":\"markers\",\"name\":\"A\",\"text\":\"\",\"x\":[0.3346969639520708,-1.2336317243393349,0.6230812840141222,1.0508854655154376,0.4530222606278692,2.16455017310658,0.7085731176432195,-0.31079458736183335,0.34697243272396505,2.495050229549977,-0.49622289933869407,-0.5665238902214267,1.116378491241042,-1.4392136318750834,-0.16631951571032816,-0.6765118180152798,1.1648278942613461,0.2635453415324377,0.1366144025411083,1.2405491191282827,-1.5543907252811087,-1.559276416181382,-1.8252999884048469,-0.13612372636118525,1.5646929374691396,-1.3158874744435545,-0.7415816279964159,-0.02005047927330447,1.6202154617352302,-1.2318048734488694,-0.2964136725294143,-1.4231918287565117,-0.7114391583847743,0.3781657115467283,-0.4511097327962044,0.17558307770721882,-0.08251109461551036,-0.30065330297117965,-0.37427064425321915,-0.41749354045256054,-1.467342825825888,-1.5544659977242161,-0.7250548841901909,0.571969068026345,-0.820012425772976,1.0324124674521806,0.6134366376614737,0.008205890826946881,-0.7189657408398175,2.85667446562105,0.7690945991237577,0.07777185862191514,0.3932194541736613,-1.2599174978493304,-0.23555416586727532,1.9584477612337254,0.24525068230898311,0.6562594200839934,-1.0469931367085725,0.6426356847976332,-0.2488515670285282,-0.8671846504029506,1.1510688310062849,0.5477439829627061,0.7423898582393791,-1.9121763857927636,-0.10208024225432279,-1.3560081585920087,0.7966898585164544,0.43562215839844604,-1.838921802165319,0.6132669266941965,1.4244284900296638,-0.02668913107232897,0.3095638679023362,2.436711341747925,-1.0610049756040834,1.244508093550768,-0.32962468096917996,-1.3211407011617657,-1.227957832402727,-0.05387807236747335,0.7271996019729741,0.33246522838981135,-1.1621360832968393,0.5243175624581307,-0.1145364103931661,0.33823564130777906,-0.768172544956866,0.04567572432591013,-0.6351876822094256,0.7789817672634333,-1.331186611693832,1.0428243624994458,0.10073765125932399,-1.7120813441814493,0.32668871889999884,-0.2242408214064022,-0.43067183917431184,0.5746507037405056],\"xaxis\":\"x3\",\"y\":[0.7691784995835123,0.5930975967058625,-0.8268180066062986,-1.4798937866546928,0.7546745829779332,0.6854352617460164,-0.9980087611564901,2.082481774975682,1.0360799714321085,-0.5596362244966987,-0.4869325693186466,-1.1467822517709811,0.4897042733196294,0.11255858318338514,-1.1429485654044176,-0.9852914367655755,1.1480072970446293,-0.38597731027090054,0.561381109685678,-1.4788691449109457,-2.5183766293620664,1.3494893180333873,0.808904714221283,-0.7252819239872144,0.739264054916365,-0.20560381238890352,0.11150178330403865,-0.21161588835368772,-1.6798392261307484,-0.6557693322864646,0.8026980565550529,1.30935491670183,-0.5827564322818811,-1.1468198545339872,-0.6873515814990135,-0.7307769401939949,0.1266589675223329,-0.5658110859011868,-0.9436357486116467,-0.4178120060319037,1.419424789660255,-0.2651943745852867,-2.459041283650597,0.5478598433502244,0.4836680796627568,0.9059419699109957,-1.3899236392935883,0.5578669304961553,-1.9002122940451187,-1.9699139583988612,0.836250917555081,1.3456989828293007,0.8239295568867382,0.7480630363394505,-0.5328117074983701,-0.5123635408948722,-0.7632442896479691,0.5475055637793234,0.6678416048116295,0.6553732559593416,-0.364076208655999,1.1801295122649056,0.4538652326765641,-0.6896136898454142,0.2294735712125904,-0.3331820156127166,0.9496126012595382,-0.17413536594199125,0.09518152978652615,0.85478433862581,1.202127798049566,-0.18773084155997413,-0.541326316467827,-0.07027920343429209,1.0648549407021457,-1.1829387646048528,1.1227355338247973,0.41221007873289445,-1.2712097170864594,-0.19393312163221857,-0.5975178679184429,-0.4237759477495272,0.6889886810013593,0.06733322248016295,-1.4036666135457831,1.0982141227922406,-0.1356842299784047,1.7081511706167924,-0.6779923099372411,-0.9169636700006659,1.4290890597982628,-1.6806884500548356,0.16088601862836888,0.4224880669513213,0.2541082332237526,1.012220061824921,0.1270682525630813,-1.5139400438464683,0.4208509888726101,0.10954115488873355],\"yaxis\":\"y3\",\"type\":\"scatter\"},{\"line\":{\"color\":\"rgba(128, 128, 128, 1.0)\",\"dash\":\"solid\",\"shape\":\"linear\",\"width\":1.3},\"marker\":{\"size\":2,\"symbol\":\"circle\"},\"mode\":\"markers\",\"name\":\"A\",\"text\":\"\",\"x\":[1.266260783512096,1.0760678342652144,-0.4650242740301058,-0.21647021700164917,0.28601333311938815,1.041346587755044,1.131971709867667,-0.5037139976965158,-0.4446965897131244,-0.4062812453982732,1.9698218935257283,1.2400234327014281,0.09218559392171667,0.12130486320546094,1.4483688647282036,-1.6627483465007056,0.42929645852249576,-0.5742498464341546,0.5886417109645046,0.1367021390009385,0.11654989810394253,-1.190242416914513,-0.15678849807221498,-0.030021989263458573,0.4989251361268583,-1.0076214923049656,0.31640917535229374,-0.12037651381974299,0.4152759338046989,-1.1612158031733368,0.22748524851633747,0.5890373539937255,0.34813989121135613,0.973326800718654,0.5773381622148324,0.3220137378478031,1.4936138767913432,1.8421077393332435,-1.9200557735141413,-0.22106275386649604,0.6149429736384715,0.28252553405393666,1.9661837911604012,-0.6376042001094842,0.3970691860753473,-0.5953892020610756,-0.15750985826333797,-0.24476953508191568,2.2733876793116385,-0.4657309413595077,-1.672454296377257,0.29907899502694196,0.04125147616487651,1.9474680691631634,1.5613351391319197,0.25603899131099833,0.672054181060471,-1.2035988643011164,1.2936692365541127,-0.7667030398763873,-0.07415602864939085,0.4922250541304212,0.46356334211688566,-1.355559756269536,0.34743964337864214,0.9146460893053346,-1.5669751437579442,0.24310885228389184,0.05070641361348756,-0.9119974398988641,-0.39816041158440796,0.40896385475364666,-0.4745354476018699,-0.06578493214694237,-1.2969495697154847,0.6768024113040993,-0.8955931160273207,0.3340560691415455,-0.7252430723585578,-1.1796227752297488,-0.8175317713570831,-1.0886306630852263,-0.47103420377994176,-1.090721576816317,1.4469491330064537,1.4977564650559236,-1.3016479877074265,0.7997520054814105,0.5598306576553228,2.5683896885626063,-2.4601660696001253,0.39630858940224933,-0.46580829714413075,-0.19493535222974312,0.239518777196436,0.41745874232209057,-0.12032830911856207,-0.10276619829661858,1.2624844876472245,0.2588212759339863],\"xaxis\":\"x4\",\"y\":[0.7691784995835123,0.5930975967058625,-0.8268180066062986,-1.4798937866546928,0.7546745829779332,0.6854352617460164,-0.9980087611564901,2.082481774975682,1.0360799714321085,-0.5596362244966987,-0.4869325693186466,-1.1467822517709811,0.4897042733196294,0.11255858318338514,-1.1429485654044176,-0.9852914367655755,1.1480072970446293,-0.38597731027090054,0.561381109685678,-1.4788691449109457,-2.5183766293620664,1.3494893180333873,0.808904714221283,-0.7252819239872144,0.739264054916365,-0.20560381238890352,0.11150178330403865,-0.21161588835368772,-1.6798392261307484,-0.6557693322864646,0.8026980565550529,1.30935491670183,-0.5827564322818811,-1.1468198545339872,-0.6873515814990135,-0.7307769401939949,0.1266589675223329,-0.5658110859011868,-0.9436357486116467,-0.4178120060319037,1.419424789660255,-0.2651943745852867,-2.459041283650597,0.5478598433502244,0.4836680796627568,0.9059419699109957,-1.3899236392935883,0.5578669304961553,-1.9002122940451187,-1.9699139583988612,0.836250917555081,1.3456989828293007,0.8239295568867382,0.7480630363394505,-0.5328117074983701,-0.5123635408948722,-0.7632442896479691,0.5475055637793234,0.6678416048116295,0.6553732559593416,-0.364076208655999,1.1801295122649056,0.4538652326765641,-0.6896136898454142,0.2294735712125904,-0.3331820156127166,0.9496126012595382,-0.17413536594199125,0.09518152978652615,0.85478433862581,1.202127798049566,-0.18773084155997413,-0.541326316467827,-0.07027920343429209,1.0648549407021457,-1.1829387646048528,1.1227355338247973,0.41221007873289445,-1.2712097170864594,-0.19393312163221857,-0.5975178679184429,-0.4237759477495272,0.6889886810013593,0.06733322248016295,-1.4036666135457831,1.0982141227922406,-0.1356842299784047,1.7081511706167924,-0.6779923099372411,-0.9169636700006659,1.4290890597982628,-1.6806884500548356,0.16088601862836888,0.4224880669513213,0.2541082332237526,1.012220061824921,0.1270682525630813,-1.5139400438464683,0.4208509888726101,0.10954115488873355],\"yaxis\":\"y4\",\"type\":\"scatter\"},{\"line\":{\"color\":\"rgba(128, 128, 128, 1.0)\",\"dash\":\"solid\",\"shape\":\"linear\",\"width\":1.3},\"marker\":{\"size\":2,\"symbol\":\"circle\"},\"mode\":\"markers\",\"name\":\"B\",\"text\":\"\",\"x\":[0.7691784995835123,0.5930975967058625,-0.8268180066062986,-1.4798937866546928,0.7546745829779332,0.6854352617460164,-0.9980087611564901,2.082481774975682,1.0360799714321085,-0.5596362244966987,-0.4869325693186466,-1.1467822517709811,0.4897042733196294,0.11255858318338514,-1.1429485654044176,-0.9852914367655755,1.1480072970446293,-0.38597731027090054,0.561381109685678,-1.4788691449109457,-2.5183766293620664,1.3494893180333873,0.808904714221283,-0.7252819239872144,0.739264054916365,-0.20560381238890352,0.11150178330403865,-0.21161588835368772,-1.6798392261307484,-0.6557693322864646,0.8026980565550529,1.30935491670183,-0.5827564322818811,-1.1468198545339872,-0.6873515814990135,-0.7307769401939949,0.1266589675223329,-0.5658110859011868,-0.9436357486116467,-0.4178120060319037,1.419424789660255,-0.2651943745852867,-2.459041283650597,0.5478598433502244,0.4836680796627568,0.9059419699109957,-1.3899236392935883,0.5578669304961553,-1.9002122940451187,-1.9699139583988612,0.836250917555081,1.3456989828293007,0.8239295568867382,0.7480630363394505,-0.5328117074983701,-0.5123635408948722,-0.7632442896479691,0.5475055637793234,0.6678416048116295,0.6553732559593416,-0.364076208655999,1.1801295122649056,0.4538652326765641,-0.6896136898454142,0.2294735712125904,-0.3331820156127166,0.9496126012595382,-0.17413536594199125,0.09518152978652615,0.85478433862581,1.202127798049566,-0.18773084155997413,-0.541326316467827,-0.07027920343429209,1.0648549407021457,-1.1829387646048528,1.1227355338247973,0.41221007873289445,-1.2712097170864594,-0.19393312163221857,-0.5975178679184429,-0.4237759477495272,0.6889886810013593,0.06733322248016295,-1.4036666135457831,1.0982141227922406,-0.1356842299784047,1.7081511706167924,-0.6779923099372411,-0.9169636700006659,1.4290890597982628,-1.6806884500548356,0.16088601862836888,0.4224880669513213,0.2541082332237526,1.012220061824921,0.1270682525630813,-1.5139400438464683,0.4208509888726101,0.10954115488873355],\"xaxis\":\"x5\",\"y\":[-1.6423187482682884,0.41963168348187535,-1.3496479565759631,-0.7990361289514452,1.0498037657974644,-1.4684911257784452,0.26529632352818244,1.1210444123093954,-0.8543052531017374,0.4936004792092293,0.3352964969986158,-0.8335670998872349,-0.873768927822603,0.838989083278963,0.6596806063582598,-0.4360417505026612,-0.7947653405354053,0.14152119373257438,-1.338146052069779,-0.20681637187432067,0.6862975890764074,0.6238965610420034,1.563221795575264,1.8777758510451736,-0.12962890082266365,0.814717176296732,0.6670823309262822,-2.6319140690241842,-0.7398901828927356,3.017548881587734,2.80896151749723,-0.35186053953479296,-0.519248020044265,2.183418909317853,0.33325356856113764,-0.1427680004214156,-1.4033215382841377,-0.031785386858465804,-1.0360737038457462,1.9383566722100194,0.922923719865304,1.052425126856661,1.6151167858507176,-0.29592404346606044,0.4672427362889414,-0.43962349980608306,-0.38749559180114634,-0.28544887827195764,0.01609848741884537,0.9923828452377574,0.7796568179793499,-1.422854421793395,0.0781336598529172,-0.3914933114847213,1.3804867486194805,0.364589500748893,0.45909539135096716,-0.4487222628383241,-0.3214478676486004,-0.25362373577023023,0.4648967220447523,0.4064034894197302,0.7339872364955721,1.1417595721284521,0.26409993389812947,0.11004780674212165,-0.23889226516326656,1.2848556430335665,0.7337083145318132,-1.8304406299363378,-0.9793388399961094,0.7868901247164648,-0.44638313155782816,1.2436611543011358,-0.976749209415963,-0.10104324891718097,1.2227944696341,1.9563728706496435,-0.28317982626843696,-0.44523366114945645,2.156202305757598,2.8820734332729945,-0.04376901548548563,1.0932176647358811,0.8042309346264729,0.2835630911992262,-0.2949796439396551,-1.026712578823772,1.0941919997337546,1.8651982790997288,-0.7485174567526562,-1.2735582311735507,-0.44204571582667407,0.19317135054614334,-2.17928112947225,0.25154244109528123,-0.026738306050912642,0.23149058077638784,1.901854709334183,1.2416852092635293],\"yaxis\":\"y5\",\"type\":\"scatter\"},{\"histfunc\":\"count\",\"histnorm\":\"\",\"marker\":{\"color\":\"rgba(55, 128, 191, 1.0)\",\"line\":{\"color\":\"#4D5663\",\"width\":1.3}},\"name\":\"B\",\"nbinsx\":10,\"opacity\":0.8,\"orientation\":\"v\",\"x\":[-1.6423187482682884,0.41963168348187535,-1.3496479565759631,-0.7990361289514452,1.0498037657974644,-1.4684911257784452,0.26529632352818244,1.1210444123093954,-0.8543052531017374,0.4936004792092293,0.3352964969986158,-0.8335670998872349,-0.873768927822603,0.838989083278963,0.6596806063582598,-0.4360417505026612,-0.7947653405354053,0.14152119373257438,-1.338146052069779,-0.20681637187432067,0.6862975890764074,0.6238965610420034,1.563221795575264,1.8777758510451736,-0.12962890082266365,0.814717176296732,0.6670823309262822,-2.6319140690241842,-0.7398901828927356,3.017548881587734,2.80896151749723,-0.35186053953479296,-0.519248020044265,2.183418909317853,0.33325356856113764,-0.1427680004214156,-1.4033215382841377,-0.031785386858465804,-1.0360737038457462,1.9383566722100194,0.922923719865304,1.052425126856661,1.6151167858507176,-0.29592404346606044,0.4672427362889414,-0.43962349980608306,-0.38749559180114634,-0.28544887827195764,0.01609848741884537,0.9923828452377574,0.7796568179793499,-1.422854421793395,0.0781336598529172,-0.3914933114847213,1.3804867486194805,0.364589500748893,0.45909539135096716,-0.4487222628383241,-0.3214478676486004,-0.25362373577023023,0.4648967220447523,0.4064034894197302,0.7339872364955721,1.1417595721284521,0.26409993389812947,0.11004780674212165,-0.23889226516326656,1.2848556430335665,0.7337083145318132,-1.8304406299363378,-0.9793388399961094,0.7868901247164648,-0.44638313155782816,1.2436611543011358,-0.976749209415963,-0.10104324891718097,1.2227944696341,1.9563728706496435,-0.28317982626843696,-0.44523366114945645,2.156202305757598,2.8820734332729945,-0.04376901548548563,1.0932176647358811,0.8042309346264729,0.2835630911992262,-0.2949796439396551,-1.026712578823772,1.0941919997337546,1.8651982790997288,-0.7485174567526562,-1.2735582311735507,-0.44204571582667407,0.19317135054614334,-2.17928112947225,0.25154244109528123,-0.026738306050912642,0.23149058077638784,1.901854709334183,1.2416852092635293],\"xaxis\":\"x6\",\"yaxis\":\"y6\",\"type\":\"histogram\"},{\"line\":{\"color\":\"rgba(128, 128, 128, 1.0)\",\"dash\":\"solid\",\"shape\":\"linear\",\"width\":1.3},\"marker\":{\"size\":2,\"symbol\":\"circle\"},\"mode\":\"markers\",\"name\":\"B\",\"text\":\"\",\"x\":[0.3346969639520708,-1.2336317243393349,0.6230812840141222,1.0508854655154376,0.4530222606278692,2.16455017310658,0.7085731176432195,-0.31079458736183335,0.34697243272396505,2.495050229549977,-0.49622289933869407,-0.5665238902214267,1.116378491241042,-1.4392136318750834,-0.16631951571032816,-0.6765118180152798,1.1648278942613461,0.2635453415324377,0.1366144025411083,1.2405491191282827,-1.5543907252811087,-1.559276416181382,-1.8252999884048469,-0.13612372636118525,1.5646929374691396,-1.3158874744435545,-0.7415816279964159,-0.02005047927330447,1.6202154617352302,-1.2318048734488694,-0.2964136725294143,-1.4231918287565117,-0.7114391583847743,0.3781657115467283,-0.4511097327962044,0.17558307770721882,-0.08251109461551036,-0.30065330297117965,-0.37427064425321915,-0.41749354045256054,-1.467342825825888,-1.5544659977242161,-0.7250548841901909,0.571969068026345,-0.820012425772976,1.0324124674521806,0.6134366376614737,0.008205890826946881,-0.7189657408398175,2.85667446562105,0.7690945991237577,0.07777185862191514,0.3932194541736613,-1.2599174978493304,-0.23555416586727532,1.9584477612337254,0.24525068230898311,0.6562594200839934,-1.0469931367085725,0.6426356847976332,-0.2488515670285282,-0.8671846504029506,1.1510688310062849,0.5477439829627061,0.7423898582393791,-1.9121763857927636,-0.10208024225432279,-1.3560081585920087,0.7966898585164544,0.43562215839844604,-1.838921802165319,0.6132669266941965,1.4244284900296638,-0.02668913107232897,0.3095638679023362,2.436711341747925,-1.0610049756040834,1.244508093550768,-0.32962468096917996,-1.3211407011617657,-1.227957832402727,-0.05387807236747335,0.7271996019729741,0.33246522838981135,-1.1621360832968393,0.5243175624581307,-0.1145364103931661,0.33823564130777906,-0.768172544956866,0.04567572432591013,-0.6351876822094256,0.7789817672634333,-1.331186611693832,1.0428243624994458,0.10073765125932399,-1.7120813441814493,0.32668871889999884,-0.2242408214064022,-0.43067183917431184,0.5746507037405056],\"xaxis\":\"x7\",\"y\":[-1.6423187482682884,0.41963168348187535,-1.3496479565759631,-0.7990361289514452,1.0498037657974644,-1.4684911257784452,0.26529632352818244,1.1210444123093954,-0.8543052531017374,0.4936004792092293,0.3352964969986158,-0.8335670998872349,-0.873768927822603,0.838989083278963,0.6596806063582598,-0.4360417505026612,-0.7947653405354053,0.14152119373257438,-1.338146052069779,-0.20681637187432067,0.6862975890764074,0.6238965610420034,1.563221795575264,1.8777758510451736,-0.12962890082266365,0.814717176296732,0.6670823309262822,-2.6319140690241842,-0.7398901828927356,3.017548881587734,2.80896151749723,-0.35186053953479296,-0.519248020044265,2.183418909317853,0.33325356856113764,-0.1427680004214156,-1.4033215382841377,-0.031785386858465804,-1.0360737038457462,1.9383566722100194,0.922923719865304,1.052425126856661,1.6151167858507176,-0.29592404346606044,0.4672427362889414,-0.43962349980608306,-0.38749559180114634,-0.28544887827195764,0.01609848741884537,0.9923828452377574,0.7796568179793499,-1.422854421793395,0.0781336598529172,-0.3914933114847213,1.3804867486194805,0.364589500748893,0.45909539135096716,-0.4487222628383241,-0.3214478676486004,-0.25362373577023023,0.4648967220447523,0.4064034894197302,0.7339872364955721,1.1417595721284521,0.26409993389812947,0.11004780674212165,-0.23889226516326656,1.2848556430335665,0.7337083145318132,-1.8304406299363378,-0.9793388399961094,0.7868901247164648,-0.44638313155782816,1.2436611543011358,-0.976749209415963,-0.10104324891718097,1.2227944696341,1.9563728706496435,-0.28317982626843696,-0.44523366114945645,2.156202305757598,2.8820734332729945,-0.04376901548548563,1.0932176647358811,0.8042309346264729,0.2835630911992262,-0.2949796439396551,-1.026712578823772,1.0941919997337546,1.8651982790997288,-0.7485174567526562,-1.2735582311735507,-0.44204571582667407,0.19317135054614334,-2.17928112947225,0.25154244109528123,-0.026738306050912642,0.23149058077638784,1.901854709334183,1.2416852092635293],\"yaxis\":\"y7\",\"type\":\"scatter\"},{\"line\":{\"color\":\"rgba(128, 128, 128, 1.0)\",\"dash\":\"solid\",\"shape\":\"linear\",\"width\":1.3},\"marker\":{\"size\":2,\"symbol\":\"circle\"},\"mode\":\"markers\",\"name\":\"B\",\"text\":\"\",\"x\":[1.266260783512096,1.0760678342652144,-0.4650242740301058,-0.21647021700164917,0.28601333311938815,1.041346587755044,1.131971709867667,-0.5037139976965158,-0.4446965897131244,-0.4062812453982732,1.9698218935257283,1.2400234327014281,0.09218559392171667,0.12130486320546094,1.4483688647282036,-1.6627483465007056,0.42929645852249576,-0.5742498464341546,0.5886417109645046,0.1367021390009385,0.11654989810394253,-1.190242416914513,-0.15678849807221498,-0.030021989263458573,0.4989251361268583,-1.0076214923049656,0.31640917535229374,-0.12037651381974299,0.4152759338046989,-1.1612158031733368,0.22748524851633747,0.5890373539937255,0.34813989121135613,0.973326800718654,0.5773381622148324,0.3220137378478031,1.4936138767913432,1.8421077393332435,-1.9200557735141413,-0.22106275386649604,0.6149429736384715,0.28252553405393666,1.9661837911604012,-0.6376042001094842,0.3970691860753473,-0.5953892020610756,-0.15750985826333797,-0.24476953508191568,2.2733876793116385,-0.4657309413595077,-1.672454296377257,0.29907899502694196,0.04125147616487651,1.9474680691631634,1.5613351391319197,0.25603899131099833,0.672054181060471,-1.2035988643011164,1.2936692365541127,-0.7667030398763873,-0.07415602864939085,0.4922250541304212,0.46356334211688566,-1.355559756269536,0.34743964337864214,0.9146460893053346,-1.5669751437579442,0.24310885228389184,0.05070641361348756,-0.9119974398988641,-0.39816041158440796,0.40896385475364666,-0.4745354476018699,-0.06578493214694237,-1.2969495697154847,0.6768024113040993,-0.8955931160273207,0.3340560691415455,-0.7252430723585578,-1.1796227752297488,-0.8175317713570831,-1.0886306630852263,-0.47103420377994176,-1.090721576816317,1.4469491330064537,1.4977564650559236,-1.3016479877074265,0.7997520054814105,0.5598306576553228,2.5683896885626063,-2.4601660696001253,0.39630858940224933,-0.46580829714413075,-0.19493535222974312,0.239518777196436,0.41745874232209057,-0.12032830911856207,-0.10276619829661858,1.2624844876472245,0.2588212759339863],\"xaxis\":\"x8\",\"y\":[-1.6423187482682884,0.41963168348187535,-1.3496479565759631,-0.7990361289514452,1.0498037657974644,-1.4684911257784452,0.26529632352818244,1.1210444123093954,-0.8543052531017374,0.4936004792092293,0.3352964969986158,-0.8335670998872349,-0.873768927822603,0.838989083278963,0.6596806063582598,-0.4360417505026612,-0.7947653405354053,0.14152119373257438,-1.338146052069779,-0.20681637187432067,0.6862975890764074,0.6238965610420034,1.563221795575264,1.8777758510451736,-0.12962890082266365,0.814717176296732,0.6670823309262822,-2.6319140690241842,-0.7398901828927356,3.017548881587734,2.80896151749723,-0.35186053953479296,-0.519248020044265,2.183418909317853,0.33325356856113764,-0.1427680004214156,-1.4033215382841377,-0.031785386858465804,-1.0360737038457462,1.9383566722100194,0.922923719865304,1.052425126856661,1.6151167858507176,-0.29592404346606044,0.4672427362889414,-0.43962349980608306,-0.38749559180114634,-0.28544887827195764,0.01609848741884537,0.9923828452377574,0.7796568179793499,-1.422854421793395,0.0781336598529172,-0.3914933114847213,1.3804867486194805,0.364589500748893,0.45909539135096716,-0.4487222628383241,-0.3214478676486004,-0.25362373577023023,0.4648967220447523,0.4064034894197302,0.7339872364955721,1.1417595721284521,0.26409993389812947,0.11004780674212165,-0.23889226516326656,1.2848556430335665,0.7337083145318132,-1.8304406299363378,-0.9793388399961094,0.7868901247164648,-0.44638313155782816,1.2436611543011358,-0.976749209415963,-0.10104324891718097,1.2227944696341,1.9563728706496435,-0.28317982626843696,-0.44523366114945645,2.156202305757598,2.8820734332729945,-0.04376901548548563,1.0932176647358811,0.8042309346264729,0.2835630911992262,-0.2949796439396551,-1.026712578823772,1.0941919997337546,1.8651982790997288,-0.7485174567526562,-1.2735582311735507,-0.44204571582667407,0.19317135054614334,-2.17928112947225,0.25154244109528123,-0.026738306050912642,0.23149058077638784,1.901854709334183,1.2416852092635293],\"yaxis\":\"y8\",\"type\":\"scatter\"},{\"line\":{\"color\":\"rgba(128, 128, 128, 1.0)\",\"dash\":\"solid\",\"shape\":\"linear\",\"width\":1.3},\"marker\":{\"size\":2,\"symbol\":\"circle\"},\"mode\":\"markers\",\"name\":\"C\",\"text\":\"\",\"x\":[0.7691784995835123,0.5930975967058625,-0.8268180066062986,-1.4798937866546928,0.7546745829779332,0.6854352617460164,-0.9980087611564901,2.082481774975682,1.0360799714321085,-0.5596362244966987,-0.4869325693186466,-1.1467822517709811,0.4897042733196294,0.11255858318338514,-1.1429485654044176,-0.9852914367655755,1.1480072970446293,-0.38597731027090054,0.561381109685678,-1.4788691449109457,-2.5183766293620664,1.3494893180333873,0.808904714221283,-0.7252819239872144,0.739264054916365,-0.20560381238890352,0.11150178330403865,-0.21161588835368772,-1.6798392261307484,-0.6557693322864646,0.8026980565550529,1.30935491670183,-0.5827564322818811,-1.1468198545339872,-0.6873515814990135,-0.7307769401939949,0.1266589675223329,-0.5658110859011868,-0.9436357486116467,-0.4178120060319037,1.419424789660255,-0.2651943745852867,-2.459041283650597,0.5478598433502244,0.4836680796627568,0.9059419699109957,-1.3899236392935883,0.5578669304961553,-1.9002122940451187,-1.9699139583988612,0.836250917555081,1.3456989828293007,0.8239295568867382,0.7480630363394505,-0.5328117074983701,-0.5123635408948722,-0.7632442896479691,0.5475055637793234,0.6678416048116295,0.6553732559593416,-0.364076208655999,1.1801295122649056,0.4538652326765641,-0.6896136898454142,0.2294735712125904,-0.3331820156127166,0.9496126012595382,-0.17413536594199125,0.09518152978652615,0.85478433862581,1.202127798049566,-0.18773084155997413,-0.541326316467827,-0.07027920343429209,1.0648549407021457,-1.1829387646048528,1.1227355338247973,0.41221007873289445,-1.2712097170864594,-0.19393312163221857,-0.5975178679184429,-0.4237759477495272,0.6889886810013593,0.06733322248016295,-1.4036666135457831,1.0982141227922406,-0.1356842299784047,1.7081511706167924,-0.6779923099372411,-0.9169636700006659,1.4290890597982628,-1.6806884500548356,0.16088601862836888,0.4224880669513213,0.2541082332237526,1.012220061824921,0.1270682525630813,-1.5139400438464683,0.4208509888726101,0.10954115488873355],\"xaxis\":\"x9\",\"y\":[0.3346969639520708,-1.2336317243393349,0.6230812840141222,1.0508854655154376,0.4530222606278692,2.16455017310658,0.7085731176432195,-0.31079458736183335,0.34697243272396505,2.495050229549977,-0.49622289933869407,-0.5665238902214267,1.116378491241042,-1.4392136318750834,-0.16631951571032816,-0.6765118180152798,1.1648278942613461,0.2635453415324377,0.1366144025411083,1.2405491191282827,-1.5543907252811087,-1.559276416181382,-1.8252999884048469,-0.13612372636118525,1.5646929374691396,-1.3158874744435545,-0.7415816279964159,-0.02005047927330447,1.6202154617352302,-1.2318048734488694,-0.2964136725294143,-1.4231918287565117,-0.7114391583847743,0.3781657115467283,-0.4511097327962044,0.17558307770721882,-0.08251109461551036,-0.30065330297117965,-0.37427064425321915,-0.41749354045256054,-1.467342825825888,-1.5544659977242161,-0.7250548841901909,0.571969068026345,-0.820012425772976,1.0324124674521806,0.6134366376614737,0.008205890826946881,-0.7189657408398175,2.85667446562105,0.7690945991237577,0.07777185862191514,0.3932194541736613,-1.2599174978493304,-0.23555416586727532,1.9584477612337254,0.24525068230898311,0.6562594200839934,-1.0469931367085725,0.6426356847976332,-0.2488515670285282,-0.8671846504029506,1.1510688310062849,0.5477439829627061,0.7423898582393791,-1.9121763857927636,-0.10208024225432279,-1.3560081585920087,0.7966898585164544,0.43562215839844604,-1.838921802165319,0.6132669266941965,1.4244284900296638,-0.02668913107232897,0.3095638679023362,2.436711341747925,-1.0610049756040834,1.244508093550768,-0.32962468096917996,-1.3211407011617657,-1.227957832402727,-0.05387807236747335,0.7271996019729741,0.33246522838981135,-1.1621360832968393,0.5243175624581307,-0.1145364103931661,0.33823564130777906,-0.768172544956866,0.04567572432591013,-0.6351876822094256,0.7789817672634333,-1.331186611693832,1.0428243624994458,0.10073765125932399,-1.7120813441814493,0.32668871889999884,-0.2242408214064022,-0.43067183917431184,0.5746507037405056],\"yaxis\":\"y9\",\"type\":\"scatter\"},{\"line\":{\"color\":\"rgba(128, 128, 128, 1.0)\",\"dash\":\"solid\",\"shape\":\"linear\",\"width\":1.3},\"marker\":{\"size\":2,\"symbol\":\"circle\"},\"mode\":\"markers\",\"name\":\"C\",\"text\":\"\",\"x\":[-1.6423187482682884,0.41963168348187535,-1.3496479565759631,-0.7990361289514452,1.0498037657974644,-1.4684911257784452,0.26529632352818244,1.1210444123093954,-0.8543052531017374,0.4936004792092293,0.3352964969986158,-0.8335670998872349,-0.873768927822603,0.838989083278963,0.6596806063582598,-0.4360417505026612,-0.7947653405354053,0.14152119373257438,-1.338146052069779,-0.20681637187432067,0.6862975890764074,0.6238965610420034,1.563221795575264,1.8777758510451736,-0.12962890082266365,0.814717176296732,0.6670823309262822,-2.6319140690241842,-0.7398901828927356,3.017548881587734,2.80896151749723,-0.35186053953479296,-0.519248020044265,2.183418909317853,0.33325356856113764,-0.1427680004214156,-1.4033215382841377,-0.031785386858465804,-1.0360737038457462,1.9383566722100194,0.922923719865304,1.052425126856661,1.6151167858507176,-0.29592404346606044,0.4672427362889414,-0.43962349980608306,-0.38749559180114634,-0.28544887827195764,0.01609848741884537,0.9923828452377574,0.7796568179793499,-1.422854421793395,0.0781336598529172,-0.3914933114847213,1.3804867486194805,0.364589500748893,0.45909539135096716,-0.4487222628383241,-0.3214478676486004,-0.25362373577023023,0.4648967220447523,0.4064034894197302,0.7339872364955721,1.1417595721284521,0.26409993389812947,0.11004780674212165,-0.23889226516326656,1.2848556430335665,0.7337083145318132,-1.8304406299363378,-0.9793388399961094,0.7868901247164648,-0.44638313155782816,1.2436611543011358,-0.976749209415963,-0.10104324891718097,1.2227944696341,1.9563728706496435,-0.28317982626843696,-0.44523366114945645,2.156202305757598,2.8820734332729945,-0.04376901548548563,1.0932176647358811,0.8042309346264729,0.2835630911992262,-0.2949796439396551,-1.026712578823772,1.0941919997337546,1.8651982790997288,-0.7485174567526562,-1.2735582311735507,-0.44204571582667407,0.19317135054614334,-2.17928112947225,0.25154244109528123,-0.026738306050912642,0.23149058077638784,1.901854709334183,1.2416852092635293],\"xaxis\":\"x10\",\"y\":[0.3346969639520708,-1.2336317243393349,0.6230812840141222,1.0508854655154376,0.4530222606278692,2.16455017310658,0.7085731176432195,-0.31079458736183335,0.34697243272396505,2.495050229549977,-0.49622289933869407,-0.5665238902214267,1.116378491241042,-1.4392136318750834,-0.16631951571032816,-0.6765118180152798,1.1648278942613461,0.2635453415324377,0.1366144025411083,1.2405491191282827,-1.5543907252811087,-1.559276416181382,-1.8252999884048469,-0.13612372636118525,1.5646929374691396,-1.3158874744435545,-0.7415816279964159,-0.02005047927330447,1.6202154617352302,-1.2318048734488694,-0.2964136725294143,-1.4231918287565117,-0.7114391583847743,0.3781657115467283,-0.4511097327962044,0.17558307770721882,-0.08251109461551036,-0.30065330297117965,-0.37427064425321915,-0.41749354045256054,-1.467342825825888,-1.5544659977242161,-0.7250548841901909,0.571969068026345,-0.820012425772976,1.0324124674521806,0.6134366376614737,0.008205890826946881,-0.7189657408398175,2.85667446562105,0.7690945991237577,0.07777185862191514,0.3932194541736613,-1.2599174978493304,-0.23555416586727532,1.9584477612337254,0.24525068230898311,0.6562594200839934,-1.0469931367085725,0.6426356847976332,-0.2488515670285282,-0.8671846504029506,1.1510688310062849,0.5477439829627061,0.7423898582393791,-1.9121763857927636,-0.10208024225432279,-1.3560081585920087,0.7966898585164544,0.43562215839844604,-1.838921802165319,0.6132669266941965,1.4244284900296638,-0.02668913107232897,0.3095638679023362,2.436711341747925,-1.0610049756040834,1.244508093550768,-0.32962468096917996,-1.3211407011617657,-1.227957832402727,-0.05387807236747335,0.7271996019729741,0.33246522838981135,-1.1621360832968393,0.5243175624581307,-0.1145364103931661,0.33823564130777906,-0.768172544956866,0.04567572432591013,-0.6351876822094256,0.7789817672634333,-1.331186611693832,1.0428243624994458,0.10073765125932399,-1.7120813441814493,0.32668871889999884,-0.2242408214064022,-0.43067183917431184,0.5746507037405056],\"yaxis\":\"y10\",\"type\":\"scatter\"},{\"histfunc\":\"count\",\"histnorm\":\"\",\"marker\":{\"color\":\"rgba(50, 171, 96, 1.0)\",\"line\":{\"color\":\"#4D5663\",\"width\":1.3}},\"name\":\"C\",\"nbinsx\":10,\"opacity\":0.8,\"orientation\":\"v\",\"x\":[0.3346969639520708,-1.2336317243393349,0.6230812840141222,1.0508854655154376,0.4530222606278692,2.16455017310658,0.7085731176432195,-0.31079458736183335,0.34697243272396505,2.495050229549977,-0.49622289933869407,-0.5665238902214267,1.116378491241042,-1.4392136318750834,-0.16631951571032816,-0.6765118180152798,1.1648278942613461,0.2635453415324377,0.1366144025411083,1.2405491191282827,-1.5543907252811087,-1.559276416181382,-1.8252999884048469,-0.13612372636118525,1.5646929374691396,-1.3158874744435545,-0.7415816279964159,-0.02005047927330447,1.6202154617352302,-1.2318048734488694,-0.2964136725294143,-1.4231918287565117,-0.7114391583847743,0.3781657115467283,-0.4511097327962044,0.17558307770721882,-0.08251109461551036,-0.30065330297117965,-0.37427064425321915,-0.41749354045256054,-1.467342825825888,-1.5544659977242161,-0.7250548841901909,0.571969068026345,-0.820012425772976,1.0324124674521806,0.6134366376614737,0.008205890826946881,-0.7189657408398175,2.85667446562105,0.7690945991237577,0.07777185862191514,0.3932194541736613,-1.2599174978493304,-0.23555416586727532,1.9584477612337254,0.24525068230898311,0.6562594200839934,-1.0469931367085725,0.6426356847976332,-0.2488515670285282,-0.8671846504029506,1.1510688310062849,0.5477439829627061,0.7423898582393791,-1.9121763857927636,-0.10208024225432279,-1.3560081585920087,0.7966898585164544,0.43562215839844604,-1.838921802165319,0.6132669266941965,1.4244284900296638,-0.02668913107232897,0.3095638679023362,2.436711341747925,-1.0610049756040834,1.244508093550768,-0.32962468096917996,-1.3211407011617657,-1.227957832402727,-0.05387807236747335,0.7271996019729741,0.33246522838981135,-1.1621360832968393,0.5243175624581307,-0.1145364103931661,0.33823564130777906,-0.768172544956866,0.04567572432591013,-0.6351876822094256,0.7789817672634333,-1.331186611693832,1.0428243624994458,0.10073765125932399,-1.7120813441814493,0.32668871889999884,-0.2242408214064022,-0.43067183917431184,0.5746507037405056],\"xaxis\":\"x11\",\"yaxis\":\"y11\",\"type\":\"histogram\"},{\"line\":{\"color\":\"rgba(128, 128, 128, 1.0)\",\"dash\":\"solid\",\"shape\":\"linear\",\"width\":1.3},\"marker\":{\"size\":2,\"symbol\":\"circle\"},\"mode\":\"markers\",\"name\":\"C\",\"text\":\"\",\"x\":[1.266260783512096,1.0760678342652144,-0.4650242740301058,-0.21647021700164917,0.28601333311938815,1.041346587755044,1.131971709867667,-0.5037139976965158,-0.4446965897131244,-0.4062812453982732,1.9698218935257283,1.2400234327014281,0.09218559392171667,0.12130486320546094,1.4483688647282036,-1.6627483465007056,0.42929645852249576,-0.5742498464341546,0.5886417109645046,0.1367021390009385,0.11654989810394253,-1.190242416914513,-0.15678849807221498,-0.030021989263458573,0.4989251361268583,-1.0076214923049656,0.31640917535229374,-0.12037651381974299,0.4152759338046989,-1.1612158031733368,0.22748524851633747,0.5890373539937255,0.34813989121135613,0.973326800718654,0.5773381622148324,0.3220137378478031,1.4936138767913432,1.8421077393332435,-1.9200557735141413,-0.22106275386649604,0.6149429736384715,0.28252553405393666,1.9661837911604012,-0.6376042001094842,0.3970691860753473,-0.5953892020610756,-0.15750985826333797,-0.24476953508191568,2.2733876793116385,-0.4657309413595077,-1.672454296377257,0.29907899502694196,0.04125147616487651,1.9474680691631634,1.5613351391319197,0.25603899131099833,0.672054181060471,-1.2035988643011164,1.2936692365541127,-0.7667030398763873,-0.07415602864939085,0.4922250541304212,0.46356334211688566,-1.355559756269536,0.34743964337864214,0.9146460893053346,-1.5669751437579442,0.24310885228389184,0.05070641361348756,-0.9119974398988641,-0.39816041158440796,0.40896385475364666,-0.4745354476018699,-0.06578493214694237,-1.2969495697154847,0.6768024113040993,-0.8955931160273207,0.3340560691415455,-0.7252430723585578,-1.1796227752297488,-0.8175317713570831,-1.0886306630852263,-0.47103420377994176,-1.090721576816317,1.4469491330064537,1.4977564650559236,-1.3016479877074265,0.7997520054814105,0.5598306576553228,2.5683896885626063,-2.4601660696001253,0.39630858940224933,-0.46580829714413075,-0.19493535222974312,0.239518777196436,0.41745874232209057,-0.12032830911856207,-0.10276619829661858,1.2624844876472245,0.2588212759339863],\"xaxis\":\"x12\",\"y\":[0.3346969639520708,-1.2336317243393349,0.6230812840141222,1.0508854655154376,0.4530222606278692,2.16455017310658,0.7085731176432195,-0.31079458736183335,0.34697243272396505,2.495050229549977,-0.49622289933869407,-0.5665238902214267,1.116378491241042,-1.4392136318750834,-0.16631951571032816,-0.6765118180152798,1.1648278942613461,0.2635453415324377,0.1366144025411083,1.2405491191282827,-1.5543907252811087,-1.559276416181382,-1.8252999884048469,-0.13612372636118525,1.5646929374691396,-1.3158874744435545,-0.7415816279964159,-0.02005047927330447,1.6202154617352302,-1.2318048734488694,-0.2964136725294143,-1.4231918287565117,-0.7114391583847743,0.3781657115467283,-0.4511097327962044,0.17558307770721882,-0.08251109461551036,-0.30065330297117965,-0.37427064425321915,-0.41749354045256054,-1.467342825825888,-1.5544659977242161,-0.7250548841901909,0.571969068026345,-0.820012425772976,1.0324124674521806,0.6134366376614737,0.008205890826946881,-0.7189657408398175,2.85667446562105,0.7690945991237577,0.07777185862191514,0.3932194541736613,-1.2599174978493304,-0.23555416586727532,1.9584477612337254,0.24525068230898311,0.6562594200839934,-1.0469931367085725,0.6426356847976332,-0.2488515670285282,-0.8671846504029506,1.1510688310062849,0.5477439829627061,0.7423898582393791,-1.9121763857927636,-0.10208024225432279,-1.3560081585920087,0.7966898585164544,0.43562215839844604,-1.838921802165319,0.6132669266941965,1.4244284900296638,-0.02668913107232897,0.3095638679023362,2.436711341747925,-1.0610049756040834,1.244508093550768,-0.32962468096917996,-1.3211407011617657,-1.227957832402727,-0.05387807236747335,0.7271996019729741,0.33246522838981135,-1.1621360832968393,0.5243175624581307,-0.1145364103931661,0.33823564130777906,-0.768172544956866,0.04567572432591013,-0.6351876822094256,0.7789817672634333,-1.331186611693832,1.0428243624994458,0.10073765125932399,-1.7120813441814493,0.32668871889999884,-0.2242408214064022,-0.43067183917431184,0.5746507037405056],\"yaxis\":\"y12\",\"type\":\"scatter\"},{\"line\":{\"color\":\"rgba(128, 128, 128, 1.0)\",\"dash\":\"solid\",\"shape\":\"linear\",\"width\":1.3},\"marker\":{\"size\":2,\"symbol\":\"circle\"},\"mode\":\"markers\",\"name\":\"D\",\"text\":\"\",\"x\":[0.7691784995835123,0.5930975967058625,-0.8268180066062986,-1.4798937866546928,0.7546745829779332,0.6854352617460164,-0.9980087611564901,2.082481774975682,1.0360799714321085,-0.5596362244966987,-0.4869325693186466,-1.1467822517709811,0.4897042733196294,0.11255858318338514,-1.1429485654044176,-0.9852914367655755,1.1480072970446293,-0.38597731027090054,0.561381109685678,-1.4788691449109457,-2.5183766293620664,1.3494893180333873,0.808904714221283,-0.7252819239872144,0.739264054916365,-0.20560381238890352,0.11150178330403865,-0.21161588835368772,-1.6798392261307484,-0.6557693322864646,0.8026980565550529,1.30935491670183,-0.5827564322818811,-1.1468198545339872,-0.6873515814990135,-0.7307769401939949,0.1266589675223329,-0.5658110859011868,-0.9436357486116467,-0.4178120060319037,1.419424789660255,-0.2651943745852867,-2.459041283650597,0.5478598433502244,0.4836680796627568,0.9059419699109957,-1.3899236392935883,0.5578669304961553,-1.9002122940451187,-1.9699139583988612,0.836250917555081,1.3456989828293007,0.8239295568867382,0.7480630363394505,-0.5328117074983701,-0.5123635408948722,-0.7632442896479691,0.5475055637793234,0.6678416048116295,0.6553732559593416,-0.364076208655999,1.1801295122649056,0.4538652326765641,-0.6896136898454142,0.2294735712125904,-0.3331820156127166,0.9496126012595382,-0.17413536594199125,0.09518152978652615,0.85478433862581,1.202127798049566,-0.18773084155997413,-0.541326316467827,-0.07027920343429209,1.0648549407021457,-1.1829387646048528,1.1227355338247973,0.41221007873289445,-1.2712097170864594,-0.19393312163221857,-0.5975178679184429,-0.4237759477495272,0.6889886810013593,0.06733322248016295,-1.4036666135457831,1.0982141227922406,-0.1356842299784047,1.7081511706167924,-0.6779923099372411,-0.9169636700006659,1.4290890597982628,-1.6806884500548356,0.16088601862836888,0.4224880669513213,0.2541082332237526,1.012220061824921,0.1270682525630813,-1.5139400438464683,0.4208509888726101,0.10954115488873355],\"xaxis\":\"x13\",\"y\":[1.266260783512096,1.0760678342652144,-0.4650242740301058,-0.21647021700164917,0.28601333311938815,1.041346587755044,1.131971709867667,-0.5037139976965158,-0.4446965897131244,-0.4062812453982732,1.9698218935257283,1.2400234327014281,0.09218559392171667,0.12130486320546094,1.4483688647282036,-1.6627483465007056,0.42929645852249576,-0.5742498464341546,0.5886417109645046,0.1367021390009385,0.11654989810394253,-1.190242416914513,-0.15678849807221498,-0.030021989263458573,0.4989251361268583,-1.0076214923049656,0.31640917535229374,-0.12037651381974299,0.4152759338046989,-1.1612158031733368,0.22748524851633747,0.5890373539937255,0.34813989121135613,0.973326800718654,0.5773381622148324,0.3220137378478031,1.4936138767913432,1.8421077393332435,-1.9200557735141413,-0.22106275386649604,0.6149429736384715,0.28252553405393666,1.9661837911604012,-0.6376042001094842,0.3970691860753473,-0.5953892020610756,-0.15750985826333797,-0.24476953508191568,2.2733876793116385,-0.4657309413595077,-1.672454296377257,0.29907899502694196,0.04125147616487651,1.9474680691631634,1.5613351391319197,0.25603899131099833,0.672054181060471,-1.2035988643011164,1.2936692365541127,-0.7667030398763873,-0.07415602864939085,0.4922250541304212,0.46356334211688566,-1.355559756269536,0.34743964337864214,0.9146460893053346,-1.5669751437579442,0.24310885228389184,0.05070641361348756,-0.9119974398988641,-0.39816041158440796,0.40896385475364666,-0.4745354476018699,-0.06578493214694237,-1.2969495697154847,0.6768024113040993,-0.8955931160273207,0.3340560691415455,-0.7252430723585578,-1.1796227752297488,-0.8175317713570831,-1.0886306630852263,-0.47103420377994176,-1.090721576816317,1.4469491330064537,1.4977564650559236,-1.3016479877074265,0.7997520054814105,0.5598306576553228,2.5683896885626063,-2.4601660696001253,0.39630858940224933,-0.46580829714413075,-0.19493535222974312,0.239518777196436,0.41745874232209057,-0.12032830911856207,-0.10276619829661858,1.2624844876472245,0.2588212759339863],\"yaxis\":\"y13\",\"type\":\"scatter\"},{\"line\":{\"color\":\"rgba(128, 128, 128, 1.0)\",\"dash\":\"solid\",\"shape\":\"linear\",\"width\":1.3},\"marker\":{\"size\":2,\"symbol\":\"circle\"},\"mode\":\"markers\",\"name\":\"D\",\"text\":\"\",\"x\":[-1.6423187482682884,0.41963168348187535,-1.3496479565759631,-0.7990361289514452,1.0498037657974644,-1.4684911257784452,0.26529632352818244,1.1210444123093954,-0.8543052531017374,0.4936004792092293,0.3352964969986158,-0.8335670998872349,-0.873768927822603,0.838989083278963,0.6596806063582598,-0.4360417505026612,-0.7947653405354053,0.14152119373257438,-1.338146052069779,-0.20681637187432067,0.6862975890764074,0.6238965610420034,1.563221795575264,1.8777758510451736,-0.12962890082266365,0.814717176296732,0.6670823309262822,-2.6319140690241842,-0.7398901828927356,3.017548881587734,2.80896151749723,-0.35186053953479296,-0.519248020044265,2.183418909317853,0.33325356856113764,-0.1427680004214156,-1.4033215382841377,-0.031785386858465804,-1.0360737038457462,1.9383566722100194,0.922923719865304,1.052425126856661,1.6151167858507176,-0.29592404346606044,0.4672427362889414,-0.43962349980608306,-0.38749559180114634,-0.28544887827195764,0.01609848741884537,0.9923828452377574,0.7796568179793499,-1.422854421793395,0.0781336598529172,-0.3914933114847213,1.3804867486194805,0.364589500748893,0.45909539135096716,-0.4487222628383241,-0.3214478676486004,-0.25362373577023023,0.4648967220447523,0.4064034894197302,0.7339872364955721,1.1417595721284521,0.26409993389812947,0.11004780674212165,-0.23889226516326656,1.2848556430335665,0.7337083145318132,-1.8304406299363378,-0.9793388399961094,0.7868901247164648,-0.44638313155782816,1.2436611543011358,-0.976749209415963,-0.10104324891718097,1.2227944696341,1.9563728706496435,-0.28317982626843696,-0.44523366114945645,2.156202305757598,2.8820734332729945,-0.04376901548548563,1.0932176647358811,0.8042309346264729,0.2835630911992262,-0.2949796439396551,-1.026712578823772,1.0941919997337546,1.8651982790997288,-0.7485174567526562,-1.2735582311735507,-0.44204571582667407,0.19317135054614334,-2.17928112947225,0.25154244109528123,-0.026738306050912642,0.23149058077638784,1.901854709334183,1.2416852092635293],\"xaxis\":\"x14\",\"y\":[1.266260783512096,1.0760678342652144,-0.4650242740301058,-0.21647021700164917,0.28601333311938815,1.041346587755044,1.131971709867667,-0.5037139976965158,-0.4446965897131244,-0.4062812453982732,1.9698218935257283,1.2400234327014281,0.09218559392171667,0.12130486320546094,1.4483688647282036,-1.6627483465007056,0.42929645852249576,-0.5742498464341546,0.5886417109645046,0.1367021390009385,0.11654989810394253,-1.190242416914513,-0.15678849807221498,-0.030021989263458573,0.4989251361268583,-1.0076214923049656,0.31640917535229374,-0.12037651381974299,0.4152759338046989,-1.1612158031733368,0.22748524851633747,0.5890373539937255,0.34813989121135613,0.973326800718654,0.5773381622148324,0.3220137378478031,1.4936138767913432,1.8421077393332435,-1.9200557735141413,-0.22106275386649604,0.6149429736384715,0.28252553405393666,1.9661837911604012,-0.6376042001094842,0.3970691860753473,-0.5953892020610756,-0.15750985826333797,-0.24476953508191568,2.2733876793116385,-0.4657309413595077,-1.672454296377257,0.29907899502694196,0.04125147616487651,1.9474680691631634,1.5613351391319197,0.25603899131099833,0.672054181060471,-1.2035988643011164,1.2936692365541127,-0.7667030398763873,-0.07415602864939085,0.4922250541304212,0.46356334211688566,-1.355559756269536,0.34743964337864214,0.9146460893053346,-1.5669751437579442,0.24310885228389184,0.05070641361348756,-0.9119974398988641,-0.39816041158440796,0.40896385475364666,-0.4745354476018699,-0.06578493214694237,-1.2969495697154847,0.6768024113040993,-0.8955931160273207,0.3340560691415455,-0.7252430723585578,-1.1796227752297488,-0.8175317713570831,-1.0886306630852263,-0.47103420377994176,-1.090721576816317,1.4469491330064537,1.4977564650559236,-1.3016479877074265,0.7997520054814105,0.5598306576553228,2.5683896885626063,-2.4601660696001253,0.39630858940224933,-0.46580829714413075,-0.19493535222974312,0.239518777196436,0.41745874232209057,-0.12032830911856207,-0.10276619829661858,1.2624844876472245,0.2588212759339863],\"yaxis\":\"y14\",\"type\":\"scatter\"},{\"line\":{\"color\":\"rgba(128, 128, 128, 1.0)\",\"dash\":\"solid\",\"shape\":\"linear\",\"width\":1.3},\"marker\":{\"size\":2,\"symbol\":\"circle\"},\"mode\":\"markers\",\"name\":\"D\",\"text\":\"\",\"x\":[0.3346969639520708,-1.2336317243393349,0.6230812840141222,1.0508854655154376,0.4530222606278692,2.16455017310658,0.7085731176432195,-0.31079458736183335,0.34697243272396505,2.495050229549977,-0.49622289933869407,-0.5665238902214267,1.116378491241042,-1.4392136318750834,-0.16631951571032816,-0.6765118180152798,1.1648278942613461,0.2635453415324377,0.1366144025411083,1.2405491191282827,-1.5543907252811087,-1.559276416181382,-1.8252999884048469,-0.13612372636118525,1.5646929374691396,-1.3158874744435545,-0.7415816279964159,-0.02005047927330447,1.6202154617352302,-1.2318048734488694,-0.2964136725294143,-1.4231918287565117,-0.7114391583847743,0.3781657115467283,-0.4511097327962044,0.17558307770721882,-0.08251109461551036,-0.30065330297117965,-0.37427064425321915,-0.41749354045256054,-1.467342825825888,-1.5544659977242161,-0.7250548841901909,0.571969068026345,-0.820012425772976,1.0324124674521806,0.6134366376614737,0.008205890826946881,-0.7189657408398175,2.85667446562105,0.7690945991237577,0.07777185862191514,0.3932194541736613,-1.2599174978493304,-0.23555416586727532,1.9584477612337254,0.24525068230898311,0.6562594200839934,-1.0469931367085725,0.6426356847976332,-0.2488515670285282,-0.8671846504029506,1.1510688310062849,0.5477439829627061,0.7423898582393791,-1.9121763857927636,-0.10208024225432279,-1.3560081585920087,0.7966898585164544,0.43562215839844604,-1.838921802165319,0.6132669266941965,1.4244284900296638,-0.02668913107232897,0.3095638679023362,2.436711341747925,-1.0610049756040834,1.244508093550768,-0.32962468096917996,-1.3211407011617657,-1.227957832402727,-0.05387807236747335,0.7271996019729741,0.33246522838981135,-1.1621360832968393,0.5243175624581307,-0.1145364103931661,0.33823564130777906,-0.768172544956866,0.04567572432591013,-0.6351876822094256,0.7789817672634333,-1.331186611693832,1.0428243624994458,0.10073765125932399,-1.7120813441814493,0.32668871889999884,-0.2242408214064022,-0.43067183917431184,0.5746507037405056],\"xaxis\":\"x15\",\"y\":[1.266260783512096,1.0760678342652144,-0.4650242740301058,-0.21647021700164917,0.28601333311938815,1.041346587755044,1.131971709867667,-0.5037139976965158,-0.4446965897131244,-0.4062812453982732,1.9698218935257283,1.2400234327014281,0.09218559392171667,0.12130486320546094,1.4483688647282036,-1.6627483465007056,0.42929645852249576,-0.5742498464341546,0.5886417109645046,0.1367021390009385,0.11654989810394253,-1.190242416914513,-0.15678849807221498,-0.030021989263458573,0.4989251361268583,-1.0076214923049656,0.31640917535229374,-0.12037651381974299,0.4152759338046989,-1.1612158031733368,0.22748524851633747,0.5890373539937255,0.34813989121135613,0.973326800718654,0.5773381622148324,0.3220137378478031,1.4936138767913432,1.8421077393332435,-1.9200557735141413,-0.22106275386649604,0.6149429736384715,0.28252553405393666,1.9661837911604012,-0.6376042001094842,0.3970691860753473,-0.5953892020610756,-0.15750985826333797,-0.24476953508191568,2.2733876793116385,-0.4657309413595077,-1.672454296377257,0.29907899502694196,0.04125147616487651,1.9474680691631634,1.5613351391319197,0.25603899131099833,0.672054181060471,-1.2035988643011164,1.2936692365541127,-0.7667030398763873,-0.07415602864939085,0.4922250541304212,0.46356334211688566,-1.355559756269536,0.34743964337864214,0.9146460893053346,-1.5669751437579442,0.24310885228389184,0.05070641361348756,-0.9119974398988641,-0.39816041158440796,0.40896385475364666,-0.4745354476018699,-0.06578493214694237,-1.2969495697154847,0.6768024113040993,-0.8955931160273207,0.3340560691415455,-0.7252430723585578,-1.1796227752297488,-0.8175317713570831,-1.0886306630852263,-0.47103420377994176,-1.090721576816317,1.4469491330064537,1.4977564650559236,-1.3016479877074265,0.7997520054814105,0.5598306576553228,2.5683896885626063,-2.4601660696001253,0.39630858940224933,-0.46580829714413075,-0.19493535222974312,0.239518777196436,0.41745874232209057,-0.12032830911856207,-0.10276619829661858,1.2624844876472245,0.2588212759339863],\"yaxis\":\"y15\",\"type\":\"scatter\"},{\"histfunc\":\"count\",\"histnorm\":\"\",\"marker\":{\"color\":\"rgba(128, 0, 128, 1.0)\",\"line\":{\"color\":\"#4D5663\",\"width\":1.3}},\"name\":\"D\",\"nbinsx\":10,\"opacity\":0.8,\"orientation\":\"v\",\"x\":[1.266260783512096,1.0760678342652144,-0.4650242740301058,-0.21647021700164917,0.28601333311938815,1.041346587755044,1.131971709867667,-0.5037139976965158,-0.4446965897131244,-0.4062812453982732,1.9698218935257283,1.2400234327014281,0.09218559392171667,0.12130486320546094,1.4483688647282036,-1.6627483465007056,0.42929645852249576,-0.5742498464341546,0.5886417109645046,0.1367021390009385,0.11654989810394253,-1.190242416914513,-0.15678849807221498,-0.030021989263458573,0.4989251361268583,-1.0076214923049656,0.31640917535229374,-0.12037651381974299,0.4152759338046989,-1.1612158031733368,0.22748524851633747,0.5890373539937255,0.34813989121135613,0.973326800718654,0.5773381622148324,0.3220137378478031,1.4936138767913432,1.8421077393332435,-1.9200557735141413,-0.22106275386649604,0.6149429736384715,0.28252553405393666,1.9661837911604012,-0.6376042001094842,0.3970691860753473,-0.5953892020610756,-0.15750985826333797,-0.24476953508191568,2.2733876793116385,-0.4657309413595077,-1.672454296377257,0.29907899502694196,0.04125147616487651,1.9474680691631634,1.5613351391319197,0.25603899131099833,0.672054181060471,-1.2035988643011164,1.2936692365541127,-0.7667030398763873,-0.07415602864939085,0.4922250541304212,0.46356334211688566,-1.355559756269536,0.34743964337864214,0.9146460893053346,-1.5669751437579442,0.24310885228389184,0.05070641361348756,-0.9119974398988641,-0.39816041158440796,0.40896385475364666,-0.4745354476018699,-0.06578493214694237,-1.2969495697154847,0.6768024113040993,-0.8955931160273207,0.3340560691415455,-0.7252430723585578,-1.1796227752297488,-0.8175317713570831,-1.0886306630852263,-0.47103420377994176,-1.090721576816317,1.4469491330064537,1.4977564650559236,-1.3016479877074265,0.7997520054814105,0.5598306576553228,2.5683896885626063,-2.4601660696001253,0.39630858940224933,-0.46580829714413075,-0.19493535222974312,0.239518777196436,0.41745874232209057,-0.12032830911856207,-0.10276619829661858,1.2624844876472245,0.2588212759339863],\"xaxis\":\"x16\",\"yaxis\":\"y16\",\"type\":\"histogram\"}],                        {\"bargap\":0.02,\"legend\":{\"bgcolor\":\"#F5F6F9\",\"font\":{\"color\":\"#4D5663\"}},\"paper_bgcolor\":\"#F5F6F9\",\"plot_bgcolor\":\"#F5F6F9\",\"showlegend\":false,\"template\":{\"data\":{\"barpolar\":[{\"marker\":{\"line\":{\"color\":\"#E5ECF6\",\"width\":0.5},\"pattern\":{\"fillmode\":\"overlay\",\"size\":10,\"solidity\":0.2}},\"type\":\"barpolar\"}],\"bar\":[{\"error_x\":{\"color\":\"#2a3f5f\"},\"error_y\":{\"color\":\"#2a3f5f\"},\"marker\":{\"line\":{\"color\":\"#E5ECF6\",\"width\":0.5},\"pattern\":{\"fillmode\":\"overlay\",\"size\":10,\"solidity\":0.2}},\"type\":\"bar\"}],\"carpet\":[{\"aaxis\":{\"endlinecolor\":\"#2a3f5f\",\"gridcolor\":\"white\",\"linecolor\":\"white\",\"minorgridcolor\":\"white\",\"startlinecolor\":\"#2a3f5f\"},\"baxis\":{\"endlinecolor\":\"#2a3f5f\",\"gridcolor\":\"white\",\"linecolor\":\"white\",\"minorgridcolor\":\"white\",\"startlinecolor\":\"#2a3f5f\"},\"type\":\"carpet\"}],\"choropleth\":[{\"colorbar\":{\"outlinewidth\":0,\"ticks\":\"\"},\"type\":\"choropleth\"}],\"contourcarpet\":[{\"colorbar\":{\"outlinewidth\":0,\"ticks\":\"\"},\"type\":\"contourcarpet\"}],\"contour\":[{\"colorbar\":{\"outlinewidth\":0,\"ticks\":\"\"},\"colorscale\":[[0.0,\"#0d0887\"],[0.1111111111111111,\"#46039f\"],[0.2222222222222222,\"#7201a8\"],[0.3333333333333333,\"#9c179e\"],[0.4444444444444444,\"#bd3786\"],[0.5555555555555556,\"#d8576b\"],[0.6666666666666666,\"#ed7953\"],[0.7777777777777778,\"#fb9f3a\"],[0.8888888888888888,\"#fdca26\"],[1.0,\"#f0f921\"]],\"type\":\"contour\"}],\"heatmapgl\":[{\"colorbar\":{\"outlinewidth\":0,\"ticks\":\"\"},\"colorscale\":[[0.0,\"#0d0887\"],[0.1111111111111111,\"#46039f\"],[0.2222222222222222,\"#7201a8\"],[0.3333333333333333,\"#9c179e\"],[0.4444444444444444,\"#bd3786\"],[0.5555555555555556,\"#d8576b\"],[0.6666666666666666,\"#ed7953\"],[0.7777777777777778,\"#fb9f3a\"],[0.8888888888888888,\"#fdca26\"],[1.0,\"#f0f921\"]],\"type\":\"heatmapgl\"}],\"heatmap\":[{\"colorbar\":{\"outlinewidth\":0,\"ticks\":\"\"},\"colorscale\":[[0.0,\"#0d0887\"],[0.1111111111111111,\"#46039f\"],[0.2222222222222222,\"#7201a8\"],[0.3333333333333333,\"#9c179e\"],[0.4444444444444444,\"#bd3786\"],[0.5555555555555556,\"#d8576b\"],[0.6666666666666666,\"#ed7953\"],[0.7777777777777778,\"#fb9f3a\"],[0.8888888888888888,\"#fdca26\"],[1.0,\"#f0f921\"]],\"type\":\"heatmap\"}],\"histogram2dcontour\":[{\"colorbar\":{\"outlinewidth\":0,\"ticks\":\"\"},\"colorscale\":[[0.0,\"#0d0887\"],[0.1111111111111111,\"#46039f\"],[0.2222222222222222,\"#7201a8\"],[0.3333333333333333,\"#9c179e\"],[0.4444444444444444,\"#bd3786\"],[0.5555555555555556,\"#d8576b\"],[0.6666666666666666,\"#ed7953\"],[0.7777777777777778,\"#fb9f3a\"],[0.8888888888888888,\"#fdca26\"],[1.0,\"#f0f921\"]],\"type\":\"histogram2dcontour\"}],\"histogram2d\":[{\"colorbar\":{\"outlinewidth\":0,\"ticks\":\"\"},\"colorscale\":[[0.0,\"#0d0887\"],[0.1111111111111111,\"#46039f\"],[0.2222222222222222,\"#7201a8\"],[0.3333333333333333,\"#9c179e\"],[0.4444444444444444,\"#bd3786\"],[0.5555555555555556,\"#d8576b\"],[0.6666666666666666,\"#ed7953\"],[0.7777777777777778,\"#fb9f3a\"],[0.8888888888888888,\"#fdca26\"],[1.0,\"#f0f921\"]],\"type\":\"histogram2d\"}],\"histogram\":[{\"marker\":{\"pattern\":{\"fillmode\":\"overlay\",\"size\":10,\"solidity\":0.2}},\"type\":\"histogram\"}],\"mesh3d\":[{\"colorbar\":{\"outlinewidth\":0,\"ticks\":\"\"},\"type\":\"mesh3d\"}],\"parcoords\":[{\"line\":{\"colorbar\":{\"outlinewidth\":0,\"ticks\":\"\"}},\"type\":\"parcoords\"}],\"pie\":[{\"automargin\":true,\"type\":\"pie\"}],\"scatter3d\":[{\"line\":{\"colorbar\":{\"outlinewidth\":0,\"ticks\":\"\"}},\"marker\":{\"colorbar\":{\"outlinewidth\":0,\"ticks\":\"\"}},\"type\":\"scatter3d\"}],\"scattercarpet\":[{\"marker\":{\"colorbar\":{\"outlinewidth\":0,\"ticks\":\"\"}},\"type\":\"scattercarpet\"}],\"scattergeo\":[{\"marker\":{\"colorbar\":{\"outlinewidth\":0,\"ticks\":\"\"}},\"type\":\"scattergeo\"}],\"scattergl\":[{\"marker\":{\"colorbar\":{\"outlinewidth\":0,\"ticks\":\"\"}},\"type\":\"scattergl\"}],\"scattermapbox\":[{\"marker\":{\"colorbar\":{\"outlinewidth\":0,\"ticks\":\"\"}},\"type\":\"scattermapbox\"}],\"scatterpolargl\":[{\"marker\":{\"colorbar\":{\"outlinewidth\":0,\"ticks\":\"\"}},\"type\":\"scatterpolargl\"}],\"scatterpolar\":[{\"marker\":{\"colorbar\":{\"outlinewidth\":0,\"ticks\":\"\"}},\"type\":\"scatterpolar\"}],\"scatter\":[{\"fillpattern\":{\"fillmode\":\"overlay\",\"size\":10,\"solidity\":0.2},\"type\":\"scatter\"}],\"scatterternary\":[{\"marker\":{\"colorbar\":{\"outlinewidth\":0,\"ticks\":\"\"}},\"type\":\"scatterternary\"}],\"surface\":[{\"colorbar\":{\"outlinewidth\":0,\"ticks\":\"\"},\"colorscale\":[[0.0,\"#0d0887\"],[0.1111111111111111,\"#46039f\"],[0.2222222222222222,\"#7201a8\"],[0.3333333333333333,\"#9c179e\"],[0.4444444444444444,\"#bd3786\"],[0.5555555555555556,\"#d8576b\"],[0.6666666666666666,\"#ed7953\"],[0.7777777777777778,\"#fb9f3a\"],[0.8888888888888888,\"#fdca26\"],[1.0,\"#f0f921\"]],\"type\":\"surface\"}],\"table\":[{\"cells\":{\"fill\":{\"color\":\"#EBF0F8\"},\"line\":{\"color\":\"white\"}},\"header\":{\"fill\":{\"color\":\"#C8D4E3\"},\"line\":{\"color\":\"white\"}},\"type\":\"table\"}]},\"layout\":{\"annotationdefaults\":{\"arrowcolor\":\"#2a3f5f\",\"arrowhead\":0,\"arrowwidth\":1},\"autotypenumbers\":\"strict\",\"coloraxis\":{\"colorbar\":{\"outlinewidth\":0,\"ticks\":\"\"}},\"colorscale\":{\"diverging\":[[0,\"#8e0152\"],[0.1,\"#c51b7d\"],[0.2,\"#de77ae\"],[0.3,\"#f1b6da\"],[0.4,\"#fde0ef\"],[0.5,\"#f7f7f7\"],[0.6,\"#e6f5d0\"],[0.7,\"#b8e186\"],[0.8,\"#7fbc41\"],[0.9,\"#4d9221\"],[1,\"#276419\"]],\"sequential\":[[0.0,\"#0d0887\"],[0.1111111111111111,\"#46039f\"],[0.2222222222222222,\"#7201a8\"],[0.3333333333333333,\"#9c179e\"],[0.4444444444444444,\"#bd3786\"],[0.5555555555555556,\"#d8576b\"],[0.6666666666666666,\"#ed7953\"],[0.7777777777777778,\"#fb9f3a\"],[0.8888888888888888,\"#fdca26\"],[1.0,\"#f0f921\"]],\"sequentialminus\":[[0.0,\"#0d0887\"],[0.1111111111111111,\"#46039f\"],[0.2222222222222222,\"#7201a8\"],[0.3333333333333333,\"#9c179e\"],[0.4444444444444444,\"#bd3786\"],[0.5555555555555556,\"#d8576b\"],[0.6666666666666666,\"#ed7953\"],[0.7777777777777778,\"#fb9f3a\"],[0.8888888888888888,\"#fdca26\"],[1.0,\"#f0f921\"]]},\"colorway\":[\"#636efa\",\"#EF553B\",\"#00cc96\",\"#ab63fa\",\"#FFA15A\",\"#19d3f3\",\"#FF6692\",\"#B6E880\",\"#FF97FF\",\"#FECB52\"],\"font\":{\"color\":\"#2a3f5f\"},\"geo\":{\"bgcolor\":\"white\",\"lakecolor\":\"white\",\"landcolor\":\"#E5ECF6\",\"showlakes\":true,\"showland\":true,\"subunitcolor\":\"white\"},\"hoverlabel\":{\"align\":\"left\"},\"hovermode\":\"closest\",\"mapbox\":{\"style\":\"light\"},\"paper_bgcolor\":\"white\",\"plot_bgcolor\":\"#E5ECF6\",\"polar\":{\"angularaxis\":{\"gridcolor\":\"white\",\"linecolor\":\"white\",\"ticks\":\"\"},\"bgcolor\":\"#E5ECF6\",\"radialaxis\":{\"gridcolor\":\"white\",\"linecolor\":\"white\",\"ticks\":\"\"}},\"scene\":{\"xaxis\":{\"backgroundcolor\":\"#E5ECF6\",\"gridcolor\":\"white\",\"gridwidth\":2,\"linecolor\":\"white\",\"showbackground\":true,\"ticks\":\"\",\"zerolinecolor\":\"white\"},\"yaxis\":{\"backgroundcolor\":\"#E5ECF6\",\"gridcolor\":\"white\",\"gridwidth\":2,\"linecolor\":\"white\",\"showbackground\":true,\"ticks\":\"\",\"zerolinecolor\":\"white\"},\"zaxis\":{\"backgroundcolor\":\"#E5ECF6\",\"gridcolor\":\"white\",\"gridwidth\":2,\"linecolor\":\"white\",\"showbackground\":true,\"ticks\":\"\",\"zerolinecolor\":\"white\"}},\"shapedefaults\":{\"line\":{\"color\":\"#2a3f5f\"}},\"ternary\":{\"aaxis\":{\"gridcolor\":\"white\",\"linecolor\":\"white\",\"ticks\":\"\"},\"baxis\":{\"gridcolor\":\"white\",\"linecolor\":\"white\",\"ticks\":\"\"},\"bgcolor\":\"#E5ECF6\",\"caxis\":{\"gridcolor\":\"white\",\"linecolor\":\"white\",\"ticks\":\"\"}},\"title\":{\"x\":0.05},\"xaxis\":{\"automargin\":true,\"gridcolor\":\"white\",\"linecolor\":\"white\",\"ticks\":\"\",\"title\":{\"standoff\":15},\"zerolinecolor\":\"white\",\"zerolinewidth\":2},\"yaxis\":{\"automargin\":true,\"gridcolor\":\"white\",\"linecolor\":\"white\",\"ticks\":\"\",\"title\":{\"standoff\":15},\"zerolinecolor\":\"white\",\"zerolinewidth\":2}}},\"title\":{\"font\":{\"color\":\"#4D5663\"}},\"xaxis\":{\"anchor\":\"y\",\"domain\":[0.0,0.2125],\"gridcolor\":\"#E1E5ED\",\"showgrid\":false,\"tickfont\":{\"color\":\"#4D5663\"},\"title\":{\"font\":{\"color\":\"#4D5663\"},\"text\":\"\"},\"zerolinecolor\":\"#E1E5ED\"},\"yaxis\":{\"anchor\":\"x\",\"domain\":[0.8025,1.0],\"gridcolor\":\"#E1E5ED\",\"showgrid\":false,\"tickfont\":{\"color\":\"#4D5663\"},\"title\":{\"font\":{\"color\":\"#4D5663\"},\"text\":\"\"},\"zerolinecolor\":\"#E1E5ED\"},\"xaxis2\":{\"anchor\":\"y2\",\"domain\":[0.2625,0.475],\"gridcolor\":\"#E1E5ED\",\"showgrid\":false,\"tickfont\":{\"color\":\"#4D5663\"},\"title\":{\"font\":{\"color\":\"#4D5663\"},\"text\":\"\"},\"zerolinecolor\":\"#E1E5ED\"},\"yaxis2\":{\"anchor\":\"x2\",\"domain\":[0.8025,1.0],\"gridcolor\":\"#E1E5ED\",\"showgrid\":false,\"tickfont\":{\"color\":\"#4D5663\"},\"title\":{\"font\":{\"color\":\"#4D5663\"},\"text\":\"\"},\"zerolinecolor\":\"#E1E5ED\"},\"xaxis3\":{\"anchor\":\"y3\",\"domain\":[0.525,0.7375],\"gridcolor\":\"#E1E5ED\",\"showgrid\":false,\"tickfont\":{\"color\":\"#4D5663\"},\"title\":{\"font\":{\"color\":\"#4D5663\"},\"text\":\"\"},\"zerolinecolor\":\"#E1E5ED\"},\"yaxis3\":{\"anchor\":\"x3\",\"domain\":[0.8025,1.0],\"gridcolor\":\"#E1E5ED\",\"showgrid\":false,\"tickfont\":{\"color\":\"#4D5663\"},\"title\":{\"font\":{\"color\":\"#4D5663\"},\"text\":\"\"},\"zerolinecolor\":\"#E1E5ED\"},\"xaxis4\":{\"anchor\":\"y4\",\"domain\":[0.7875,1.0],\"gridcolor\":\"#E1E5ED\",\"showgrid\":false,\"tickfont\":{\"color\":\"#4D5663\"},\"title\":{\"font\":{\"color\":\"#4D5663\"},\"text\":\"\"},\"zerolinecolor\":\"#E1E5ED\"},\"yaxis4\":{\"anchor\":\"x4\",\"domain\":[0.8025,1.0],\"gridcolor\":\"#E1E5ED\",\"showgrid\":false,\"tickfont\":{\"color\":\"#4D5663\"},\"title\":{\"font\":{\"color\":\"#4D5663\"},\"text\":\"\"},\"zerolinecolor\":\"#E1E5ED\"},\"xaxis5\":{\"anchor\":\"y5\",\"domain\":[0.0,0.2125],\"gridcolor\":\"#E1E5ED\",\"showgrid\":false,\"tickfont\":{\"color\":\"#4D5663\"},\"title\":{\"font\":{\"color\":\"#4D5663\"},\"text\":\"\"},\"zerolinecolor\":\"#E1E5ED\"},\"yaxis5\":{\"anchor\":\"x5\",\"domain\":[0.535,0.7325],\"gridcolor\":\"#E1E5ED\",\"showgrid\":false,\"tickfont\":{\"color\":\"#4D5663\"},\"title\":{\"font\":{\"color\":\"#4D5663\"},\"text\":\"\"},\"zerolinecolor\":\"#E1E5ED\"},\"xaxis6\":{\"anchor\":\"y6\",\"domain\":[0.2625,0.475],\"gridcolor\":\"#E1E5ED\",\"showgrid\":false,\"tickfont\":{\"color\":\"#4D5663\"},\"title\":{\"font\":{\"color\":\"#4D5663\"},\"text\":\"\"},\"zerolinecolor\":\"#E1E5ED\"},\"yaxis6\":{\"anchor\":\"x6\",\"domain\":[0.535,0.7325],\"gridcolor\":\"#E1E5ED\",\"showgrid\":false,\"tickfont\":{\"color\":\"#4D5663\"},\"title\":{\"font\":{\"color\":\"#4D5663\"},\"text\":\"\"},\"zerolinecolor\":\"#E1E5ED\"},\"xaxis7\":{\"anchor\":\"y7\",\"domain\":[0.525,0.7375],\"gridcolor\":\"#E1E5ED\",\"showgrid\":false,\"tickfont\":{\"color\":\"#4D5663\"},\"title\":{\"font\":{\"color\":\"#4D5663\"},\"text\":\"\"},\"zerolinecolor\":\"#E1E5ED\"},\"yaxis7\":{\"anchor\":\"x7\",\"domain\":[0.535,0.7325],\"gridcolor\":\"#E1E5ED\",\"showgrid\":false,\"tickfont\":{\"color\":\"#4D5663\"},\"title\":{\"font\":{\"color\":\"#4D5663\"},\"text\":\"\"},\"zerolinecolor\":\"#E1E5ED\"},\"xaxis8\":{\"anchor\":\"y8\",\"domain\":[0.7875,1.0],\"gridcolor\":\"#E1E5ED\",\"showgrid\":false,\"tickfont\":{\"color\":\"#4D5663\"},\"title\":{\"font\":{\"color\":\"#4D5663\"},\"text\":\"\"},\"zerolinecolor\":\"#E1E5ED\"},\"yaxis8\":{\"anchor\":\"x8\",\"domain\":[0.535,0.7325],\"gridcolor\":\"#E1E5ED\",\"showgrid\":false,\"tickfont\":{\"color\":\"#4D5663\"},\"title\":{\"font\":{\"color\":\"#4D5663\"},\"text\":\"\"},\"zerolinecolor\":\"#E1E5ED\"},\"xaxis9\":{\"anchor\":\"y9\",\"domain\":[0.0,0.2125],\"gridcolor\":\"#E1E5ED\",\"showgrid\":false,\"tickfont\":{\"color\":\"#4D5663\"},\"title\":{\"font\":{\"color\":\"#4D5663\"},\"text\":\"\"},\"zerolinecolor\":\"#E1E5ED\"},\"yaxis9\":{\"anchor\":\"x9\",\"domain\":[0.2675,0.465],\"gridcolor\":\"#E1E5ED\",\"showgrid\":false,\"tickfont\":{\"color\":\"#4D5663\"},\"title\":{\"font\":{\"color\":\"#4D5663\"},\"text\":\"\"},\"zerolinecolor\":\"#E1E5ED\"},\"xaxis10\":{\"anchor\":\"y10\",\"domain\":[0.2625,0.475],\"gridcolor\":\"#E1E5ED\",\"showgrid\":false,\"tickfont\":{\"color\":\"#4D5663\"},\"title\":{\"font\":{\"color\":\"#4D5663\"},\"text\":\"\"},\"zerolinecolor\":\"#E1E5ED\"},\"yaxis10\":{\"anchor\":\"x10\",\"domain\":[0.2675,0.465],\"gridcolor\":\"#E1E5ED\",\"showgrid\":false,\"tickfont\":{\"color\":\"#4D5663\"},\"title\":{\"font\":{\"color\":\"#4D5663\"},\"text\":\"\"},\"zerolinecolor\":\"#E1E5ED\"},\"xaxis11\":{\"anchor\":\"y11\",\"domain\":[0.525,0.7375],\"gridcolor\":\"#E1E5ED\",\"showgrid\":false,\"tickfont\":{\"color\":\"#4D5663\"},\"title\":{\"font\":{\"color\":\"#4D5663\"},\"text\":\"\"},\"zerolinecolor\":\"#E1E5ED\"},\"yaxis11\":{\"anchor\":\"x11\",\"domain\":[0.2675,0.465],\"gridcolor\":\"#E1E5ED\",\"showgrid\":false,\"tickfont\":{\"color\":\"#4D5663\"},\"title\":{\"font\":{\"color\":\"#4D5663\"},\"text\":\"\"},\"zerolinecolor\":\"#E1E5ED\"},\"xaxis12\":{\"anchor\":\"y12\",\"domain\":[0.7875,1.0],\"gridcolor\":\"#E1E5ED\",\"showgrid\":false,\"tickfont\":{\"color\":\"#4D5663\"},\"title\":{\"font\":{\"color\":\"#4D5663\"},\"text\":\"\"},\"zerolinecolor\":\"#E1E5ED\"},\"yaxis12\":{\"anchor\":\"x12\",\"domain\":[0.2675,0.465],\"gridcolor\":\"#E1E5ED\",\"showgrid\":false,\"tickfont\":{\"color\":\"#4D5663\"},\"title\":{\"font\":{\"color\":\"#4D5663\"},\"text\":\"\"},\"zerolinecolor\":\"#E1E5ED\"},\"xaxis13\":{\"anchor\":\"y13\",\"domain\":[0.0,0.2125],\"gridcolor\":\"#E1E5ED\",\"showgrid\":false,\"tickfont\":{\"color\":\"#4D5663\"},\"title\":{\"font\":{\"color\":\"#4D5663\"},\"text\":\"\"},\"zerolinecolor\":\"#E1E5ED\"},\"yaxis13\":{\"anchor\":\"x13\",\"domain\":[0.0,0.1975],\"gridcolor\":\"#E1E5ED\",\"showgrid\":false,\"tickfont\":{\"color\":\"#4D5663\"},\"title\":{\"font\":{\"color\":\"#4D5663\"},\"text\":\"\"},\"zerolinecolor\":\"#E1E5ED\"},\"xaxis14\":{\"anchor\":\"y14\",\"domain\":[0.2625,0.475],\"gridcolor\":\"#E1E5ED\",\"showgrid\":false,\"tickfont\":{\"color\":\"#4D5663\"},\"title\":{\"font\":{\"color\":\"#4D5663\"},\"text\":\"\"},\"zerolinecolor\":\"#E1E5ED\"},\"yaxis14\":{\"anchor\":\"x14\",\"domain\":[0.0,0.1975],\"gridcolor\":\"#E1E5ED\",\"showgrid\":false,\"tickfont\":{\"color\":\"#4D5663\"},\"title\":{\"font\":{\"color\":\"#4D5663\"},\"text\":\"\"},\"zerolinecolor\":\"#E1E5ED\"},\"xaxis15\":{\"anchor\":\"y15\",\"domain\":[0.525,0.7375],\"gridcolor\":\"#E1E5ED\",\"showgrid\":false,\"tickfont\":{\"color\":\"#4D5663\"},\"title\":{\"font\":{\"color\":\"#4D5663\"},\"text\":\"\"},\"zerolinecolor\":\"#E1E5ED\"},\"yaxis15\":{\"anchor\":\"x15\",\"domain\":[0.0,0.1975],\"gridcolor\":\"#E1E5ED\",\"showgrid\":false,\"tickfont\":{\"color\":\"#4D5663\"},\"title\":{\"font\":{\"color\":\"#4D5663\"},\"text\":\"\"},\"zerolinecolor\":\"#E1E5ED\"},\"xaxis16\":{\"anchor\":\"y16\",\"domain\":[0.7875,1.0],\"gridcolor\":\"#E1E5ED\",\"showgrid\":false,\"tickfont\":{\"color\":\"#4D5663\"},\"title\":{\"font\":{\"color\":\"#4D5663\"},\"text\":\"\"},\"zerolinecolor\":\"#E1E5ED\"},\"yaxis16\":{\"anchor\":\"x16\",\"domain\":[0.0,0.1975],\"gridcolor\":\"#E1E5ED\",\"showgrid\":false,\"tickfont\":{\"color\":\"#4D5663\"},\"title\":{\"font\":{\"color\":\"#4D5663\"},\"text\":\"\"},\"zerolinecolor\":\"#E1E5ED\"}},                        {\"showLink\": true, \"linkText\": \"Export to plot.ly\", \"plotlyServerURL\": \"https://plot.ly\", \"responsive\": true}                    ).then(function(){\n",
              "                            \n",
              "var gd = document.getElementById('7c626423-3355-458b-a351-7b8fd2f66d03');\n",
              "var x = new MutationObserver(function (mutations, observer) {{\n",
              "        var display = window.getComputedStyle(gd).display;\n",
              "        if (!display || display === 'none') {{\n",
              "            console.log([gd, 'removed!']);\n",
              "            Plotly.purge(gd);\n",
              "            observer.disconnect();\n",
              "        }}\n",
              "}});\n",
              "\n",
              "// Listen for the removal of the full notebook cells\n",
              "var notebookContainer = gd.closest('#notebook-container');\n",
              "if (notebookContainer) {{\n",
              "    x.observe(notebookContainer, {childList: true});\n",
              "}}\n",
              "\n",
              "// Listen for the clearing of the current output cell\n",
              "var outputEl = gd.closest('.output');\n",
              "if (outputEl) {{\n",
              "    x.observe(outputEl, {childList: true});\n",
              "}}\n",
              "\n",
              "                        })                };                            </script>        </div>\n",
              "</body>\n",
              "</html>"
            ]
          },
          "metadata": {}
        }
      ],
      "source": [
        "df.scatter_matrix()"
      ]
    },
    {
      "cell_type": "markdown",
      "metadata": {
        "collapsed": true,
        "id": "cY97MjJ5x6k2"
      },
      "source": [
        "# Buen trabajo!"
      ]
    }
  ],
  "metadata": {
    "kernelspec": {
      "display_name": "Python 3",
      "language": "python",
      "name": "python3"
    },
    "language_info": {
      "codemirror_mode": {
        "name": "ipython",
        "version": 3
      },
      "file_extension": ".py",
      "mimetype": "text/x-python",
      "name": "python",
      "nbconvert_exporter": "python",
      "pygments_lexer": "ipython3",
      "version": "3.8.5"
    },
    "colab": {
      "provenance": [],
      "toc_visible": true,
      "include_colab_link": true
    }
  },
  "nbformat": 4,
  "nbformat_minor": 0
}