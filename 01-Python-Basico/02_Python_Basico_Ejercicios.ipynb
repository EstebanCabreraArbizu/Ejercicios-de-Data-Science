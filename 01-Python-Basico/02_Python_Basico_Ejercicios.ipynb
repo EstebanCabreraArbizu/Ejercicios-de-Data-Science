{
  "cells": [
    {
      "cell_type": "markdown",
      "metadata": {
        "id": "view-in-github",
        "colab_type": "text"
      },
      "source": [
        "<a href=\"https://colab.research.google.com/github/EstebanCabreraArbizu/Ejercicios-de-R/blob/main/01-Python-Basico/02_Python_Basico_Ejercicios.ipynb\" target=\"_parent\"><img src=\"https://colab.research.google.com/assets/colab-badge.svg\" alt=\"Open In Colab\"/></a>"
      ]
    },
    {
      "cell_type": "markdown",
      "metadata": {
        "id": "HcHJoH_azHUs"
      },
      "source": [
        "___\n",
        "\n",
        "<a href='https://jupyter-notebook.readthedocs.io/en/stable/examples/Notebook/Running%20Code.html'> <img src='https://www.python.org/static/img/python-logo.png' /></a>\n",
        "___\n",
        "# Python Basico - Ejercicios\n",
        "\n"
      ]
    },
    {
      "cell_type": "markdown",
      "metadata": {
        "id": "izct2V15zHUv"
      },
      "source": [
        "## Ejercicios\n",
        "\n",
        "Responda las preguntas o complete las tareas descritas en negrita a continuación, use el método específico descrito si corresponde."
      ]
    },
    {
      "cell_type": "markdown",
      "metadata": {
        "id": "SfFkc3mOzHUv"
      },
      "source": [
        "** ¿Cuánto es 7 elevado a 4?**"
      ]
    },
    {
      "cell_type": "code",
      "execution_count": null,
      "metadata": {
        "colab": {
          "base_uri": "https://localhost:8080/"
        },
        "id": "8aMqnKIFzHUv",
        "outputId": "65bf1e2a-3aa1-476f-efd1-1c745497a927"
      },
      "outputs": [
        {
          "output_type": "execute_result",
          "data": {
            "text/plain": [
              "2401"
            ]
          },
          "metadata": {},
          "execution_count": 2
        }
      ],
      "source": [
        "7**4"
      ]
    },
    {
      "cell_type": "markdown",
      "metadata": {
        "id": "9tENiqWhzHUw"
      },
      "source": [
        "** Divida esta cadena:**\n",
        "\n",
        "    s = \"Hola mi estimado!\"\n",
        "    \n",
        "**en una lista. **"
      ]
    },
    {
      "cell_type": "code",
      "execution_count": null,
      "metadata": {
        "id": "aaPp54ZtzHUw"
      },
      "outputs": [],
      "source": [
        "s = \"Hola mi estimado!\""
      ]
    },
    {
      "cell_type": "code",
      "execution_count": null,
      "metadata": {
        "colab": {
          "base_uri": "https://localhost:8080/"
        },
        "id": "D5SMoIdSzHUw",
        "outputId": "9c70c5b8-6db1-4d75-8ee3-41d59ddfc577"
      },
      "outputs": [
        {
          "output_type": "execute_result",
          "data": {
            "text/plain": [
              "['Hola', 'mi', 'estimado!']"
            ]
          },
          "metadata": {},
          "execution_count": 5
        }
      ],
      "source": [
        "s.split()"
      ]
    },
    {
      "cell_type": "markdown",
      "metadata": {
        "id": "c7QfEW-zzHUw"
      },
      "source": [
        "** Dadas las variables:**\n",
        "\n",
        "    planeta = \"Tierra\"\n",
        "    diametro = 12742\n",
        "\n",
        "** Use .format() para visualizar la siguente frase: **\n",
        "\n",
        "    El diametro de la Tierra es 12742 kilometros."
      ]
    },
    {
      "cell_type": "code",
      "execution_count": null,
      "metadata": {
        "id": "xk8jwCQjzHUx"
      },
      "outputs": [],
      "source": [
        "planeta = \"Tierra\"\n",
        "diametro = 12742"
      ]
    },
    {
      "cell_type": "code",
      "execution_count": null,
      "metadata": {
        "colab": {
          "base_uri": "https://localhost:8080/"
        },
        "id": "in-okG4qzHUx",
        "outputId": "16127e31-c281-4931-f3e3-c9d45b9c30bd"
      },
      "outputs": [
        {
          "output_type": "stream",
          "name": "stdout",
          "text": [
            "El diametro de la Tierra es 12742 kilometros\n"
          ]
        }
      ],
      "source": [
        "print('El diametro de la {} es {} kilometros'.format(planeta,diametro))"
      ]
    },
    {
      "cell_type": "markdown",
      "metadata": {
        "id": "8AvKwOkKzHUy"
      },
      "source": [
        "** Dada esta lista anidada, use la indexación para obtener la palabra \"hola\"**"
      ]
    },
    {
      "cell_type": "code",
      "execution_count": null,
      "metadata": {
        "id": "UlGSAO07zHUy"
      },
      "outputs": [],
      "source": [
        "lst = [1,2,[3,4],[5,[100,200,['hola']],23,11],1,7]"
      ]
    },
    {
      "cell_type": "code",
      "execution_count": null,
      "metadata": {
        "colab": {
          "base_uri": "https://localhost:8080/",
          "height": 35
        },
        "id": "KfDou801zHUy",
        "outputId": "8460ef57-2ed9-4491-9d66-05c4b5c383a5"
      },
      "outputs": [
        {
          "output_type": "execute_result",
          "data": {
            "text/plain": [
              "'hola'"
            ],
            "application/vnd.google.colaboratory.intrinsic+json": {
              "type": "string"
            }
          },
          "metadata": {},
          "execution_count": 10
        }
      ],
      "source": [
        "lst[3][1][2][0]"
      ]
    },
    {
      "cell_type": "markdown",
      "metadata": {
        "id": "ZzLbHtLEzHUy"
      },
      "source": [
        "** Dado este diccionario nido, tome la palabra \"hola\". Esté preparado, esto será molesto / complicado  **"
      ]
    },
    {
      "cell_type": "code",
      "execution_count": null,
      "metadata": {
        "id": "qKIoLHBazHUy"
      },
      "outputs": [],
      "source": [
        "d = {'k1':[1,2,3,{'dificil':['oh','man','inicio',{'destino':[1,2,3,'hola']}]}]}"
      ]
    },
    {
      "cell_type": "code",
      "execution_count": null,
      "metadata": {
        "colab": {
          "base_uri": "https://localhost:8080/",
          "height": 35
        },
        "id": "GqA11-r6zHUz",
        "outputId": "5562702b-d4d2-43f7-ef72-1c86f8ffb531"
      },
      "outputs": [
        {
          "output_type": "execute_result",
          "data": {
            "text/plain": [
              "'hola'"
            ],
            "application/vnd.google.colaboratory.intrinsic+json": {
              "type": "string"
            }
          },
          "metadata": {},
          "execution_count": 16
        }
      ],
      "source": [
        "d['k1'][3]['dificil'][3]['destino'][3]"
      ]
    },
    {
      "cell_type": "markdown",
      "metadata": {
        "id": "GVaMyl4jzHUz"
      },
      "source": [
        "** ¿Cuál es la principal diferencia entre una tupla y una lista? **"
      ]
    },
    {
      "cell_type": "code",
      "execution_count": null,
      "metadata": {
        "id": "zbF1cpn-zHUz"
      },
      "outputs": [],
      "source": [
        "que la tupla tiene elementos inmutables, en cambio, en la lista si se puede modificar sus elementos"
      ]
    },
    {
      "cell_type": "markdown",
      "metadata": {
        "id": "R2jEO38vzHUz"
      },
      "source": [
        "** Cree una función que tome el dominio del sitio web de correo electrónico a partir de una cadena con el siguiente formato: **\n",
        "\n",
        "    user@dominio.com\n",
        "    \n",
        "**Entonces, por ejemplo, pasando \"user@domain.com\" retornaria: domain.com**"
      ]
    },
    {
      "cell_type": "code",
      "execution_count": null,
      "metadata": {
        "id": "8BGngZl6zHUz"
      },
      "outputs": [],
      "source": [
        "def dominioGet(string):\n",
        "  return string.split('@')[1]"
      ]
    },
    {
      "cell_type": "code",
      "execution_count": null,
      "metadata": {
        "colab": {
          "base_uri": "https://localhost:8080/",
          "height": 35
        },
        "id": "hlX_RyG-zHUz",
        "outputId": "9ca60287-e933-44ba-865a-4568adcd6782"
      },
      "outputs": [
        {
          "output_type": "execute_result",
          "data": {
            "text/plain": [
              "'dominio.com'"
            ],
            "application/vnd.google.colaboratory.intrinsic+json": {
              "type": "string"
            }
          },
          "metadata": {},
          "execution_count": 28
        }
      ],
      "source": [
        "dominioGet('user@dominio.com')"
      ]
    },
    {
      "cell_type": "markdown",
      "metadata": {
        "id": "Lt3znS-nzHUz"
      },
      "source": [
        "** Cree una función básica que devuelva Verdadero si la palabra 'perro' está contenida en la cadena de entrada. No se preocupe por casos extremos como una puntuación que se adjunta a la palabra perro, pero tenga en cuenta las mayúsculas. **"
      ]
    },
    {
      "cell_type": "code",
      "execution_count": null,
      "metadata": {
        "id": "HjoljK5lzHUz"
      },
      "outputs": [],
      "source": [
        "def ubicaDog(perro):\n",
        "  l = perro.split()\n",
        "  for i in l:\n",
        "    if i == 'perro':\n",
        "      return True\n",
        "  return False"
      ]
    },
    {
      "cell_type": "code",
      "source": [
        "ubicaDog('Esta el perro aqui?')"
      ],
      "metadata": {
        "colab": {
          "base_uri": "https://localhost:8080/"
        },
        "id": "jNJa-sVR8gOu",
        "outputId": "0b64fce9-58b7-4d8d-87b9-0fd65214721a"
      },
      "execution_count": null,
      "outputs": [
        {
          "output_type": "execute_result",
          "data": {
            "text/plain": [
              "True"
            ]
          },
          "metadata": {},
          "execution_count": 33
        }
      ]
    },
    {
      "cell_type": "code",
      "execution_count": null,
      "metadata": {
        "id": "ebttrBgazHU0",
        "outputId": "d3a8bb11-1fe5-46c0-c025-2529fd96c6a1"
      },
      "outputs": [
        {
          "data": {
            "text/plain": [
              "True"
            ]
          },
          "execution_count": 16,
          "metadata": {},
          "output_type": "execute_result"
        }
      ],
      "source": [
        "ubicaDog('Esta el perro aqui?')"
      ]
    },
    {
      "cell_type": "markdown",
      "metadata": {
        "id": "0ZVmKBuOzHU0"
      },
      "source": [
        "** Cree una función que cuente el número de veces que aparece la palabra \"perro\" en una cadena. Nuevamente ignore los casos extremos. **"
      ]
    },
    {
      "cell_type": "code",
      "execution_count": null,
      "metadata": {
        "id": "lRZfCAC1zHU0"
      },
      "outputs": [],
      "source": [
        "def cuentaDog(perro):\n",
        "  l = perro.split()\n",
        "  cont = 0\n",
        "  for i in l:\n",
        "    if i == 'perro':\n",
        "      cont += 1\n",
        "  return cont"
      ]
    },
    {
      "cell_type": "code",
      "execution_count": null,
      "metadata": {
        "colab": {
          "base_uri": "https://localhost:8080/"
        },
        "id": "cFN0ZfELzHU0",
        "outputId": "3bb69ada-dfe3-437f-9cf5-4c0e8450569f"
      },
      "outputs": [
        {
          "output_type": "execute_result",
          "data": {
            "text/plain": [
              "2"
            ]
          },
          "metadata": {},
          "execution_count": 41
        }
      ],
      "source": [
        "cuentaDog('Este perro corre mas rapido que este otro perro no lo dudes!')"
      ]
    },
    {
      "cell_type": "markdown",
      "metadata": {
        "id": "gpch3mTXzHU0"
      },
      "source": [
        "** Utilice expresiones lambda y la función filter () para filtrar las palabras de una lista que comiencen con la letra 's'. Por ejemplo:**\n",
        "\n",
        "    seq = ['sopa','perro','salida','gato','excelente']\n",
        "\n",
        "**debe filtrarse solo:**\n",
        "\n",
        "    ['sopa','salida']"
      ]
    },
    {
      "cell_type": "code",
      "execution_count": null,
      "metadata": {
        "id": "oKuCnKrFzHU0"
      },
      "outputs": [],
      "source": [
        "seq = ['sopa','perro','salida','gato','excelente']"
      ]
    },
    {
      "cell_type": "code",
      "source": [
        "list(filter(lambda var: var.startswith('s'),seq))"
      ],
      "metadata": {
        "id": "K0dwCQb69KZ0",
        "colab": {
          "base_uri": "https://localhost:8080/"
        },
        "outputId": "e596725c-28c8-4756-b98a-0f25e7ffb541"
      },
      "execution_count": null,
      "outputs": [
        {
          "output_type": "execute_result",
          "data": {
            "text/plain": [
              "['sopa', 'salida']"
            ]
          },
          "metadata": {},
          "execution_count": 5
        }
      ]
    },
    {
      "cell_type": "markdown",
      "metadata": {
        "id": "tELiBrnDzHU1"
      },
      "source": [
        "### Ejercicio Final\n",
        "**Conduces demasiado rápido y un policía te detiene. Escribe una función para devolver uno de los 3 resultados posibles: \"Sin papeleta\", \"Papeleta NO GRAVE\" o \"Papeleta GRAVE\".\n",
        "   Si tu velocidad es de 60 o menos, el resultado es \"Sin papeleta\". Si la velocidad está entre 61\n",
        "   y 80 inclusive, el resultado es \"Papeleta NO GRAVE\". Si la velocidad es 81 o más, el resultado es \"Papeleta GRAVE\". A menos que sea tu cumpleaños (codificado como un valor booleano en los parámetros de la función), en tu cumpleaños, la velocidad puede ser 5 más alta en total de casos. **"
      ]
    },
    {
      "cell_type": "code",
      "execution_count": null,
      "metadata": {
        "id": "Ebo4S1iEzHU1"
      },
      "outputs": [],
      "source": [
        "def calcula_velocidad(velocidad, es_mi_cumple):\n",
        "  if velocidad <= 60 or (es_mi_cumple and velocidad <= 65):\n",
        "    print(\"Sin papeleta\")\n",
        "  elif velocidad <= 80 or (es_mi_cumple and velocidad <= 85):\n",
        "    print(\"Papeleta NO GRAVE\")\n",
        "  elif velocidad > 80 or (es_mi_cumple and velocidad > 85):\n",
        "    print(\"Papeleta GRAVE\")\n"
      ]
    },
    {
      "cell_type": "code",
      "execution_count": null,
      "metadata": {
        "id": "-3CLQOdZzHU1",
        "outputId": "f44291cb-f58e-4ce1-e39c-c600c608011c",
        "colab": {
          "base_uri": "https://localhost:8080/"
        }
      },
      "outputs": [
        {
          "output_type": "stream",
          "name": "stdout",
          "text": [
            "Papeleta NO GRAVE\n"
          ]
        }
      ],
      "source": [
        "calcula_velocidad(81,True)"
      ]
    },
    {
      "cell_type": "code",
      "execution_count": null,
      "metadata": {
        "id": "1aV7xyHtzHU1",
        "outputId": "c92140d4-963c-4d78-e4c9-f5030c10c578",
        "colab": {
          "base_uri": "https://localhost:8080/"
        }
      },
      "outputs": [
        {
          "output_type": "stream",
          "name": "stdout",
          "text": [
            "Papeleta GRAVE\n"
          ]
        }
      ],
      "source": [
        "calcula_velocidad(81,False)"
      ]
    },
    {
      "cell_type": "markdown",
      "metadata": {
        "id": "N2AKfP_yzHU1"
      },
      "source": [
        "# Buen trabajo!"
      ]
    }
  ],
  "metadata": {
    "kernelspec": {
      "display_name": "Python 3",
      "language": "python",
      "name": "python3"
    },
    "language_info": {
      "codemirror_mode": {
        "name": "ipython",
        "version": 3
      },
      "file_extension": ".py",
      "mimetype": "text/x-python",
      "name": "python",
      "nbconvert_exporter": "python",
      "pygments_lexer": "ipython3",
      "version": "3.8.5"
    },
    "colab": {
      "provenance": [],
      "include_colab_link": true
    }
  },
  "nbformat": 4,
  "nbformat_minor": 0
}