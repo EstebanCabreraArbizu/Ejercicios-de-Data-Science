{
  "cells": [
    {
      "cell_type": "markdown",
      "metadata": {
        "id": "view-in-github",
        "colab_type": "text"
      },
      "source": [
        "<a href=\"https://colab.research.google.com/github/EstebanCabreraArbizu/Ejercicios-de-R/blob/main/01-Python-Basico%5C01_Python_Basico.ipynb\" target=\"_parent\"><img src=\"https://colab.research.google.com/assets/colab-badge.svg\" alt=\"Open In Colab\"/></a>"
      ]
    },
    {
      "cell_type": "markdown",
      "metadata": {
        "id": "TX-Nob-9wsBe"
      },
      "source": [
        "___\n",
        "\n",
        "\n",
        "<a href='https://pregrado.upc.edu.pe/facultad-de-ingenieria/ciencias-de-la-computacion/'> <img src='https://tftransporteinternacional.files.wordpress.com/2014/06/76b3b-logoupc.png' with = 200, height = 100 /></a>\n",
        "\n",
        "<a href='https://jupyter-notebook.readthedocs.io/en/stable/examples/Notebook/Running%20Code.html'> <img src='https://www.python.org/static/img/python-logo.png' /></a>\n",
        "___\n",
        "# Python Curso Básico\n",
        "\n",
        "**El estudiante que ya domina Python puede pasar a resolver los ejercicios propuestos**\n",
        "\n",
        "Este cuaderno solo repasará los temas básicos en el siguiente orden:\n",
        "\n",
        "* Tipo de datos\n",
        "    * Numeros\n",
        "    * Cadenas\n",
        "    * Impresión\n",
        "    * Listas\n",
        "    * Diccionarios\n",
        "    * Booleans\n",
        "    * Tuplas\n",
        "    * Conjuntos\n",
        "* Operadores de Comparación\n",
        "* Estamentos if, elif, else \n",
        "* Bucle for\n",
        "* Bucle while\n",
        "* range()\n",
        "* comprension de listas\n",
        "* funciones\n",
        "* expresiones lambda\n",
        "* map y filter\n",
        "* metodos\n",
        "____"
      ]
    },
    {
      "cell_type": "markdown",
      "metadata": {
        "id": "e2Z6Nhh2wsBh"
      },
      "source": [
        "## Tipo de Datos\n",
        "\n",
        "### Numeros"
      ]
    },
    {
      "cell_type": "code",
      "execution_count": null,
      "metadata": {
        "id": "f1mF1McZwsBh",
        "outputId": "280ab01a-19a6-4455-e34d-5cd38642e90d"
      },
      "outputs": [
        {
          "data": {
            "text/plain": [
              "2"
            ]
          },
          "execution_count": 6,
          "metadata": {},
          "output_type": "execute_result"
        }
      ],
      "source": [
        "1 + 1"
      ]
    },
    {
      "cell_type": "code",
      "execution_count": null,
      "metadata": {
        "id": "wxqjqu9EwsBi",
        "outputId": "748d50e3-50b0-4a07-8b2a-398f1ecd8107"
      },
      "outputs": [
        {
          "data": {
            "text/plain": [
              "3"
            ]
          },
          "execution_count": 7,
          "metadata": {},
          "output_type": "execute_result"
        }
      ],
      "source": [
        "1 * 3"
      ]
    },
    {
      "cell_type": "code",
      "execution_count": null,
      "metadata": {
        "id": "0IXTDegewsBj",
        "outputId": "91edb01d-1082-4560-dd7e-5729ba2d82db"
      },
      "outputs": [
        {
          "data": {
            "text/plain": [
              "0.5"
            ]
          },
          "execution_count": 8,
          "metadata": {},
          "output_type": "execute_result"
        }
      ],
      "source": [
        "1 / 2"
      ]
    },
    {
      "cell_type": "code",
      "execution_count": null,
      "metadata": {
        "id": "M-y7a-f8wsBj",
        "outputId": "ac6f994b-566e-41d3-ef02-1326cff01edf"
      },
      "outputs": [
        {
          "data": {
            "text/plain": [
              "16"
            ]
          },
          "execution_count": 9,
          "metadata": {},
          "output_type": "execute_result"
        }
      ],
      "source": [
        "2 ** 4"
      ]
    },
    {
      "cell_type": "code",
      "execution_count": null,
      "metadata": {
        "id": "IX-cSYNJwsBj",
        "outputId": "9a10cd1c-1cf7-40f6-f681-cc40534eaf44"
      },
      "outputs": [
        {
          "data": {
            "text/plain": [
              "50"
            ]
          },
          "execution_count": 12,
          "metadata": {},
          "output_type": "execute_result"
        }
      ],
      "source": [
        "(2 + 3) * (5 + 5)"
      ]
    },
    {
      "cell_type": "markdown",
      "metadata": {
        "id": "BnpdVQwzwsBj"
      },
      "source": [
        "### Asignación de Variables"
      ]
    },
    {
      "cell_type": "code",
      "execution_count": null,
      "metadata": {
        "id": "HzXATVQlwsBk"
      },
      "outputs": [],
      "source": [
        "# No puede comenzar con números o caracteres especiales.\n",
        "num = 2"
      ]
    },
    {
      "cell_type": "code",
      "execution_count": null,
      "metadata": {
        "id": "W2snB5jmwsBk"
      },
      "outputs": [],
      "source": [
        "x = 2\n",
        "y = 3"
      ]
    },
    {
      "cell_type": "code",
      "execution_count": null,
      "metadata": {
        "collapsed": true,
        "id": "VEwbsHwhwsBk"
      },
      "outputs": [],
      "source": [
        "z = x + y"
      ]
    },
    {
      "cell_type": "code",
      "execution_count": null,
      "metadata": {
        "id": "cLq6WkcvwsBl",
        "outputId": "88b5c338-0d4d-46c6-cb07-d067b692a643"
      },
      "outputs": [
        {
          "data": {
            "text/plain": [
              "5"
            ]
          },
          "execution_count": 16,
          "metadata": {},
          "output_type": "execute_result"
        }
      ],
      "source": [
        "z"
      ]
    },
    {
      "cell_type": "markdown",
      "metadata": {
        "id": "hiVOwwFbwsBl"
      },
      "source": [
        "### Cadenas"
      ]
    },
    {
      "cell_type": "code",
      "execution_count": null,
      "metadata": {
        "id": "AuZb5vZGwsBl",
        "outputId": "ba982ca4-c325-4dae-c61f-06bb873d4f3f"
      },
      "outputs": [
        {
          "data": {
            "text/plain": [
              "'comillas simples'"
            ]
          },
          "execution_count": 3,
          "metadata": {},
          "output_type": "execute_result"
        }
      ],
      "source": [
        "'comillas simples'"
      ]
    },
    {
      "cell_type": "code",
      "execution_count": null,
      "metadata": {
        "id": "Kff09rbowsBl",
        "outputId": "29f78178-49ca-4f2e-d0d4-9a88a5c70341"
      },
      "outputs": [
        {
          "data": {
            "text/plain": [
              "'comillas dobles'"
            ]
          },
          "execution_count": 4,
          "metadata": {},
          "output_type": "execute_result"
        }
      ],
      "source": [
        "\"comillas dobles\""
      ]
    },
    {
      "cell_type": "code",
      "execution_count": null,
      "metadata": {
        "id": "2p4FeS20wsBl",
        "outputId": "817c7111-6166-4533-ca90-7aa4a94a9546"
      },
      "outputs": [
        {
          "data": {
            "text/plain": [
              "\" envolver 'muchas' otras citas\""
            ]
          },
          "execution_count": 5,
          "metadata": {},
          "output_type": "execute_result"
        }
      ],
      "source": [
        "\" envolver 'muchas' otras citas\""
      ]
    },
    {
      "cell_type": "markdown",
      "metadata": {
        "id": "R3K1yXc6wsBl"
      },
      "source": [
        "### Impresión"
      ]
    },
    {
      "cell_type": "code",
      "execution_count": null,
      "metadata": {
        "id": "g4nkNDKwwsBm"
      },
      "outputs": [],
      "source": [
        "x = 'hola'"
      ]
    },
    {
      "cell_type": "code",
      "execution_count": null,
      "metadata": {
        "id": "WQAETCVTwsBm",
        "outputId": "e649d06f-3a8e-4594-ecb9-23028a21d6a3"
      },
      "outputs": [
        {
          "data": {
            "text/plain": [
              "'hola'"
            ]
          },
          "execution_count": 7,
          "metadata": {},
          "output_type": "execute_result"
        }
      ],
      "source": [
        "x"
      ]
    },
    {
      "cell_type": "code",
      "execution_count": null,
      "metadata": {
        "id": "ems65XtswsBm",
        "outputId": "3b92f6cb-eee1-4501-ed5f-f18991289135"
      },
      "outputs": [
        {
          "name": "stdout",
          "output_type": "stream",
          "text": [
            "hola\n"
          ]
        }
      ],
      "source": [
        "print(x)"
      ]
    },
    {
      "cell_type": "code",
      "execution_count": null,
      "metadata": {
        "id": "JQPoBj_NwsBm"
      },
      "outputs": [],
      "source": [
        "num = 20\n",
        "name = 'Pedro'"
      ]
    },
    {
      "cell_type": "code",
      "execution_count": null,
      "metadata": {
        "id": "mM4awUF1wsBm",
        "outputId": "027011ee-f397-439f-a437-fe616152a5ed"
      },
      "outputs": [
        {
          "name": "stdout",
          "output_type": "stream",
          "text": [
            "Mi numero: 20, y mi nombre es: Pedro \n"
          ]
        }
      ],
      "source": [
        "print('Mi numero: {one}, y mi nombre es: {two} '.format(one=num,two=name))"
      ]
    },
    {
      "cell_type": "code",
      "execution_count": null,
      "metadata": {
        "id": "E3K_e4USwsBm",
        "outputId": "ee7d79f7-7cd7-440b-a920-39fa7a3aecd1"
      },
      "outputs": [
        {
          "name": "stdout",
          "output_type": "stream",
          "text": [
            "Mi numero: 20, y mi nombre es: Pedro\n"
          ]
        }
      ],
      "source": [
        "print('Mi numero: {}, y mi nombre es: {}'.format(num,name))"
      ]
    },
    {
      "cell_type": "markdown",
      "metadata": {
        "id": "-beKWHrhwsBn"
      },
      "source": [
        "### Listas"
      ]
    },
    {
      "cell_type": "code",
      "execution_count": null,
      "metadata": {
        "id": "Fo3oljlnwsBn",
        "outputId": "19593b09-8138-48cb-806c-e12afb13935e"
      },
      "outputs": [
        {
          "data": {
            "text/plain": [
              "[1, 2, 3]"
            ]
          },
          "execution_count": 14,
          "metadata": {},
          "output_type": "execute_result"
        }
      ],
      "source": [
        "[1,2,3]"
      ]
    },
    {
      "cell_type": "code",
      "execution_count": null,
      "metadata": {
        "id": "Fccyn_HKwsBn",
        "outputId": "8c2d6205-4268-4e75-a7a1-f8509698d7ea"
      },
      "outputs": [
        {
          "data": {
            "text/plain": [
              "['hola', 1, [1, 2]]"
            ]
          },
          "execution_count": 15,
          "metadata": {},
          "output_type": "execute_result"
        }
      ],
      "source": [
        "['hola',1,[1,2]]"
      ]
    },
    {
      "cell_type": "code",
      "execution_count": null,
      "metadata": {
        "id": "hFcVm0kdwsBn"
      },
      "outputs": [],
      "source": [
        "my_list = ['a','b','c']"
      ]
    },
    {
      "cell_type": "code",
      "execution_count": null,
      "metadata": {
        "id": "buWBDEntwsBn"
      },
      "outputs": [],
      "source": [
        "my_list.append('d')"
      ]
    },
    {
      "cell_type": "code",
      "execution_count": null,
      "metadata": {
        "id": "f8NCrYbBwsBn",
        "outputId": "a2327202-3280-413f-84ae-e671c7f0e0d9"
      },
      "outputs": [
        {
          "data": {
            "text/plain": [
              "['a', 'b', 'c', 'd']"
            ]
          },
          "execution_count": 18,
          "metadata": {},
          "output_type": "execute_result"
        }
      ],
      "source": [
        "my_list"
      ]
    },
    {
      "cell_type": "code",
      "execution_count": null,
      "metadata": {
        "id": "4heQiEJ_wsBn",
        "outputId": "640168f4-030c-4b06-976e-1240f6097a4a"
      },
      "outputs": [
        {
          "data": {
            "text/plain": [
              "'a'"
            ]
          },
          "execution_count": 19,
          "metadata": {},
          "output_type": "execute_result"
        }
      ],
      "source": [
        "my_list[0]"
      ]
    },
    {
      "cell_type": "code",
      "execution_count": null,
      "metadata": {
        "id": "pZEXQGeDwsBn",
        "outputId": "255a9267-71d4-47a2-bfc3-24430c8afb3d"
      },
      "outputs": [
        {
          "data": {
            "text/plain": [
              "'b'"
            ]
          },
          "execution_count": 20,
          "metadata": {},
          "output_type": "execute_result"
        }
      ],
      "source": [
        "my_list[1]"
      ]
    },
    {
      "cell_type": "code",
      "execution_count": null,
      "metadata": {
        "id": "8YPyP6elwsBo",
        "outputId": "88ac636f-b35e-4f82-c527-b1b8ce7ed1aa"
      },
      "outputs": [
        {
          "data": {
            "text/plain": [
              "['b', 'c', 'd']"
            ]
          },
          "execution_count": 21,
          "metadata": {},
          "output_type": "execute_result"
        }
      ],
      "source": [
        "my_list[1:]"
      ]
    },
    {
      "cell_type": "code",
      "execution_count": null,
      "metadata": {
        "id": "uaEV_RZFwsBo",
        "outputId": "f006397f-38d1-4b4a-9178-0a20a561cb65"
      },
      "outputs": [
        {
          "data": {
            "text/plain": [
              "['a']"
            ]
          },
          "execution_count": 22,
          "metadata": {},
          "output_type": "execute_result"
        }
      ],
      "source": [
        "my_list[:1]"
      ]
    },
    {
      "cell_type": "code",
      "execution_count": null,
      "metadata": {
        "id": "r1qVV5frwsBo"
      },
      "outputs": [],
      "source": [
        "my_list[0] = 'Nuevo'"
      ]
    },
    {
      "cell_type": "code",
      "execution_count": null,
      "metadata": {
        "id": "f1sDguJUwsBo",
        "outputId": "767fadf4-225f-487a-c29a-8ddfedfc7304"
      },
      "outputs": [
        {
          "data": {
            "text/plain": [
              "['Nuevo', 'b', 'c', 'd']"
            ]
          },
          "execution_count": 24,
          "metadata": {},
          "output_type": "execute_result"
        }
      ],
      "source": [
        "my_list"
      ]
    },
    {
      "cell_type": "code",
      "execution_count": null,
      "metadata": {
        "id": "-mz9k7bNwsBo"
      },
      "outputs": [],
      "source": [
        "nest = [1,2,3,[4,5,['destino']]]"
      ]
    },
    {
      "cell_type": "code",
      "execution_count": null,
      "metadata": {
        "id": "YXCzjwuxwsBo",
        "outputId": "32b3467c-a6f7-4e4d-86e0-6e1c8b0ee0cd"
      },
      "outputs": [
        {
          "data": {
            "text/plain": [
              "[4, 5, ['destino']]"
            ]
          },
          "execution_count": 26,
          "metadata": {},
          "output_type": "execute_result"
        }
      ],
      "source": [
        "nest[3]"
      ]
    },
    {
      "cell_type": "code",
      "execution_count": null,
      "metadata": {
        "id": "-VT_FstMwsBo",
        "outputId": "d9699b0c-15c5-4de9-f9db-6c09effb9bfc"
      },
      "outputs": [
        {
          "data": {
            "text/plain": [
              "['destino']"
            ]
          },
          "execution_count": 27,
          "metadata": {},
          "output_type": "execute_result"
        }
      ],
      "source": [
        "nest[3][2]"
      ]
    },
    {
      "cell_type": "code",
      "execution_count": null,
      "metadata": {
        "id": "iP3eKsNkwsBo",
        "outputId": "dac40c01-86b9-4a6a-e166-2d19129c9f2d"
      },
      "outputs": [
        {
          "data": {
            "text/plain": [
              "'destino'"
            ]
          },
          "execution_count": 28,
          "metadata": {},
          "output_type": "execute_result"
        }
      ],
      "source": [
        "nest[3][2][0]"
      ]
    },
    {
      "cell_type": "markdown",
      "metadata": {
        "id": "3YEfsaX_wsBx"
      },
      "source": [
        "### Diccionarios"
      ]
    },
    {
      "cell_type": "code",
      "execution_count": null,
      "metadata": {
        "id": "eSggz9HUwsBx"
      },
      "outputs": [],
      "source": [
        "d = {'key1':'item1','key2':'item2'}"
      ]
    },
    {
      "cell_type": "code",
      "execution_count": null,
      "metadata": {
        "id": "vbwiV-1cwsBx",
        "outputId": "84219812-de46-4861-9ba4-0d23ddf8b488"
      },
      "outputs": [
        {
          "data": {
            "text/plain": [
              "{'key1': 'item1', 'key2': 'item2'}"
            ]
          },
          "execution_count": 5,
          "metadata": {},
          "output_type": "execute_result"
        }
      ],
      "source": [
        "d"
      ]
    },
    {
      "cell_type": "code",
      "execution_count": null,
      "metadata": {
        "id": "2-dzOjdHwsBx",
        "outputId": "d4b5d506-2603-4182-83cd-91f28913e3f7"
      },
      "outputs": [
        {
          "data": {
            "text/plain": [
              "['item1', 'item2', 'item3']"
            ]
          },
          "execution_count": 58,
          "metadata": {},
          "output_type": "execute_result"
        }
      ],
      "source": [
        "d['key1']"
      ]
    },
    {
      "cell_type": "code",
      "execution_count": null,
      "metadata": {
        "id": "SmwzA_u-wsBx",
        "outputId": "8e6ed600-c332-41b9-d516-4f996ef75bef"
      },
      "outputs": [
        {
          "data": {
            "text/plain": [
              "['item1', 'item2', 'item3']"
            ]
          },
          "execution_count": 62,
          "metadata": {},
          "output_type": "execute_result"
        }
      ],
      "source": [
        "d['key1']"
      ]
    },
    {
      "cell_type": "markdown",
      "metadata": {
        "id": "a4Yk0yEtwsBx"
      },
      "source": [
        "### Booleans"
      ]
    },
    {
      "cell_type": "code",
      "execution_count": null,
      "metadata": {
        "id": "OY1vuR_KwsBy",
        "outputId": "995e65ee-3798-4c8a-d709-284fb22fcb93"
      },
      "outputs": [
        {
          "data": {
            "text/plain": [
              "True"
            ]
          },
          "execution_count": 32,
          "metadata": {},
          "output_type": "execute_result"
        }
      ],
      "source": [
        "True"
      ]
    },
    {
      "cell_type": "code",
      "execution_count": null,
      "metadata": {
        "id": "6FbTbjc1wsBy",
        "outputId": "b4333fb3-7f9e-4297-885f-5e8c02433b35"
      },
      "outputs": [
        {
          "data": {
            "text/plain": [
              "False"
            ]
          },
          "execution_count": 33,
          "metadata": {},
          "output_type": "execute_result"
        }
      ],
      "source": [
        "False"
      ]
    },
    {
      "cell_type": "markdown",
      "metadata": {
        "id": "33VEqhBwwsBy"
      },
      "source": [
        "### Tuplas"
      ]
    },
    {
      "cell_type": "code",
      "execution_count": null,
      "metadata": {
        "id": "YUTzLWtTwsBy"
      },
      "outputs": [],
      "source": [
        "t = (1,2,3)"
      ]
    },
    {
      "cell_type": "code",
      "execution_count": null,
      "metadata": {
        "id": "fLH3bh8SwsBy",
        "outputId": "c0bdfd55-aac3-4629-b912-9896a5b72877"
      },
      "outputs": [
        {
          "data": {
            "text/plain": [
              "1"
            ]
          },
          "execution_count": 35,
          "metadata": {},
          "output_type": "execute_result"
        }
      ],
      "source": [
        "t[0]"
      ]
    },
    {
      "cell_type": "code",
      "execution_count": null,
      "metadata": {
        "id": "k77lo2ATwsBy",
        "outputId": "e8284cb0-3331-40a4-a305-bf6430e82135"
      },
      "outputs": [
        {
          "ename": "TypeError",
          "evalue": "'tuple' object does not support item assignment",
          "output_type": "error",
          "traceback": [
            "\u001b[1;31m---------------------------------------------------------------------------\u001b[0m",
            "\u001b[1;31mTypeError\u001b[0m                                 Traceback (most recent call last)",
            "\u001b[1;32m<ipython-input-37-c554ffec4506>\u001b[0m in \u001b[0;36m<module>\u001b[1;34m\u001b[0m\n\u001b[1;32m----> 1\u001b[1;33m \u001b[0mt\u001b[0m\u001b[1;33m[\u001b[0m\u001b[1;36m0\u001b[0m\u001b[1;33m]\u001b[0m \u001b[1;33m=\u001b[0m \u001b[1;34m'Nuevo'\u001b[0m\u001b[1;33m\u001b[0m\u001b[1;33m\u001b[0m\u001b[0m\n\u001b[0m",
            "\u001b[1;31mTypeError\u001b[0m: 'tuple' object does not support item assignment"
          ]
        }
      ],
      "source": [
        "t[0] = 'Nuevo'"
      ]
    },
    {
      "cell_type": "markdown",
      "metadata": {
        "id": "COM9au18wsBy"
      },
      "source": [
        "### Conjuntos (Sets)"
      ]
    },
    {
      "cell_type": "code",
      "execution_count": null,
      "metadata": {
        "id": "fbog7B8HwsBz",
        "outputId": "7c91a145-044b-4ea5-944c-6c922856a6ed"
      },
      "outputs": [
        {
          "data": {
            "text/plain": [
              "{1, 2, 3}"
            ]
          },
          "execution_count": 63,
          "metadata": {},
          "output_type": "execute_result"
        }
      ],
      "source": [
        "{1,2,3}"
      ]
    },
    {
      "cell_type": "code",
      "execution_count": null,
      "metadata": {
        "id": "drGMP5dSwsBz",
        "outputId": "26d2fb2b-79c7-4641-a4da-dc8ed202f042"
      },
      "outputs": [
        {
          "data": {
            "text/plain": [
              "{1, 2, 3}"
            ]
          },
          "execution_count": 64,
          "metadata": {},
          "output_type": "execute_result"
        }
      ],
      "source": [
        "{1,2,3,1,2,1,2,3,3,3,3,2,2,2,1,1,2}"
      ]
    },
    {
      "cell_type": "markdown",
      "metadata": {
        "id": "JljLsYxhwsBz"
      },
      "source": [
        "## Comparison Operators"
      ]
    },
    {
      "cell_type": "code",
      "execution_count": null,
      "metadata": {
        "id": "JmP0XrwewsBz",
        "outputId": "19bf0126-f2d4-464c-b839-3eff475d70d5"
      },
      "outputs": [
        {
          "data": {
            "text/plain": [
              "False"
            ]
          },
          "execution_count": 65,
          "metadata": {},
          "output_type": "execute_result"
        }
      ],
      "source": [
        "1 > 2"
      ]
    },
    {
      "cell_type": "code",
      "execution_count": null,
      "metadata": {
        "id": "jIvpyI9NwsBz",
        "outputId": "31d34b8c-26f8-462a-a33f-7146c20c84b6"
      },
      "outputs": [
        {
          "data": {
            "text/plain": [
              "True"
            ]
          },
          "execution_count": 66,
          "metadata": {},
          "output_type": "execute_result"
        }
      ],
      "source": [
        "1 < 2"
      ]
    },
    {
      "cell_type": "code",
      "execution_count": null,
      "metadata": {
        "id": "yDLOgZJLwsBz",
        "outputId": "bc3ea1fe-79c2-4460-8356-ee787ce79fe1"
      },
      "outputs": [
        {
          "data": {
            "text/plain": [
              "True"
            ]
          },
          "execution_count": 67,
          "metadata": {},
          "output_type": "execute_result"
        }
      ],
      "source": [
        "1 >= 1"
      ]
    },
    {
      "cell_type": "code",
      "execution_count": null,
      "metadata": {
        "id": "CVFRTgzkwsBz",
        "outputId": "e423b866-78cd-4f0a-8a8b-19dae09fe7fb"
      },
      "outputs": [
        {
          "data": {
            "text/plain": [
              "True"
            ]
          },
          "execution_count": 50,
          "metadata": {},
          "output_type": "execute_result"
        }
      ],
      "source": [
        "1 <= 4"
      ]
    },
    {
      "cell_type": "code",
      "execution_count": null,
      "metadata": {
        "id": "0P_r8tYQwsB0",
        "outputId": "56be3749-9191-4156-fa87-f96a74dc6088"
      },
      "outputs": [
        {
          "data": {
            "text/plain": [
              "True"
            ]
          },
          "execution_count": 68,
          "metadata": {},
          "output_type": "execute_result"
        }
      ],
      "source": [
        "1 == 1"
      ]
    },
    {
      "cell_type": "code",
      "execution_count": null,
      "metadata": {
        "id": "35mdC1zwwsB0",
        "outputId": "91e54095-20f2-4183-97bc-6c8852c7793e"
      },
      "outputs": [
        {
          "data": {
            "text/plain": [
              "False"
            ]
          },
          "execution_count": 69,
          "metadata": {},
          "output_type": "execute_result"
        }
      ],
      "source": [
        "'hola' == 'chau'"
      ]
    },
    {
      "cell_type": "markdown",
      "metadata": {
        "id": "GIA5p7dWwsB0"
      },
      "source": [
        "## Operadores Lógicos"
      ]
    },
    {
      "cell_type": "code",
      "execution_count": null,
      "metadata": {
        "id": "0MqtbvQkwsB0",
        "outputId": "f61d9cee-d01d-47f0-ac93-35abaf0f2898"
      },
      "outputs": [
        {
          "data": {
            "text/plain": [
              "False"
            ]
          },
          "execution_count": 53,
          "metadata": {},
          "output_type": "execute_result"
        }
      ],
      "source": [
        "(1 > 2) and (2 < 3)"
      ]
    },
    {
      "cell_type": "code",
      "execution_count": null,
      "metadata": {
        "id": "b8LFnSOTwsB0",
        "outputId": "5e00b396-15c7-4afb-f4bb-31c7b5299616"
      },
      "outputs": [
        {
          "data": {
            "text/plain": [
              "True"
            ]
          },
          "execution_count": 54,
          "metadata": {},
          "output_type": "execute_result"
        }
      ],
      "source": [
        "(1 > 2) or (2 < 3)"
      ]
    },
    {
      "cell_type": "code",
      "execution_count": null,
      "metadata": {
        "id": "JFm1DNLjwsB0",
        "outputId": "4de193ab-b768-410f-be45-9d720811382f"
      },
      "outputs": [
        {
          "data": {
            "text/plain": [
              "True"
            ]
          },
          "execution_count": 55,
          "metadata": {},
          "output_type": "execute_result"
        }
      ],
      "source": [
        "(1 == 2) or (2 == 3) or (4 == 4)"
      ]
    },
    {
      "cell_type": "markdown",
      "metadata": {
        "id": "Pl9jPZgVwsB0"
      },
      "source": [
        "## Estamentos if,elif, else "
      ]
    },
    {
      "cell_type": "code",
      "execution_count": null,
      "metadata": {
        "id": "P_vumuwLwsB0",
        "outputId": "4b93b27c-2f65-42ec-b0ad-790e0cf07d13"
      },
      "outputs": [
        {
          "name": "stdout",
          "output_type": "stream",
          "text": [
            "Siiii!\n"
          ]
        }
      ],
      "source": [
        "if 1 < 2:\n",
        "    print('Siiii!')"
      ]
    },
    {
      "cell_type": "code",
      "execution_count": null,
      "metadata": {
        "id": "R4490DuTwsB1",
        "outputId": "9fce1262-99b3-4ee7-bed6-7cd60c0285c4"
      },
      "outputs": [
        {
          "name": "stdout",
          "output_type": "stream",
          "text": [
            "Noo!\n"
          ]
        }
      ],
      "source": [
        "if 1 < 3:\n",
        "    print('Noo!')"
      ]
    },
    {
      "cell_type": "code",
      "execution_count": null,
      "metadata": {
        "id": "WS5gePqiwsB1",
        "outputId": "307dee8d-f757-4e71-94f8-26b1a53cfb29"
      },
      "outputs": [
        {
          "name": "stdout",
          "output_type": "stream",
          "text": [
            "si\n"
          ]
        }
      ],
      "source": [
        "if 1 < 2:\n",
        "    print('si')\n",
        "else:\n",
        "    print('no')"
      ]
    },
    {
      "cell_type": "code",
      "execution_count": null,
      "metadata": {
        "id": "BD_bBekDwsB1",
        "outputId": "ef5ea009-561b-4488-8d1f-32b6670c1de7"
      },
      "outputs": [
        {
          "name": "stdout",
          "output_type": "stream",
          "text": [
            "no\n"
          ]
        }
      ],
      "source": [
        "if 1 > 2:\n",
        "    print('si')\n",
        "else:\n",
        "    print('no')"
      ]
    },
    {
      "cell_type": "code",
      "execution_count": null,
      "metadata": {
        "id": "GgrBpbz_wsB1",
        "outputId": "afbaf82e-392a-4f55-f0b4-185868d677f3"
      },
      "outputs": [
        {
          "name": "stdout",
          "output_type": "stream",
          "text": [
            "segunda rpta\n"
          ]
        }
      ],
      "source": [
        "if 1 == 2:\n",
        "    print('primera rpta')\n",
        "elif 3 == 3:\n",
        "    print('segunda rpta')\n",
        "else:\n",
        "    print('ultimas rpta')"
      ]
    },
    {
      "cell_type": "markdown",
      "metadata": {
        "id": "GN_hp7TUwsB2"
      },
      "source": [
        "## Bucle for"
      ]
    },
    {
      "cell_type": "code",
      "execution_count": null,
      "metadata": {
        "id": "GH74SpMfwsB2"
      },
      "outputs": [],
      "source": [
        "seq = [1,2,3,4,5]"
      ]
    },
    {
      "cell_type": "code",
      "execution_count": null,
      "metadata": {
        "id": "odkzb1FHwsB2",
        "outputId": "66478627-5810-4ac8-a002-dbc41fc4143c"
      },
      "outputs": [
        {
          "name": "stdout",
          "output_type": "stream",
          "text": [
            "1\n",
            "2\n",
            "3\n",
            "4\n",
            "5\n"
          ]
        }
      ],
      "source": [
        "for item in seq:\n",
        "    print(item)"
      ]
    },
    {
      "cell_type": "code",
      "execution_count": null,
      "metadata": {
        "id": "Sr330pObwsB2",
        "outputId": "bd92ae94-bb7b-4cef-e219-64c55acbfa7e"
      },
      "outputs": [
        {
          "name": "stdout",
          "output_type": "stream",
          "text": [
            "hola\n",
            "hola\n",
            "hola\n",
            "hola\n",
            "hola\n"
          ]
        }
      ],
      "source": [
        "for item in seq:\n",
        "    print('hola')"
      ]
    },
    {
      "cell_type": "code",
      "execution_count": null,
      "metadata": {
        "id": "BH98i6TZwsB2",
        "outputId": "e2997b1c-9ea4-4168-befd-2679abc73ca6"
      },
      "outputs": [
        {
          "name": "stdout",
          "output_type": "stream",
          "text": [
            "2\n",
            "4\n",
            "6\n",
            "8\n",
            "10\n"
          ]
        }
      ],
      "source": [
        "for j in seq:\n",
        "    print(j+j)"
      ]
    },
    {
      "cell_type": "markdown",
      "metadata": {
        "id": "PN2r4o3YwsB2"
      },
      "source": [
        "## Bucle while"
      ]
    },
    {
      "cell_type": "code",
      "execution_count": null,
      "metadata": {
        "id": "23To2wW9wsB2",
        "outputId": "cb9b5bd0-f80d-4521-eff0-a5c0e4ed542c"
      },
      "outputs": [
        {
          "name": "stdout",
          "output_type": "stream",
          "text": [
            "i es: 1\n",
            "i es: 2\n",
            "i es: 3\n",
            "i es: 4\n"
          ]
        }
      ],
      "source": [
        "i = 1\n",
        "while i < 5:\n",
        "    print('i es: {}'.format(i))\n",
        "    i = i+1"
      ]
    },
    {
      "cell_type": "markdown",
      "metadata": {
        "id": "FWomo-GywsB3"
      },
      "source": [
        "## range()"
      ]
    },
    {
      "cell_type": "code",
      "execution_count": null,
      "metadata": {
        "id": "ud6M2vAbwsB3",
        "outputId": "1aeddec1-60dd-45be-8931-ff6f110e94f0"
      },
      "outputs": [
        {
          "data": {
            "text/plain": [
              "range(0, 5)"
            ]
          },
          "execution_count": 88,
          "metadata": {},
          "output_type": "execute_result"
        }
      ],
      "source": [
        "range(5)"
      ]
    },
    {
      "cell_type": "code",
      "execution_count": null,
      "metadata": {
        "id": "ir_XNh7AwsB3",
        "outputId": "16247bf2-29e7-40ed-ca8e-56f67c451a4e"
      },
      "outputs": [
        {
          "name": "stdout",
          "output_type": "stream",
          "text": [
            "0\n",
            "1\n",
            "2\n",
            "3\n",
            "4\n"
          ]
        }
      ],
      "source": [
        "for i in range(5):\n",
        "    print(i)"
      ]
    },
    {
      "cell_type": "code",
      "execution_count": null,
      "metadata": {
        "id": "lGUu1ubqwsB3",
        "outputId": "cd9a2f97-c088-4757-9f48-28dbded91ee4"
      },
      "outputs": [
        {
          "data": {
            "text/plain": [
              "[0, 1, 2, 3, 4]"
            ]
          },
          "execution_count": 89,
          "metadata": {},
          "output_type": "execute_result"
        }
      ],
      "source": [
        "list(range(5))"
      ]
    },
    {
      "cell_type": "markdown",
      "metadata": {
        "id": "Nc_yxboswsB3"
      },
      "source": [
        "## Comprensión de listas"
      ]
    },
    {
      "cell_type": "code",
      "execution_count": null,
      "metadata": {
        "id": "xkr3TAMGwsB3"
      },
      "outputs": [],
      "source": [
        "x = [1,2,3,4]"
      ]
    },
    {
      "cell_type": "code",
      "execution_count": null,
      "metadata": {
        "id": "nEIcoFqUwsB3",
        "outputId": "aa0b14f0-eb65-43ca-c13f-b3820934b4ec"
      },
      "outputs": [
        {
          "name": "stdout",
          "output_type": "stream",
          "text": [
            "[1, 4, 9, 16]\n"
          ]
        }
      ],
      "source": [
        "out = []\n",
        "for item in x:\n",
        "    out.append(item**2)\n",
        "print(out)"
      ]
    },
    {
      "cell_type": "code",
      "execution_count": null,
      "metadata": {
        "id": "d6KxCTqCwsB3",
        "outputId": "3ae5eff8-e079-4def-c6ba-0ffd26e930cb"
      },
      "outputs": [
        {
          "data": {
            "text/plain": [
              "[1, 4, 9, 16]"
            ]
          },
          "execution_count": 93,
          "metadata": {},
          "output_type": "execute_result"
        }
      ],
      "source": [
        "[item**2 for item in x]"
      ]
    },
    {
      "cell_type": "code",
      "execution_count": null,
      "metadata": {
        "id": "Wrg5fc4KwsB4"
      },
      "outputs": [],
      "source": [
        "y = [item**2 for item in x]"
      ]
    },
    {
      "cell_type": "code",
      "execution_count": null,
      "metadata": {
        "id": "tHYk5GEZwsB4",
        "outputId": "be2ccae3-3668-4b0e-8e20-e885200b80c3"
      },
      "outputs": [
        {
          "data": {
            "text/plain": [
              "[1, 4, 9, 16]"
            ]
          },
          "execution_count": 96,
          "metadata": {},
          "output_type": "execute_result"
        }
      ],
      "source": [
        "y"
      ]
    },
    {
      "cell_type": "markdown",
      "metadata": {
        "id": "9T75R2IAwsB4"
      },
      "source": [
        "## Funciones"
      ]
    },
    {
      "cell_type": "code",
      "execution_count": null,
      "metadata": {
        "id": "4ven5dTKwsB4"
      },
      "outputs": [],
      "source": [
        "def my_func(param1='default'):\n",
        "    \"\"\"\n",
        "    Documentacion va aqui\n",
        "    \"\"\"\n",
        "    print(param1)"
      ]
    },
    {
      "cell_type": "code",
      "execution_count": null,
      "metadata": {
        "id": "-AMj9fVJwsB4",
        "outputId": "c26402a0-63d2-40c8-ec87-6374e52242f5"
      },
      "outputs": [
        {
          "data": {
            "text/plain": [
              "<function __main__.my_func(param1='default')>"
            ]
          },
          "execution_count": 98,
          "metadata": {},
          "output_type": "execute_result"
        }
      ],
      "source": [
        "my_func"
      ]
    },
    {
      "cell_type": "code",
      "execution_count": null,
      "metadata": {
        "id": "nsl3YJOEwsB4",
        "outputId": "2f448138-846b-4fc3-cbac-9911d5c0bcde"
      },
      "outputs": [
        {
          "name": "stdout",
          "output_type": "stream",
          "text": [
            "default\n"
          ]
        }
      ],
      "source": [
        "my_func()"
      ]
    },
    {
      "cell_type": "code",
      "execution_count": null,
      "metadata": {
        "id": "YAmcbLfEwsB4",
        "outputId": "4f5b2f50-4645-4485-dac8-e3d852d5a072"
      },
      "outputs": [
        {
          "name": "stdout",
          "output_type": "stream",
          "text": [
            "nuevo parametro\n"
          ]
        }
      ],
      "source": [
        "my_func('nuevo parametro')"
      ]
    },
    {
      "cell_type": "code",
      "execution_count": null,
      "metadata": {
        "id": "98oVRSRkwsB4",
        "outputId": "fa09b15b-b7d0-4438-da46-7a2453019289"
      },
      "outputs": [
        {
          "name": "stdout",
          "output_type": "stream",
          "text": [
            "nuevo parametro\n"
          ]
        }
      ],
      "source": [
        "my_func(param1='nuevo parametro')"
      ]
    },
    {
      "cell_type": "code",
      "execution_count": null,
      "metadata": {
        "id": "ukMdeMBywsB5"
      },
      "outputs": [],
      "source": [
        "def square(x):\n",
        "    return x**2"
      ]
    },
    {
      "cell_type": "code",
      "execution_count": null,
      "metadata": {
        "id": "cShS-jp6wsB5"
      },
      "outputs": [],
      "source": [
        "out = square(2)"
      ]
    },
    {
      "cell_type": "code",
      "execution_count": null,
      "metadata": {
        "scrolled": true,
        "id": "PGNLsEugwsB5",
        "outputId": "e03abf7a-bbae-4176-991e-077ea7afdeac"
      },
      "outputs": [
        {
          "name": "stdout",
          "output_type": "stream",
          "text": [
            "4\n"
          ]
        }
      ],
      "source": [
        "print(out)"
      ]
    },
    {
      "cell_type": "markdown",
      "metadata": {
        "id": "NkAEUYLZwsB5"
      },
      "source": [
        "## Expresiones lambda"
      ]
    },
    {
      "cell_type": "code",
      "execution_count": null,
      "metadata": {
        "id": "aYLt8Hf4wsB5"
      },
      "outputs": [],
      "source": [
        "def times2(var):\n",
        "    return var*2"
      ]
    },
    {
      "cell_type": "code",
      "execution_count": null,
      "metadata": {
        "id": "wAP41OiAwsB5",
        "outputId": "bd2e64bd-86f6-4f56-944e-cc052b21c223"
      },
      "outputs": [
        {
          "data": {
            "text/plain": [
              "4"
            ]
          },
          "execution_count": 106,
          "metadata": {},
          "output_type": "execute_result"
        }
      ],
      "source": [
        "times2(2)"
      ]
    },
    {
      "cell_type": "code",
      "execution_count": null,
      "metadata": {
        "id": "cCq2IvcNwsB5",
        "outputId": "083c9399-14b6-4e40-8d82-547bf34f03e3"
      },
      "outputs": [
        {
          "data": {
            "text/plain": [
              "<function __main__.<lambda>(var)>"
            ]
          },
          "execution_count": 109,
          "metadata": {},
          "output_type": "execute_result"
        }
      ],
      "source": [
        "lambda var: var*2"
      ]
    },
    {
      "cell_type": "markdown",
      "metadata": {
        "id": "S5e21aeIwsB5"
      },
      "source": [
        "## map y filter"
      ]
    },
    {
      "cell_type": "code",
      "execution_count": null,
      "metadata": {
        "id": "3MXZ_ubSwsB5"
      },
      "outputs": [],
      "source": [
        "seq = [1,2,3,4,5]"
      ]
    },
    {
      "cell_type": "code",
      "execution_count": null,
      "metadata": {
        "id": "ne54El2SwsB6",
        "outputId": "c7245f60-6900-41b7-8d52-db72845f58a8"
      },
      "outputs": [
        {
          "data": {
            "text/plain": [
              "<map at 0x14162624370>"
            ]
          },
          "execution_count": 111,
          "metadata": {},
          "output_type": "execute_result"
        }
      ],
      "source": [
        "map(times2,seq)"
      ]
    },
    {
      "cell_type": "code",
      "execution_count": null,
      "metadata": {
        "id": "XWopgU0YwsB6",
        "outputId": "91c4cbe6-69bf-4b13-bb9b-d3fa9954f5d2"
      },
      "outputs": [
        {
          "data": {
            "text/plain": [
              "[2, 4, 6, 8, 10]"
            ]
          },
          "execution_count": 85,
          "metadata": {},
          "output_type": "execute_result"
        }
      ],
      "source": [
        "list(map(times2,seq))"
      ]
    },
    {
      "cell_type": "code",
      "execution_count": null,
      "metadata": {
        "id": "SS1SOzv9wsB6",
        "outputId": "7a552c6c-4e4a-4f45-8d40-05503a31f827"
      },
      "outputs": [
        {
          "data": {
            "text/plain": [
              "[2, 4, 6, 8, 10]"
            ]
          },
          "execution_count": 86,
          "metadata": {},
          "output_type": "execute_result"
        }
      ],
      "source": [
        "list(map(lambda var: var*2,seq))"
      ]
    },
    {
      "cell_type": "code",
      "execution_count": null,
      "metadata": {
        "id": "DINFPtVkwsB6",
        "outputId": "a62d68c8-b0fa-4aac-f657-023893a5100d"
      },
      "outputs": [
        {
          "data": {
            "text/plain": [
              "<filter at 0x105316ac8>"
            ]
          },
          "execution_count": 87,
          "metadata": {},
          "output_type": "execute_result"
        }
      ],
      "source": [
        "filter(lambda item: item%2 == 0,seq)"
      ]
    },
    {
      "cell_type": "code",
      "execution_count": null,
      "metadata": {
        "id": "LQK5l7oWwsB6",
        "outputId": "9b03633e-6479-4649-b23d-03a2495d9fd0"
      },
      "outputs": [
        {
          "data": {
            "text/plain": [
              "[2, 4]"
            ]
          },
          "execution_count": 88,
          "metadata": {},
          "output_type": "execute_result"
        }
      ],
      "source": [
        "list(filter(lambda item: item%2 == 0,seq))"
      ]
    },
    {
      "cell_type": "markdown",
      "metadata": {
        "id": "1w5cIBIJwsB6"
      },
      "source": [
        "## Metodos"
      ]
    },
    {
      "cell_type": "code",
      "execution_count": null,
      "metadata": {
        "id": "QHcFZub3wsB6"
      },
      "outputs": [],
      "source": [
        "st = 'Hola mi nombre es Pat'"
      ]
    },
    {
      "cell_type": "code",
      "execution_count": null,
      "metadata": {
        "id": "0BnKHh5zwsB6",
        "outputId": "ed898c9f-bd1b-4149-d205-5d420b869a4a"
      },
      "outputs": [
        {
          "data": {
            "text/plain": [
              "'hola mi nombre es pat'"
            ]
          },
          "execution_count": 119,
          "metadata": {},
          "output_type": "execute_result"
        }
      ],
      "source": [
        "st.lower()"
      ]
    },
    {
      "cell_type": "code",
      "execution_count": null,
      "metadata": {
        "id": "wJYVLeifwsB7",
        "outputId": "b3105dfc-33c3-48ae-f827-f48e5fcc3385"
      },
      "outputs": [
        {
          "data": {
            "text/plain": [
              "'HOLA MI NOMBRE ES PAT'"
            ]
          },
          "execution_count": 120,
          "metadata": {},
          "output_type": "execute_result"
        }
      ],
      "source": [
        "st.upper()"
      ]
    },
    {
      "cell_type": "code",
      "execution_count": null,
      "metadata": {
        "id": "SbHsDrKtwsB7",
        "outputId": "c042bf21-e255-42c6-a63e-9b0e7d4e9ade"
      },
      "outputs": [
        {
          "data": {
            "text/plain": [
              "['Hola', 'mi', 'nombre', 'es', 'Pat']"
            ]
          },
          "execution_count": 121,
          "metadata": {},
          "output_type": "execute_result"
        }
      ],
      "source": [
        "st.split()"
      ]
    },
    {
      "cell_type": "code",
      "execution_count": null,
      "metadata": {
        "id": "qmoaBJyywsB7"
      },
      "outputs": [],
      "source": [
        "tweet = 'Vamos Peru! #SiSePuede'"
      ]
    },
    {
      "cell_type": "code",
      "execution_count": null,
      "metadata": {
        "id": "H8TtXKGTwsB7",
        "outputId": "ae3ba403-f8d9-4509-f8f5-426b52ee1686"
      },
      "outputs": [
        {
          "data": {
            "text/plain": [
              "['Vamos Peru! ', 'SiSePuede']"
            ]
          },
          "execution_count": 123,
          "metadata": {},
          "output_type": "execute_result"
        }
      ],
      "source": [
        "tweet.split('#')"
      ]
    },
    {
      "cell_type": "code",
      "execution_count": null,
      "metadata": {
        "id": "kYd4SiZiwsB7",
        "outputId": "4fa42837-137b-4f8c-b106-d9756da8659f"
      },
      "outputs": [
        {
          "data": {
            "text/plain": [
              "'SiSePuede'"
            ]
          },
          "execution_count": 124,
          "metadata": {},
          "output_type": "execute_result"
        }
      ],
      "source": [
        "tweet.split('#')[1]"
      ]
    },
    {
      "cell_type": "code",
      "execution_count": null,
      "metadata": {
        "id": "VmOZJxXUwsB7",
        "outputId": "3c1bf98f-b2e4-4fab-b218-758b1061a21a"
      },
      "outputs": [
        {
          "data": {
            "text/plain": [
              "{'key1': ['item1', 'item2', 'item3'], 'key2': 'item2'}"
            ]
          },
          "execution_count": 125,
          "metadata": {},
          "output_type": "execute_result"
        }
      ],
      "source": [
        "d"
      ]
    },
    {
      "cell_type": "code",
      "execution_count": null,
      "metadata": {
        "id": "F1vzqCMWwsB8",
        "outputId": "49664b62-7d2a-4ffa-bec4-e0f2d1a11f32"
      },
      "outputs": [
        {
          "data": {
            "text/plain": [
              "dict_keys(['key1', 'key2'])"
            ]
          },
          "execution_count": 126,
          "metadata": {},
          "output_type": "execute_result"
        }
      ],
      "source": [
        "d.keys()"
      ]
    },
    {
      "cell_type": "code",
      "execution_count": null,
      "metadata": {
        "id": "jZunWPlSwsB8",
        "outputId": "ceda1cb3-afd9-4e88-b7fb-4b0269593450"
      },
      "outputs": [
        {
          "data": {
            "text/plain": [
              "dict_items([('key1', ['item1', 'item2', 'item3']), ('key2', 'item2')])"
            ]
          },
          "execution_count": 127,
          "metadata": {},
          "output_type": "execute_result"
        }
      ],
      "source": [
        "d.items()"
      ]
    },
    {
      "cell_type": "code",
      "execution_count": null,
      "metadata": {
        "id": "VYDT4lWswsB8"
      },
      "outputs": [],
      "source": [
        "lst = [1,2,3]"
      ]
    },
    {
      "cell_type": "code",
      "execution_count": null,
      "metadata": {
        "id": "TWPEHXUkwsB8",
        "outputId": "3ea9538c-af0d-4cfe-cf16-ea8c108ec0c7"
      },
      "outputs": [
        {
          "data": {
            "text/plain": [
              "3"
            ]
          },
          "execution_count": 129,
          "metadata": {},
          "output_type": "execute_result"
        }
      ],
      "source": [
        "\"\"\"\n",
        "Remueve un item de una lista.  Si no se especifica, elimina el ultimo (index = -1)\n",
        "\"\"\"\n",
        "lst.pop()"
      ]
    },
    {
      "cell_type": "code",
      "execution_count": null,
      "metadata": {
        "id": "vHH8mVUtwsB8",
        "outputId": "aecfc0c5-8b19-4150-bc85-fbd7771849dc"
      },
      "outputs": [
        {
          "data": {
            "text/plain": [
              "[1, 2]"
            ]
          },
          "execution_count": 131,
          "metadata": {},
          "output_type": "execute_result"
        }
      ],
      "source": [
        "lst"
      ]
    },
    {
      "cell_type": "code",
      "execution_count": null,
      "metadata": {
        "id": "2ud8DMNlwsB8",
        "outputId": "1e32ed7a-9600-4a83-aff6-1aca6866364d"
      },
      "outputs": [
        {
          "data": {
            "text/plain": [
              "False"
            ]
          },
          "execution_count": 132,
          "metadata": {},
          "output_type": "execute_result"
        }
      ],
      "source": [
        "'x' in [1,2,3]"
      ]
    },
    {
      "cell_type": "code",
      "execution_count": null,
      "metadata": {
        "id": "JFV_IC_TwsB8",
        "outputId": "e47c2da6-eb3f-40af-ae2d-e4666e2dce25"
      },
      "outputs": [
        {
          "data": {
            "text/plain": [
              "True"
            ]
          },
          "execution_count": 133,
          "metadata": {},
          "output_type": "execute_result"
        }
      ],
      "source": [
        "'x' in ['x','y','z']"
      ]
    },
    {
      "cell_type": "markdown",
      "metadata": {
        "id": "mTk0pH7vwsB8"
      },
      "source": [
        "# Si llegaste hasta aqui, buen trabajo!\n",
        "Una guia mas completa se puede consultar en https://www.w3schools.com/python/python_operators.asp"
      ]
    }
  ],
  "metadata": {
    "kernelspec": {
      "display_name": "Python 3",
      "language": "python",
      "name": "python3"
    },
    "language_info": {
      "codemirror_mode": {
        "name": "ipython",
        "version": 3
      },
      "file_extension": ".py",
      "mimetype": "text/x-python",
      "name": "python",
      "nbconvert_exporter": "python",
      "pygments_lexer": "ipython3",
      "version": "3.8.5"
    },
    "colab": {
      "provenance": [],
      "include_colab_link": true
    }
  },
  "nbformat": 4,
  "nbformat_minor": 0
}